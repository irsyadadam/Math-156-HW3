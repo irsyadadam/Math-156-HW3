{
  "cells": [
    {
      "cell_type": "markdown",
      "source": [
        "#Math 156: Assignment 3 on NLP and RNNs\n",
        "\n",
        "Due midnight on **March 7th (Tuesday)**, which gives you 8 days.\n",
        "This is an individual assignment, however you are encouraged to ask questions via BruinLearn only (I have created a post for this assignment under Discussions). Healthy discussions and questions will be allowed, sharing of direct answers or code will not. Please make a copy of the assignment (into your own google drive), you will not be able to edit the original. The assignment contains many desriptions and links...when in doubt, read them. When in more doubt, google. This assignment has the standard late submission policy.\n",
        "\n",
        "In this notebook, we will consider a text classification task and try solving it with several basic NLP models: \n",
        "* bag-of-words + linear model\n",
        "* word2vec + linear model\n",
        "* recurrent neural networks\n",
        "* long short-term memories\n",
        "\n",
        "Particularly, we will be building a classifier which predicts whether a movie review is positive or negative. \n"
      ],
      "metadata": {
        "id": "MTDGAEZmr3BZ"
      }
    },
    {
      "cell_type": "markdown",
      "metadata": {
        "id": "kNkJ2HGViIrL"
      },
      "source": [
        "# Part 0: Download data\n",
        "\n",
        "A library called `dataget` is used to download data, as it provides a convenient interface for the dataset we want to use, [IMDB](https://ai.stanford.edu/~amaas/data/sentiment/). If you wish to work with your custom dataset, you can upload it to Google Colab directly, download it with `!wget <link_to_dataset>` or to search for libraries which can download it for you."
      ]
    },
    {
      "cell_type": "code",
      "execution_count": null,
      "metadata": {
        "id": "apWJLYBChEih",
        "colab": {
          "base_uri": "https://localhost:8080/"
        },
        "outputId": "a680b6cd-baf0-4c40-9806-3bd752123eca"
      },
      "outputs": [
        {
          "output_type": "stream",
          "name": "stdout",
          "text": [
            "Looking in indexes: https://pypi.org/simple, https://us-python.pkg.dev/colab-wheels/public/simple/\n",
            "Collecting dataget\n",
            "  Downloading dataget-0.4.15-py3-none-any.whl (16 kB)\n",
            "Requirement already satisfied: numpy<2.0.0,>=1.18.1 in /usr/local/lib/python3.8/dist-packages (from dataget) (1.22.4)\n",
            "Collecting aiofiles<0.5.0,>=0.4.0\n",
            "  Downloading aiofiles-0.4.0-py3-none-any.whl (9.2 kB)\n",
            "Requirement already satisfied: kaggle<2.0.0,>=1.5.6 in /usr/local/lib/python3.8/dist-packages (from dataget) (1.5.13)\n",
            "Collecting idx2numpy<2.0.0,>=1.2.2\n",
            "  Downloading idx2numpy-1.2.3.tar.gz (6.8 kB)\n",
            "  Preparing metadata (setup.py) ... \u001b[?25l\u001b[?25hdone\n",
            "Collecting httpx<0.12.0,>=0.11.1\n",
            "  Downloading httpx-0.11.1-py2.py3-none-any.whl (77 kB)\n",
            "\u001b[2K     \u001b[90m━━━━━━━━━━━━━━━━━━━━━━━━━━━━━━━━━━━━━━━━\u001b[0m \u001b[32m77.5/77.5 KB\u001b[0m \u001b[31m1.1 MB/s\u001b[0m eta \u001b[36m0:00:00\u001b[0m\n",
            "\u001b[?25hRequirement already satisfied: pandas<2.0.0,>=1.0.1 in /usr/local/lib/python3.8/dist-packages (from dataget) (1.3.5)\n",
            "Requirement already satisfied: tqdm<5.0.0,>=4.42.1 in /usr/local/lib/python3.8/dist-packages (from dataget) (4.64.1)\n",
            "Collecting rfc3986<2,>=1.3\n",
            "  Downloading rfc3986-1.5.0-py2.py3-none-any.whl (31 kB)\n",
            "Collecting hstspreload\n",
            "  Downloading hstspreload-2023.1.1-py3-none-any.whl (1.5 MB)\n",
            "\u001b[2K     \u001b[90m━━━━━━━━━━━━━━━━━━━━━━━━━━━━━━━━━━━━━━━━\u001b[0m \u001b[32m1.5/1.5 MB\u001b[0m \u001b[31m31.5 MB/s\u001b[0m eta \u001b[36m0:00:00\u001b[0m\n",
            "\u001b[?25hCollecting sniffio==1.*\n",
            "  Downloading sniffio-1.3.0-py3-none-any.whl (10 kB)\n",
            "Collecting h2==3.*\n",
            "  Downloading h2-3.2.0-py2.py3-none-any.whl (65 kB)\n",
            "\u001b[2K     \u001b[90m━━━━━━━━━━━━━━━━━━━━━━━━━━━━━━━━━━━━━━━━\u001b[0m \u001b[32m65.0/65.0 KB\u001b[0m \u001b[31m2.7 MB/s\u001b[0m eta \u001b[36m0:00:00\u001b[0m\n",
            "\u001b[?25hCollecting h11<0.10,>=0.8\n",
            "  Downloading h11-0.9.0-py2.py3-none-any.whl (53 kB)\n",
            "\u001b[2K     \u001b[90m━━━━━━━━━━━━━━━━━━━━━━━━━━━━━━━━━━━━━━━━\u001b[0m \u001b[32m53.6/53.6 KB\u001b[0m \u001b[31m1.0 MB/s\u001b[0m eta \u001b[36m0:00:00\u001b[0m\n",
            "\u001b[?25hRequirement already satisfied: certifi in /usr/local/lib/python3.8/dist-packages (from httpx<0.12.0,>=0.11.1->dataget) (2022.12.7)\n",
            "Collecting chardet==3.*\n",
            "  Downloading chardet-3.0.4-py2.py3-none-any.whl (133 kB)\n",
            "\u001b[2K     \u001b[90m━━━━━━━━━━━━━━━━━━━━━━━━━━━━━━━━━━━━━━━\u001b[0m \u001b[32m133.4/133.4 KB\u001b[0m \u001b[31m7.2 MB/s\u001b[0m eta \u001b[36m0:00:00\u001b[0m\n",
            "\u001b[?25hRequirement already satisfied: idna==2.* in /usr/local/lib/python3.8/dist-packages (from httpx<0.12.0,>=0.11.1->dataget) (2.10)\n",
            "Requirement already satisfied: urllib3==1.* in /usr/local/lib/python3.8/dist-packages (from httpx<0.12.0,>=0.11.1->dataget) (1.26.14)\n",
            "Collecting hyperframe<6,>=5.2.0\n",
            "  Downloading hyperframe-5.2.0-py2.py3-none-any.whl (12 kB)\n",
            "Collecting hpack<4,>=3.0\n",
            "  Downloading hpack-3.0.0-py2.py3-none-any.whl (38 kB)\n",
            "Requirement already satisfied: six in /usr/local/lib/python3.8/dist-packages (from idx2numpy<2.0.0,>=1.2.2->dataget) (1.15.0)\n",
            "Requirement already satisfied: python-dateutil in /usr/local/lib/python3.8/dist-packages (from kaggle<2.0.0,>=1.5.6->dataget) (2.8.2)\n",
            "Requirement already satisfied: python-slugify in /usr/local/lib/python3.8/dist-packages (from kaggle<2.0.0,>=1.5.6->dataget) (8.0.1)\n",
            "Requirement already satisfied: requests in /usr/local/lib/python3.8/dist-packages (from kaggle<2.0.0,>=1.5.6->dataget) (2.25.1)\n",
            "Requirement already satisfied: pytz>=2017.3 in /usr/local/lib/python3.8/dist-packages (from pandas<2.0.0,>=1.0.1->dataget) (2022.7.1)\n",
            "Requirement already satisfied: text-unidecode>=1.3 in /usr/local/lib/python3.8/dist-packages (from python-slugify->kaggle<2.0.0,>=1.5.6->dataget) (1.3)\n",
            "Building wheels for collected packages: idx2numpy\n",
            "  Building wheel for idx2numpy (setup.py) ... \u001b[?25l\u001b[?25hdone\n",
            "  Created wheel for idx2numpy: filename=idx2numpy-1.2.3-py3-none-any.whl size=7919 sha256=54be0a5677778c5a246a9b6b2b673c3fe123e1eeed3b3c177bd04befd0102d84\n",
            "  Stored in directory: /root/.cache/pip/wheels/27/40/a8/6447ee4a00cb87e2084e1ef1df5c38433720cc1090be082842\n",
            "Successfully built idx2numpy\n",
            "Installing collected packages: rfc3986, hyperframe, hpack, h11, chardet, aiofiles, sniffio, idx2numpy, hstspreload, h2, httpx, dataget\n",
            "  Attempting uninstall: chardet\n",
            "    Found existing installation: chardet 4.0.0\n",
            "    Uninstalling chardet-4.0.0:\n",
            "      Successfully uninstalled chardet-4.0.0\n",
            "Successfully installed aiofiles-0.4.0 chardet-3.0.4 dataget-0.4.15 h11-0.9.0 h2-3.2.0 hpack-3.0.0 hstspreload-2023.1.1 httpx-0.11.1 hyperframe-5.2.0 idx2numpy-1.2.3 rfc3986-1.5.0 sniffio-1.3.0\n"
          ]
        }
      ],
      "source": [
        "!pip install dataget\n",
        "# Google Colab has only some of python libraries preinstalled\n",
        "# others can be downloaded with pip, ! means using a command line tool"
      ]
    },
    {
      "cell_type": "code",
      "execution_count": null,
      "metadata": {
        "id": "ziE2cDe9ebZP",
        "colab": {
          "base_uri": "https://localhost:8080/"
        },
        "outputId": "08751e6a-fa41-441c-ad4c-65364ecb3abc"
      },
      "outputs": [
        {
          "output_type": "stream",
          "name": "stderr",
          "text": [
            "Downloading aclImdb_v1.tar.gz:100%|██████████|80.23MB/80.23MB [00:21<00:00, 3.73MB/s]\n",
            "Extracting aclImdb_v1.tar.gz: 100%|██████████| 100019/100019 [00:18<00:00, 5282.40it/s]\n"
          ]
        }
      ],
      "source": [
        "import dataget\n",
        "\n",
        "df_train, df_test = dataget.text.imdb_reviews().get()\n",
        "\n",
        "df_train.reset_index(drop=True, inplace=True)"
      ]
    },
    {
      "cell_type": "code",
      "execution_count": null,
      "metadata": {
        "colab": {
          "base_uri": "https://localhost:8080/",
          "height": 206
        },
        "id": "68CS4ftXhrPe",
        "outputId": "f10d5a72-1706-46fa-dfb3-a275b86cc811"
      },
      "outputs": [
        {
          "output_type": "execute_result",
          "data": {
            "text/plain": [
              "                                           text_path  \\\n",
              "0  data/text_imdb_reviews/aclImdb/train/pos/8754_...   \n",
              "1  data/text_imdb_reviews/aclImdb/train/pos/1930_...   \n",
              "2  data/text_imdb_reviews/aclImdb/train/pos/132_9...   \n",
              "3  data/text_imdb_reviews/aclImdb/train/pos/6164_...   \n",
              "4  data/text_imdb_reviews/aclImdb/train/pos/4870_...   \n",
              "\n",
              "                                                text  label  \n",
              "0  I watched this movie 11 years ago in company w...      1  \n",
              "1  This film is hilarious, original, & beautifull...      1  \n",
              "2  Storyline: Max von Sydow's voice-over narratio...      1  \n",
              "3  Are we really making 'video nasties' again? In...      1  \n",
              "4  The movie celebrates life.<br /><br />The worl...      1  "
            ],
            "text/html": [
              "\n",
              "  <div id=\"df-a865cc50-f09e-4d44-8ec9-ce052b7322ec\">\n",
              "    <div class=\"colab-df-container\">\n",
              "      <div>\n",
              "<style scoped>\n",
              "    .dataframe tbody tr th:only-of-type {\n",
              "        vertical-align: middle;\n",
              "    }\n",
              "\n",
              "    .dataframe tbody tr th {\n",
              "        vertical-align: top;\n",
              "    }\n",
              "\n",
              "    .dataframe thead th {\n",
              "        text-align: right;\n",
              "    }\n",
              "</style>\n",
              "<table border=\"1\" class=\"dataframe\">\n",
              "  <thead>\n",
              "    <tr style=\"text-align: right;\">\n",
              "      <th></th>\n",
              "      <th>text_path</th>\n",
              "      <th>text</th>\n",
              "      <th>label</th>\n",
              "    </tr>\n",
              "  </thead>\n",
              "  <tbody>\n",
              "    <tr>\n",
              "      <th>0</th>\n",
              "      <td>data/text_imdb_reviews/aclImdb/train/pos/8754_...</td>\n",
              "      <td>I watched this movie 11 years ago in company w...</td>\n",
              "      <td>1</td>\n",
              "    </tr>\n",
              "    <tr>\n",
              "      <th>1</th>\n",
              "      <td>data/text_imdb_reviews/aclImdb/train/pos/1930_...</td>\n",
              "      <td>This film is hilarious, original, &amp; beautifull...</td>\n",
              "      <td>1</td>\n",
              "    </tr>\n",
              "    <tr>\n",
              "      <th>2</th>\n",
              "      <td>data/text_imdb_reviews/aclImdb/train/pos/132_9...</td>\n",
              "      <td>Storyline: Max von Sydow's voice-over narratio...</td>\n",
              "      <td>1</td>\n",
              "    </tr>\n",
              "    <tr>\n",
              "      <th>3</th>\n",
              "      <td>data/text_imdb_reviews/aclImdb/train/pos/6164_...</td>\n",
              "      <td>Are we really making 'video nasties' again? In...</td>\n",
              "      <td>1</td>\n",
              "    </tr>\n",
              "    <tr>\n",
              "      <th>4</th>\n",
              "      <td>data/text_imdb_reviews/aclImdb/train/pos/4870_...</td>\n",
              "      <td>The movie celebrates life.&lt;br /&gt;&lt;br /&gt;The worl...</td>\n",
              "      <td>1</td>\n",
              "    </tr>\n",
              "  </tbody>\n",
              "</table>\n",
              "</div>\n",
              "      <button class=\"colab-df-convert\" onclick=\"convertToInteractive('df-a865cc50-f09e-4d44-8ec9-ce052b7322ec')\"\n",
              "              title=\"Convert this dataframe to an interactive table.\"\n",
              "              style=\"display:none;\">\n",
              "        \n",
              "  <svg xmlns=\"http://www.w3.org/2000/svg\" height=\"24px\"viewBox=\"0 0 24 24\"\n",
              "       width=\"24px\">\n",
              "    <path d=\"M0 0h24v24H0V0z\" fill=\"none\"/>\n",
              "    <path d=\"M18.56 5.44l.94 2.06.94-2.06 2.06-.94-2.06-.94-.94-2.06-.94 2.06-2.06.94zm-11 1L8.5 8.5l.94-2.06 2.06-.94-2.06-.94L8.5 2.5l-.94 2.06-2.06.94zm10 10l.94 2.06.94-2.06 2.06-.94-2.06-.94-.94-2.06-.94 2.06-2.06.94z\"/><path d=\"M17.41 7.96l-1.37-1.37c-.4-.4-.92-.59-1.43-.59-.52 0-1.04.2-1.43.59L10.3 9.45l-7.72 7.72c-.78.78-.78 2.05 0 2.83L4 21.41c.39.39.9.59 1.41.59.51 0 1.02-.2 1.41-.59l7.78-7.78 2.81-2.81c.8-.78.8-2.07 0-2.86zM5.41 20L4 18.59l7.72-7.72 1.47 1.35L5.41 20z\"/>\n",
              "  </svg>\n",
              "      </button>\n",
              "      \n",
              "  <style>\n",
              "    .colab-df-container {\n",
              "      display:flex;\n",
              "      flex-wrap:wrap;\n",
              "      gap: 12px;\n",
              "    }\n",
              "\n",
              "    .colab-df-convert {\n",
              "      background-color: #E8F0FE;\n",
              "      border: none;\n",
              "      border-radius: 50%;\n",
              "      cursor: pointer;\n",
              "      display: none;\n",
              "      fill: #1967D2;\n",
              "      height: 32px;\n",
              "      padding: 0 0 0 0;\n",
              "      width: 32px;\n",
              "    }\n",
              "\n",
              "    .colab-df-convert:hover {\n",
              "      background-color: #E2EBFA;\n",
              "      box-shadow: 0px 1px 2px rgba(60, 64, 67, 0.3), 0px 1px 3px 1px rgba(60, 64, 67, 0.15);\n",
              "      fill: #174EA6;\n",
              "    }\n",
              "\n",
              "    [theme=dark] .colab-df-convert {\n",
              "      background-color: #3B4455;\n",
              "      fill: #D2E3FC;\n",
              "    }\n",
              "\n",
              "    [theme=dark] .colab-df-convert:hover {\n",
              "      background-color: #434B5C;\n",
              "      box-shadow: 0px 1px 3px 1px rgba(0, 0, 0, 0.15);\n",
              "      filter: drop-shadow(0px 1px 2px rgba(0, 0, 0, 0.3));\n",
              "      fill: #FFFFFF;\n",
              "    }\n",
              "  </style>\n",
              "\n",
              "      <script>\n",
              "        const buttonEl =\n",
              "          document.querySelector('#df-a865cc50-f09e-4d44-8ec9-ce052b7322ec button.colab-df-convert');\n",
              "        buttonEl.style.display =\n",
              "          google.colab.kernel.accessAllowed ? 'block' : 'none';\n",
              "\n",
              "        async function convertToInteractive(key) {\n",
              "          const element = document.querySelector('#df-a865cc50-f09e-4d44-8ec9-ce052b7322ec');\n",
              "          const dataTable =\n",
              "            await google.colab.kernel.invokeFunction('convertToInteractive',\n",
              "                                                     [key], {});\n",
              "          if (!dataTable) return;\n",
              "\n",
              "          const docLinkHtml = 'Like what you see? Visit the ' +\n",
              "            '<a target=\"_blank\" href=https://colab.research.google.com/notebooks/data_table.ipynb>data table notebook</a>'\n",
              "            + ' to learn more about interactive tables.';\n",
              "          element.innerHTML = '';\n",
              "          dataTable['output_type'] = 'display_data';\n",
              "          await google.colab.output.renderOutput(dataTable, element);\n",
              "          const docLink = document.createElement('div');\n",
              "          docLink.innerHTML = docLinkHtml;\n",
              "          element.appendChild(docLink);\n",
              "        }\n",
              "      </script>\n",
              "    </div>\n",
              "  </div>\n",
              "  "
            ]
          },
          "metadata": {},
          "execution_count": 3
        }
      ],
      "source": [
        "df_train.head()\n",
        "# we will need a \"text\" field and a \"label\" field"
      ]
    },
    {
      "cell_type": "code",
      "execution_count": null,
      "metadata": {
        "colab": {
          "base_uri": "https://localhost:8080/"
        },
        "id": "FX-rLeekg9Qs",
        "outputId": "3ff7b7f4-d95f-4eb3-c856-3c027d376463"
      },
      "outputs": [
        {
          "output_type": "execute_result",
          "data": {
            "text/plain": [
              "1    12500\n",
              "0    12500\n",
              "Name: label, dtype: int64"
            ]
          },
          "metadata": {},
          "execution_count": 4
        }
      ],
      "source": [
        "# are positive and negative classes balanced? -> yes\n",
        "df_test[\"label\"].value_counts()"
      ]
    },
    {
      "cell_type": "markdown",
      "metadata": {
        "id": "Fx_XYyOBiMMJ"
      },
      "source": [
        "# Part 1: Preprocessing and Bag-of-words + Linear classificaion"
      ]
    },
    {
      "cell_type": "code",
      "execution_count": null,
      "metadata": {
        "id": "Pget7Z3kvQc0"
      },
      "outputs": [],
      "source": [
        "# load libraries commonly used in machine learning\n",
        "import pandas as pd\n",
        "import numpy as np\n",
        "from matplotlib import pyplot as plt\n",
        "%matplotlib inline"
      ]
    },
    {
      "cell_type": "markdown",
      "metadata": {
        "id": "GR_b42VzoKE6"
      },
      "source": [
        "Examples of texts:"
      ]
    },
    {
      "cell_type": "code",
      "execution_count": null,
      "metadata": {
        "colab": {
          "base_uri": "https://localhost:8080/"
        },
        "id": "77WwxE_7iR1m",
        "outputId": "a1ce7e2b-47d2-4e0c-f5cc-df7ab478cf38"
      },
      "outputs": [
        {
          "output_type": "execute_result",
          "data": {
            "text/plain": [
              "array(['TOM HULCE* turns in yet another Oscar-worthy performance as Dominick Luciano, the brain-damaged garbage man who\\'s helping put his brother (Ray Liotta as Eugene) through medical school.<br /><br />This is a must-see for all movie lovers and all lovers of life and people!<br /><br />===========> *From the small studder to the eratic dancing, to the repeated words \"Oh, Jeez\" whenever Nicky is in a bind, the belieavablitly of Tom\\'s performance is so excellent that you will have to concentrate to remember that it\\'s an actor on screen!',\n",
              "       'This film deals with the atrocity in Derry 30 years ago which is commonly known as Bloody Sunday.<br /><br />The film is well researched, acted and directed. It is as close to the truth as we will get until the outcome of the Saville enquiry. The film puts the atrocity into context of the time. It also shows the savagery of the soldiers on the day of the atrocity. The disgraceful white-wash that was the Widgery Tribunal is also dealt with.<br /><br />Overall, this is an excellent drama which is moving and shocking. When the Saville report comes out, watch this film again to see how close to the truth it is.',\n",
              "       '<br /><br />I take issue with the other reviewer\\'s comments for the simple reason that this is a MYSTERY FILM, not a supernatural one! It is not the only film to have a seemingly \"supernatural\" explanation (\"vampires\"), but turns out to be a very mundance one.<br /><br />Other films that come to mind are Edgar Wallace\\'s \"Before Dawn\" and the (more famous) \"Mark of the Vampire\". <br /><br />The film does a WONDERFUL job in creating a very \"spooky atmosphere\", similar DRACULA, when Renfield meets the Count on the staircase of his castle, or in MARK OF THE VAMPIRE, when the two people look thru the windows of the castle ruins and see a \"corpse\" playing an organ, while Luna descends using wings! VERY surreal!<br /><br />If one likes these (often silent) atmospheric touches, THIS film is a MUST!<br /><br />Norm Vogel',\n",
              "       \"After playing a nymphomaniac in WRITTEN ON THE WIND, Dorothy Malone finally said good-bye to her sweet sister/wife roles and demonstrated an ability to play mantraps with the best of them. She and Gloria Grahame played the same sort of tramps--and for her efforts here in a very manipulative role, Malone won a Best Supporting Actress Oscar.<br /><br />The film she's in is not quite up to Oscar standards, but it is a strong enough melodrama under Douglas Sirk's capable hands. There's an almost noirish look to the explosive opening scene and it sets the tone for the rest of the sudsy fireworks in a story that has ROCK HUDSON, LAUREN BACALL, ROBERT STACK and DOROTHY MALONE as its headliners.<br /><br />Domestic squabbles among the inhabitants of a wealthy family with an oil background are the primary focus of the drama, with the accent on the strong supporting players, Stack and Malone. Both of them seize the opportunity with both hands and Stack, too, should have been awarded for his sterling job as the weak, alcoholic brother driven to desperation by his own wild motives.<br /><br />The nominal stars have less impressive work to do, but do it with their usual skill and conviction--Hudson and Bacall. They play their more sympathetic roles with quiet authority and understanding.<br /><br />The use of color is particularly striking (as it usually is in a Sirk film) and yet it doesn't preclude me from thinking of the film as a Technicolor film noir in the vein of LEAVE HER TO HEAVEN.<br /><br />Well worth watching with some interesting performances from the entire cast.\"],\n",
              "      dtype=object)"
            ]
          },
          "metadata": {},
          "execution_count": 6
        }
      ],
      "source": [
        "df_train[\"text\"][[345, 134, 112, 10000]].values"
      ]
    },
    {
      "cell_type": "markdown",
      "metadata": {
        "id": "EhhuUY0ooOvy"
      },
      "source": [
        "Preprocessing: let's remove tags, punctuation and apply lowercasing. [3 points]\n",
        "\n",
        "__Tools:__ for preprocessing, module `re` is commonly used. Actually, whatever you need to do with textual data, the easiest way is to google each step and copy commands from the first (usually StackOverflow) link :)"
      ]
    },
    {
      "cell_type": "code",
      "execution_count": null,
      "metadata": {
        "colab": {
          "base_uri": "https://localhost:8080/"
        },
        "id": "Ss4mk9l0lB75",
        "outputId": "723ca70e-d799-4050-e154-7b7ad0b39a55"
      },
      "outputs": [
        {
          "output_type": "stream",
          "name": "stdout",
          "text": [
            "Example of a preprocessed text:\n",
            "br br i take issue with the other reviewers comments for the simple reason that this is a mystery film not a supernatural one it is not the only film to have a seemingly supernatural explanation vampires but turns out to be a very mundance onebr br other films that come to mind are edgar wallaces before dawn and the more famous mark of the vampire br br the film does a wonderful job in creating a very spooky atmosphere similar dracula when renfield meets the count on the staircase of his castle or in mark of the vampire when the two people look thru the windows of the castle ruins and see a corpse playing an organ while luna descends using wings very surrealbr br if one likes these often silent atmospheric touches this film is a mustbr br norm vogel\n"
          ]
        }
      ],
      "source": [
        "import re, string\n",
        "\n",
        "def process_string(text):\n",
        "    temp = ''.join(char for char in text if char not in '<>')\n",
        "    temp = temp.translate(str.maketrans('', '', string.punctuation)).lower()\n",
        "    text = ' '.join(temp.split())\n",
        "    return text\n",
        "\n",
        "# demo\n",
        "print(\"Example of a preprocessed text:\")\n",
        "print(process_string(df_train[\"text\"][112]))"
      ]
    },
    {
      "cell_type": "code",
      "source": [
        "# after having a working process_string, apply your function to train and test datasets\n",
        "df_train[\"text\"] = df_train[\"text\"].apply(process_string)\n",
        "df_test[\"text\"] = df_test[\"text\"].apply(process_string)"
      ],
      "metadata": {
        "id": "cFM_v6UrrBHN"
      },
      "execution_count": null,
      "outputs": []
    },
    {
      "cell_type": "markdown",
      "metadata": {
        "id": "XrT7hI11oSM7"
      },
      "source": [
        "Let's build a simplest model: bag-of-words [10 points] + linear classification [10 points]\n",
        "\n",
        "__Tools__: for this task, `sklearn` is the most common choice. We have discussed both these concepts in class, but a more detailed tutorial on text classification with bag of words and linear models in `sklearn` can be found [here](https://scikit-learn.org/stable/tutorial/text_analytics/working_with_text_data.html)."
      ]
    },
    {
      "cell_type": "code",
      "execution_count": null,
      "metadata": {
        "colab": {
          "base_uri": "https://localhost:8080/"
        },
        "id": "qlWTbndfn7Gb",
        "outputId": "2ae89981-a68b-458f-ac5d-82fb9f88e53d"
      },
      "outputs": [
        {
          "output_type": "stream",
          "name": "stdout",
          "text": [
            "Train shape: (25000, 30099) Test shape: (25000, 30099)\n"
          ]
        }
      ],
      "source": [
        "# 1. bag-of-words extractor (5 points)\n",
        "from sklearn.feature_extraction.text import CountVectorizer\n",
        "\n",
        "count_vect = CountVectorizer(min_df=5)\n",
        "X_train, X_test = df_train[\"text\"], df_test[\"text\"]\n",
        "\n",
        "X_train_counts = count_vect.fit_transform(X_train)\n",
        "X_test_counts = count_vect.transform(X_test)\n",
        "\n",
        "print(\"Train shape:\", X_train_counts.shape, \"Test shape:\", X_test_counts.shape)"
      ]
    },
    {
      "cell_type": "code",
      "source": [
        "# 2. logistic regression (5 points)\n",
        "y_train = df_train[\"label\"]\n",
        "y_test = df_test[\"label\"]\n",
        "\n",
        "from sklearn.linear_model import LogisticRegression\n",
        "from sklearn.metrics import accuracy_score\n",
        "\n",
        "model = LogisticRegression(max_iter = 5000)\n",
        "model.fit(X_train_counts, y_train)\n",
        "y_pred = model.predict(X_test_counts)\n",
        "print(\"Accuracy:\", accuracy_score(y_test, y_pred))"
      ],
      "metadata": {
        "id": "D-kt_xoe8QNi",
        "colab": {
          "base_uri": "https://localhost:8080/"
        },
        "outputId": "374a0ab9-c291-4603-8071-6cffe097912c"
      },
      "execution_count": null,
      "outputs": [
        {
          "output_type": "stream",
          "name": "stdout",
          "text": [
            "Accuracy: 0.86912\n"
          ]
        }
      ]
    },
    {
      "cell_type": "markdown",
      "metadata": {
        "id": "OGRvTYaRr27x"
      },
      "source": [
        "Some explanations:\n",
        "* We talked about bag of words as an early pass (before word-2-vec). Recall that each sentence is a vector of size = # of words in the text corpus. And values are integer values denoting count of each word in that sentence.\n",
        "* We talked about logistic regression early in the course (linear regression+sigmoid). This is NOT a deep neural network model. So your model does not have layer after layer. When in doubt, google how to initialize a model.\n",
        "* In bag of words, we decided to specify `min_df=5` (only keep words which occured in at least 5 documents): the linear model's weight for rare words will be updated very rarely and will not go far from the initial random initialization. You can play around with this, and see what it does to very rare words.\n",
        "* `X_train_counts` and `X_test_counts` are matrices which contain a lot of 0's and only a small amount of other integers\n",
        "* There quite a lot of hyperparameters in `CountVectorizer` and `LogisticRegression`, tuning which can potentially increase performance (see an optional Exercise 1 below).\n",
        "* We use a simplest metric, accuracy, as it is very easy to interpret (this is a portion of examples for which we made correct predictions). As we have balanced classes and binary classiication, we say that everything below 50% accuracy is a bad model, because 50% is an accuracy of a constant or random prediction.\n",
        "\n",
        "You can probably increase the accuracy by tuning hyperparameters, and we will compare it to other models in the next section. You're welcome to tune in Exercise 1 for your own understanding, otherwise around >80% accuracy should be sufficient to proceed. Below we will also take a look at the resulting model weights."
      ]
    },
    {
      "cell_type": "markdown",
      "metadata": {
        "id": "omKYrrrBu7FP"
      },
      "source": [
        "Words in the vocabulary:"
      ]
    },
    {
      "cell_type": "code",
      "execution_count": null,
      "metadata": {
        "colab": {
          "base_uri": "https://localhost:8080/"
        },
        "id": "J2U6SUrXurzv",
        "outputId": "351ed494-abcd-4853-e1fe-194b1757581e"
      },
      "outputs": [
        {
          "output_type": "execute_result",
          "data": {
            "text/plain": [
              "array(['abusing', 'abusive', 'abut', 'abysmal', 'abysmally', 'abyss',\n",
              "       'academic', 'academy', 'accelerated', 'accent', 'accentbr',\n",
              "       'accented', 'accents', 'accentsbr', 'accentuate', 'accentuated',\n",
              "       'accentuates', 'accept', 'acceptable', 'acceptance', 'accepted',\n",
              "       'accepting', 'accepts', 'access', 'accessibility', 'accessible',\n",
              "       'accident', 'accidental', 'accidentally', 'accidentbr'],\n",
              "      dtype=object)"
            ]
          },
          "metadata": {},
          "execution_count": 12
        }
      ],
      "source": [
        "words = count_vect.get_feature_names_out()\n",
        "words[500:530]"
      ]
    },
    {
      "cell_type": "markdown",
      "metadata": {
        "id": "pRUUcQpFu9Im"
      },
      "source": [
        "Let's look at words with highest and lowest weights:"
      ]
    },
    {
      "cell_type": "code",
      "execution_count": null,
      "metadata": {
        "colab": {
          "base_uri": "https://localhost:8080/"
        },
        "id": "znRJzrqxsWCb",
        "outputId": "b904e2bb-81aa-4202-862f-f46afad539a0"
      },
      "outputs": [
        {
          "output_type": "stream",
          "name": "stdout",
          "text": [
            "Words with lowest weights (they \"vote\" for the negative label)\n",
            "           coef            word\n",
            "285   -2.762004             410\n",
            "29098 -2.210889           waste\n",
            "29756 -2.173520           worst\n",
            "7648  -2.140661  disappointment\n",
            "20317 -1.911966          poorly\n",
            "259   -1.835265             310\n",
            "15144 -1.806977           lacks\n",
            "2171  -1.693050           awful\n",
            "224   -1.673604             210\n",
            "15303 -1.527366       laughable\n",
            "16979 -1.507645            mess\n",
            "3647  -1.454496         britney\n",
            "19895 -1.440840           photo\n",
            "10644 -1.431146     forgettable\n",
            "28146 -1.410952         unfunny\n",
            "17687 -1.394126           mst3k\n",
            "12996 -1.377174        horrible\n",
            "3355  -1.359697          boring\n",
            "9748  -1.343178           fails\n",
            "7645  -1.341931   disappointing\n",
            "Words with higest weights (they \"vote\" for the positive label)\n",
            "           coef         word\n",
            "12705  1.170470       highly\n",
            "7097   1.179655   delightful\n",
            "12943  1.182729       hooked\n",
            "26055  1.204567       superb\n",
            "19707  1.230808      perfect\n",
            "10418  1.236345       flight\n",
            "25913  1.248849       subtle\n",
            "8289   1.257410       driven\n",
            "28603  1.269367    vengeance\n",
            "1614   1.283261  appreciated\n",
            "28204  1.292395        units\n",
            "10380  1.294380     flawless\n",
            "4251   1.296641       carrey\n",
            "9411   1.299871    excellent\n",
            "10988  1.322415     funniest\n",
            "29678  1.361218  wonderfully\n",
            "9186   1.528435       erotic\n",
            "370    1.558339          810\n",
            "21810  1.794400   refreshing\n",
            "348    2.764287          710\n"
          ]
        }
      ],
      "source": [
        "# save weights from the model and words into a dataframe\n",
        "weights = pd.DataFrame({\"coef\": model.coef_[0],\n",
        "                        \"word\": words})\n",
        "weights = weights.sort_values(by=\"coef\")\n",
        "print('Words with lowest weights (they \"vote\" for the negative label)')\n",
        "print(weights[:20])\n",
        "print('Words with higest weights (they \"vote\" for the positive label)')\n",
        "print(weights[-20:])"
      ]
    },
    {
      "cell_type": "markdown",
      "metadata": {
        "id": "0LhwjxEcUxCs"
      },
      "source": [
        "The presence of words with highest weights (positive) \"votes\" for the positive class in the linear model, and the presence of words with lowest weights (negative) \"votes\" for the negative class."
      ]
    },
    {
      "cell_type": "markdown",
      "metadata": {
        "id": "nDq7IkTxwJSc"
      },
      "source": [
        "__\\*\\*\\*Exercise 1\\*\\*\\*__\n",
        "\n",
        "(it's completely optional and suggested for students who want to try models themselves, it's not rated and does not affect final marks.)\n",
        "\n",
        "Machine learning models, inlcuding linear models, are very sensitive to hyperparameters and data preprocessing. One should try different options, measuring performance on the development data or using [cross-validation](https://scikit-learn.org/stable/modules/cross_validation.html), to get the best performing model. It is important to avoid using test data in hyperparameters tuning (hyperparameters are tuned during training using training data) and only use it to test the transferability of chosen configurations to _unseen_ data. Here is what we suggest you to do:\n",
        "\n",
        "* Split `X_train[\"text\"]` and `X_train[\"label\"]` into \"training\" and development set (you can use [sklearn's train_test_split](https://scikit-learn.org/stable/modules/generated/sklearn.model_selection.train_test_split.html) with `test_size=0.2`)\n",
        "* For each of the following hyperparameters, train on the new \"training\" set and evaluate accuracy on the newly created development set. Choose hyperparameter configuration with highest accuracy. Then retrain the model on the full initial training set with the chosen hyperparameter configuration and compare accuracy on the _test_ set to the initial model we trained above. __The goal__ is to have higher resulting test accuracy, but without using test data in the tuning process!\n",
        "* Try tuning hyperparameter `C` (regularization strength) in [`LogisticRegression`](https://scikit-learn.org/stable/modules/generated/sklearn.linear_model.LogisticRegression.html). You can consider grid `[0.001, 0.01, ..., 10, 100]`. For this specific hyperparameter, you can also use [`LogisticRegressionCV` implementation](https://scikit-learn.org/stable/modules/generated/sklearn.linear_model.LogisticRegressionCV.html), which conducts cross-validation.\n",
        "* Try using [`TfIdfVectorizer`](https://scikit-learn.org/stable/modules/generated/sklearn.feature_extraction.text.TfidfVectorizer.html) instead of `CountVectorizer`\n",
        "* Try tuning hyperparameters in `CountVectorizer` or `TfIdfVectorizer`, e.g. `min_freq`, `ngram_range`, or `binary`. See [CountVectorizer's documentation](https://scikit-learn.org/stable/modules/generated/sklearn.feature_extraction.text.CountVectorizer.html) for the description of these hyperparameters."
      ]
    },
    {
      "cell_type": "markdown",
      "metadata": {
        "id": "Vyz5XgkSwuve"
      },
      "source": [
        "# Part 2: word embeddings and linear models with them"
      ]
    },
    {
      "cell_type": "markdown",
      "metadata": {
        "id": "HASAVx6jVGtK"
      },
      "source": [
        "__Tools:__ for working with word embeddings, `gensim` is a widely used library. You can either download some pretrained embeddings (as we will do) or train embeddings on your data (with an easy-to-run command). You can find an introductory tutorial [here](https://www.nltk.org/howto/gensim.html) or [here](https://radimrehurek.com/gensim/auto_examples/tutorials/run_word2vec.html), and pretrained models are listed [here](https://github.com/RaRe-Technologies/gensim-data) (mostly English, unfortunately). Fyi, another popular choise is the `fasttext` library ([python module intro](https://fasttext.cc/docs/en/python-module.html), [command line intro](https://fasttext.cc/docs/en/unsupervised-tutorial.html), [pretrained models for 157 languages](https://fasttext.cc/docs/en/crawl-vectors.html))."
      ]
    },
    {
      "cell_type": "markdown",
      "metadata": {
        "id": "0GiTvpeD6K4m"
      },
      "source": [
        "The next cell loads some pretrained model. Here a small one is chosen, to avoid long downloading, but you can try a larger one, e. g. `word2vec-google-news-300`"
      ]
    },
    {
      "cell_type": "code",
      "execution_count": null,
      "metadata": {
        "id": "HYb8Hxp7uop6",
        "colab": {
          "base_uri": "https://localhost:8080/"
        },
        "outputId": "54633fcf-f529-4537-8483-b5eaf6a0ee38"
      },
      "outputs": [
        {
          "output_type": "stream",
          "name": "stdout",
          "text": [
            "[==================================================] 100.0% 66.0/66.0MB downloaded\n"
          ]
        }
      ],
      "source": [
        "# a smaller model, faster download and no problems with out of memory\n",
        "import gensim.downloader as api\n",
        "wv = api.load('glove-wiki-gigaword-50')"
      ]
    },
    {
      "cell_type": "code",
      "execution_count": null,
      "metadata": {
        "colab": {
          "base_uri": "https://localhost:8080/"
        },
        "id": "1-3KCxHo6DMj",
        "outputId": "12e69ed5-4dc7-4767-ff7f-c19eab2b5355"
      },
      "outputs": [
        {
          "output_type": "execute_result",
          "data": {
            "text/plain": [
              "400000"
            ]
          },
          "metadata": {},
          "execution_count": 15
        }
      ],
      "source": [
        "# number of words in the model\n",
        "len(wv.vocab)"
      ]
    },
    {
      "cell_type": "code",
      "execution_count": null,
      "metadata": {
        "colab": {
          "base_uri": "https://localhost:8080/"
        },
        "id": "O1dR6Lu53N_Q",
        "outputId": "46348304-0b79-499f-eab9-b7e013a12b73"
      },
      "outputs": [
        {
          "output_type": "execute_result",
          "data": {
            "text/plain": [
              "array([ 0.76989 ,  1.181   , -1.1299  , -0.74725 , -0.5969  , -1.0518  ,\n",
              "       -0.46552 ,  0.27009 , -0.99243 , -0.04864 ,  0.28642 , -0.75261 ,\n",
              "       -1.0566  , -0.19205 ,  0.572   , -0.24391 , -0.36054 , -0.70876 ,\n",
              "       -0.91951 , -0.27024 ,  1.5131  ,  1.0313  , -0.55713 ,  0.52952 ,\n",
              "       -0.71494 , -1.0949  , -0.60565 ,  0.31329 , -0.44488 ,  0.55915 ,\n",
              "        2.1429  ,  0.43389 , -0.5529  , -0.24261 , -0.43679 , -0.96014 ,\n",
              "        0.25828 ,  0.79385 ,  0.37132 ,  0.49623 ,  0.84359 , -0.25875 ,\n",
              "        1.5616  , -1.1199  ,  0.091676,  0.076675, -0.45084 , -0.86104 ,\n",
              "        0.97599 , -0.35615 ], dtype=float32)"
            ]
          },
          "metadata": {},
          "execution_count": 16
        }
      ],
      "source": [
        "# example of a word embedding\n",
        "wv['paris']"
      ]
    },
    {
      "cell_type": "code",
      "execution_count": null,
      "metadata": {
        "colab": {
          "base_uri": "https://localhost:8080/"
        },
        "id": "jHO12LEM3ubU",
        "outputId": "10191d59-eb7f-4c47-dd81-9370ecba350c"
      },
      "outputs": [
        {
          "output_type": "stream",
          "name": "stdout",
          "text": [
            "0.802533\n",
            "0.34973487\n",
            "0.2978267\n"
          ]
        }
      ],
      "source": [
        "# example of similarity between words\n",
        "print(wv.similarity(\"paris\", \"france\"))\n",
        "print(wv.similarity(\"paris\", \"china\"))\n",
        "print(wv.similarity(\"paris\", \"usa\"))"
      ]
    },
    {
      "cell_type": "code",
      "execution_count": null,
      "metadata": {
        "colab": {
          "base_uri": "https://localhost:8080/"
        },
        "id": "a9-mGYG15LN1",
        "outputId": "34448df2-a45c-4aba-b6cf-3a7bd9df8f69"
      },
      "outputs": [
        {
          "output_type": "execute_result",
          "data": {
            "text/plain": [
              "[('french', 0.8868120908737183),\n",
              " ('belgium', 0.8631512522697449),\n",
              " ('paris', 0.8025329113006592),\n",
              " ('spain', 0.7909148931503296),\n",
              " ('netherlands', 0.7893801331520081),\n",
              " ('italy', 0.7788637280464172),\n",
              " ('germany', 0.7744609117507935),\n",
              " ('european', 0.7626757025718689),\n",
              " ('switzerland', 0.757765531539917),\n",
              " ('europe', 0.7539670467376709)]"
            ]
          },
          "metadata": {},
          "execution_count": 18
        }
      ],
      "source": [
        "# example of finding most similar words\n",
        "wv.most_similar(\"france\")"
      ]
    },
    {
      "cell_type": "code",
      "execution_count": null,
      "metadata": {
        "colab": {
          "base_uri": "https://localhost:8080/"
        },
        "id": "BB7qDpAu5qkU",
        "outputId": "32f47233-418a-4beb-d161-3dddfb0a6051"
      },
      "outputs": [
        {
          "output_type": "execute_result",
          "data": {
            "text/plain": [
              "[('coffee', 0.8079648017883301),\n",
              " ('drinks', 0.7730340361595154),\n",
              " ('drink', 0.7591135501861572),\n",
              " ('teas', 0.7377562522888184),\n",
              " ('fruit', 0.730494499206543),\n",
              " ('snack', 0.7249595522880554),\n",
              " ('coconut', 0.7229518890380859),\n",
              " ('sugar', 0.7206286787986755),\n",
              " ('juice', 0.7178527116775513),\n",
              " ('vegetable', 0.7024728059768677)]"
            ]
          },
          "metadata": {},
          "execution_count": 19
        }
      ],
      "source": [
        "wv.most_similar(\"tea\")"
      ]
    },
    {
      "cell_type": "code",
      "execution_count": null,
      "metadata": {
        "colab": {
          "base_uri": "https://localhost:8080/"
        },
        "id": "7_T_pMKK54he",
        "outputId": "6e0bdc09-c32e-4491-c2b4-0a1b3ce031de"
      },
      "outputs": [
        {
          "output_type": "execute_result",
          "data": {
            "text/plain": [
              "[('queen', 0.8523603677749634)]"
            ]
          },
          "metadata": {},
          "execution_count": 20
        }
      ],
      "source": [
        "# a classic \"king - man + woman\" example\n",
        "wv.most_similar(positive=['woman','king'], negative=['man'], topn = 1)"
      ]
    },
    {
      "cell_type": "code",
      "execution_count": null,
      "metadata": {
        "colab": {
          "base_uri": "https://localhost:8080/"
        },
        "id": "B_CXb7xa5-OO",
        "outputId": "830a2b64-c591-4cae-d782-6e8888057cee"
      },
      "outputs": [
        {
          "output_type": "execute_result",
          "data": {
            "text/plain": [
              "[('champagne', 0.7019561529159546)]"
            ]
          },
          "metadata": {},
          "execution_count": 21
        }
      ],
      "source": [
        "# tea - china + france\n",
        "wv.most_similar(positive=['france','tea'], negative=['china'], topn = 1)"
      ]
    },
    {
      "cell_type": "code",
      "execution_count": null,
      "metadata": {
        "colab": {
          "base_uri": "https://localhost:8080/"
        },
        "id": "Lf35K2Yl7KgV",
        "outputId": "3a944942-efc5-474c-b7cd-145728b93724"
      },
      "outputs": [
        {
          "output_type": "execute_result",
          "data": {
            "text/plain": [
              "[('cracker', 0.6282730102539062)]"
            ]
          },
          "metadata": {},
          "execution_count": 22
        }
      ],
      "source": [
        "# croissant - france + usa\n",
        "wv.most_similar(positive=['usa','croissant'], negative=['france'], topn = 1)"
      ]
    },
    {
      "cell_type": "markdown",
      "metadata": {
        "id": "ObxiVLDVIWj6"
      },
      "source": [
        "To play with pretrained embeddings yourself, you only need to run the cell at the beginning of Part 2."
      ]
    },
    {
      "cell_type": "markdown",
      "metadata": {
        "id": "Gu04WBiR78Rc"
      },
      "source": [
        "Let's extract pretrained vectors for all words in our data, average embeddings over sequences and train logistic regression on top of the resulting features (10 points):"
      ]
    },
    {
      "cell_type": "code",
      "execution_count": null,
      "metadata": {
        "colab": {
          "base_uri": "https://localhost:8080/"
        },
        "id": "FXOvoEe37WwL",
        "outputId": "04c0e923-25d2-49b5-c39a-2c18f51e0440"
      },
      "outputs": [
        {
          "output_type": "stream",
          "name": "stdout",
          "text": [
            "Example of a vector computed for a text:\n",
            "[ 4.03036803e-01  2.26124763e-01 -1.94381744e-01 -1.37909666e-01\n",
            "  3.59673113e-01  2.44850710e-01 -2.81545281e-01 -2.33770505e-01\n",
            " -2.36470148e-01  1.56360455e-02 -2.90522445e-02  2.00502917e-01\n",
            " -3.06571603e-01  5.82588986e-02  3.45339000e-01  8.12849775e-02\n",
            "  8.70722979e-02  2.58340426e-02 -4.49621081e-01 -2.72033304e-01\n",
            " -2.52034934e-03  8.25625286e-02  1.28303066e-01  7.03524128e-02\n",
            "  1.77512124e-01 -1.31450295e+00 -5.28752685e-01  1.51897088e-01\n",
            "  1.36917427e-01 -1.83645144e-01  2.78965902e+00 -6.75237700e-02\n",
            " -1.15567975e-01 -2.93688416e-01  6.77593648e-02  6.21846579e-02\n",
            "  1.20345406e-01  2.69264472e-03 -6.01344593e-02 -1.32771403e-01\n",
            " -7.26292208e-02  1.59432456e-01 -9.87929255e-02  8.03667083e-02\n",
            " -9.42643285e-02  9.33142975e-02  1.76950414e-02 -2.22160146e-01\n",
            "  8.09538411e-04 -4.72985581e-02]\n"
          ]
        }
      ],
      "source": [
        "# write a function to turn the given sentence ''text'' into a sequence of vectors, ignoring 'out of vocabulary' words\n",
        "# wv is the dictionary for all word embeddings, i.e., wv[word] will give you the embedding of that word.\n",
        "# Hint: 1. to check if a word is out of vocabulary, call 'word in wv' and see if it returns True or False\n",
        "#       2. to get embedding for a word, call 'wv[word]'\n",
        "def text_to_vector(text, wv):\n",
        "    vectors = []\n",
        "    words = [w.lower() for w in text.split() if w.lower() in wv]\n",
        "    vectors = np.array([wv[word] for word in words])\n",
        "    return np.mean(vectors, axis=0)\n",
        "\n",
        "# demo\n",
        "print(\"Example of a vector computed for a text:\")\n",
        "print(text_to_vector(df_train[\"text\"][112], wv))"
      ]
    },
    {
      "cell_type": "code",
      "source": [
        "# convert all training/testing data into word embeddings\n",
        "X_train_wv = np.zeros((df_train.shape[0], wv.vectors.shape[1]))\n",
        "for i, text in enumerate(df_train[\"text\"]):\n",
        "    X_train_wv[i] = text_to_vector(text, wv)\n",
        "\n",
        "X_test_wv = np.zeros((df_test.shape[0], wv.vectors.shape[1]))\n",
        "for i, text in enumerate(df_test[\"text\"]):\n",
        "    X_test_wv[i] = text_to_vector(text, wv)"
      ],
      "metadata": {
        "id": "dTENQOpEHkJv"
      },
      "execution_count": null,
      "outputs": []
    },
    {
      "cell_type": "code",
      "execution_count": null,
      "metadata": {
        "colab": {
          "base_uri": "https://localhost:8080/"
        },
        "id": "hRT3aPei8uum",
        "outputId": "46550c3d-b5a3-4dbc-95b9-8342d62100c0"
      },
      "outputs": [
        {
          "output_type": "execute_result",
          "data": {
            "text/plain": [
              "((25000, 50), (25000, 50), (25000,), (25000,))"
            ]
          },
          "metadata": {},
          "execution_count": 25
        }
      ],
      "source": [
        "y_train = df_train[\"label\"]\n",
        "y_test = df_test[\"label\"]\n",
        "\n",
        "# check data shapes\n",
        "X_train_wv.shape, X_test_wv.shape, y_train.shape, y_test.shape"
      ]
    },
    {
      "cell_type": "code",
      "execution_count": null,
      "metadata": {
        "id": "SEeeIbZcAcot"
      },
      "outputs": [],
      "source": [
        "# a good practice is to scale data before training\n",
        "from sklearn.preprocessing import StandardScaler\n",
        "\n",
        "scaler = StandardScaler()\n",
        "# as previous example, you will need to use functions fit_transform() and \n",
        "# transform() on X_train_wv and X_test_wv\n",
        "X_train_wv = scaler.fit_transform(X_train_wv)\n",
        "X_test_wv = scaler.transform(X_test_wv)"
      ]
    },
    {
      "cell_type": "code",
      "execution_count": null,
      "metadata": {
        "colab": {
          "base_uri": "https://localhost:8080/"
        },
        "id": "lZoT92249ZTX",
        "outputId": "7d7b40a4-97a1-4984-a138-9459959ab765"
      },
      "outputs": [
        {
          "output_type": "stream",
          "name": "stdout",
          "text": [
            "Accuracy: 0.7532\n"
          ]
        }
      ],
      "source": [
        "# train LogisticRegression with glove-wiki-gigaword-50/word2vec-google-news-300 \n",
        "# embeddings\n",
        "\n",
        "from sklearn.linear_model import LogisticRegression\n",
        "from sklearn.metrics import accuracy_score\n",
        "\n",
        "model = LogisticRegression(max_iter = 5000)\n",
        "model.fit(X_train_wv, y_train)\n",
        "y_pred = model.predict(X_test_wv)\n",
        "print(\"Accuracy:\", accuracy_score(y_test, y_pred))"
      ]
    },
    {
      "cell_type": "markdown",
      "source": [
        "How does the accuracy differ when using 300-dim-word2vec embeddings vs 50-dimensional-glove embeddings? Explain why you expect your answer."
      ],
      "metadata": {
        "id": "_oBAj3Nd0lyq"
      }
    },
    {
      "cell_type": "markdown",
      "source": [
        "The use of glove embeddings resulted in lower accuracy when compared to word2vec with the same model. The reduced accuracy of the 50-dimensional embeddings is probably due to the significant loss of important information, which could have been learned by the model, due to the lower number of dimensions. However, it was not possible to carry out a thorough comparison as the word2vec failed to load."
      ],
      "metadata": {
        "id": "sBCcf4cv60OU"
      }
    },
    {
      "cell_type": "markdown",
      "metadata": {
        "id": "FOHwPF5sNimV"
      },
      "source": [
        "Exercise 2 (20 points)\n",
        "\n",
        "You can now try training both versions of logistic regression, with bag-of-words or pretrained embeddings, for some other dataset. You can select any dataset e. g. from [Kaggle](https://www.kaggle.com/datasets?search=text+classification) or just use the one we picked for you: the [AGNews dataset](https://paperswithcode.com/dataset/ag-news). It consists of news articles constructed by assembling titles and description fields of articles from the 4 topics (“World”, “Sports”, “Business”, “Sci/Tech”), and the task is to predict one category per text. You should decide what preprocessing you want to do (5 points), train two models (5 points each), optimize via hyperparameter tuning and tuning of things like min_df, type of embedding (glove vs word2vec) etc. (5 points)."
      ]
    },
    {
      "cell_type": "code",
      "source": [
        "!pip install datasets"
      ],
      "metadata": {
        "id": "YI4lONopQErc",
        "colab": {
          "base_uri": "https://localhost:8080/"
        },
        "outputId": "33a2ea27-d6b8-4946-df82-a0edcdebe77c"
      },
      "execution_count": null,
      "outputs": [
        {
          "output_type": "stream",
          "name": "stdout",
          "text": [
            "Looking in indexes: https://pypi.org/simple, https://us-python.pkg.dev/colab-wheels/public/simple/\n",
            "Collecting datasets\n",
            "  Downloading datasets-2.10.1-py3-none-any.whl (469 kB)\n",
            "\u001b[2K     \u001b[90m━━━━━━━━━━━━━━━━━━━━━━━━━━━━━━━━━━━━━━\u001b[0m \u001b[32m469.0/469.0 KB\u001b[0m \u001b[31m11.8 MB/s\u001b[0m eta \u001b[36m0:00:00\u001b[0m\n",
            "\u001b[?25hRequirement already satisfied: pyarrow>=6.0.0 in /usr/local/lib/python3.8/dist-packages (from datasets) (9.0.0)\n",
            "Requirement already satisfied: packaging in /usr/local/lib/python3.8/dist-packages (from datasets) (23.0)\n",
            "Collecting responses<0.19\n",
            "  Downloading responses-0.18.0-py3-none-any.whl (38 kB)\n",
            "Requirement already satisfied: numpy>=1.17 in /usr/local/lib/python3.8/dist-packages (from datasets) (1.22.4)\n",
            "Requirement already satisfied: tqdm>=4.62.1 in /usr/local/lib/python3.8/dist-packages (from datasets) (4.64.1)\n",
            "Requirement already satisfied: fsspec[http]>=2021.11.1 in /usr/local/lib/python3.8/dist-packages (from datasets) (2023.1.0)\n",
            "Requirement already satisfied: pyyaml>=5.1 in /usr/local/lib/python3.8/dist-packages (from datasets) (6.0)\n",
            "Collecting dill<0.3.7,>=0.3.0\n",
            "  Downloading dill-0.3.6-py3-none-any.whl (110 kB)\n",
            "\u001b[2K     \u001b[90m━━━━━━━━━━━━━━━━━━━━━━━━━━━━━━━━━━━━━━━\u001b[0m \u001b[32m110.5/110.5 KB\u001b[0m \u001b[31m9.5 MB/s\u001b[0m eta \u001b[36m0:00:00\u001b[0m\n",
            "\u001b[?25hCollecting multiprocess\n",
            "  Downloading multiprocess-0.70.14-py38-none-any.whl (132 kB)\n",
            "\u001b[2K     \u001b[90m━━━━━━━━━━━━━━━━━━━━━━━━━━━━━━━━━━━━━━\u001b[0m \u001b[32m132.0/132.0 KB\u001b[0m \u001b[31m11.2 MB/s\u001b[0m eta \u001b[36m0:00:00\u001b[0m\n",
            "\u001b[?25hRequirement already satisfied: pandas in /usr/local/lib/python3.8/dist-packages (from datasets) (1.3.5)\n",
            "Requirement already satisfied: aiohttp in /usr/local/lib/python3.8/dist-packages (from datasets) (3.8.4)\n",
            "Requirement already satisfied: requests>=2.19.0 in /usr/local/lib/python3.8/dist-packages (from datasets) (2.25.1)\n",
            "Collecting xxhash\n",
            "  Downloading xxhash-3.2.0-cp38-cp38-manylinux_2_17_x86_64.manylinux2014_x86_64.whl (213 kB)\n",
            "\u001b[2K     \u001b[90m━━━━━━━━━━━━━━━━━━━━━━━━━━━━━━━━━━━━━━\u001b[0m \u001b[32m213.0/213.0 KB\u001b[0m \u001b[31m20.9 MB/s\u001b[0m eta \u001b[36m0:00:00\u001b[0m\n",
            "\u001b[?25hCollecting huggingface-hub<1.0.0,>=0.2.0\n",
            "  Downloading huggingface_hub-0.12.1-py3-none-any.whl (190 kB)\n",
            "\u001b[2K     \u001b[90m━━━━━━━━━━━━━━━━━━━━━━━━━━━━━━━━━━━━━━\u001b[0m \u001b[32m190.3/190.3 KB\u001b[0m \u001b[31m18.1 MB/s\u001b[0m eta \u001b[36m0:00:00\u001b[0m\n",
            "\u001b[?25hRequirement already satisfied: multidict<7.0,>=4.5 in /usr/local/lib/python3.8/dist-packages (from aiohttp->datasets) (6.0.4)\n",
            "Requirement already satisfied: frozenlist>=1.1.1 in /usr/local/lib/python3.8/dist-packages (from aiohttp->datasets) (1.3.3)\n",
            "Requirement already satisfied: yarl<2.0,>=1.0 in /usr/local/lib/python3.8/dist-packages (from aiohttp->datasets) (1.8.2)\n",
            "Requirement already satisfied: async-timeout<5.0,>=4.0.0a3 in /usr/local/lib/python3.8/dist-packages (from aiohttp->datasets) (4.0.2)\n",
            "Requirement already satisfied: aiosignal>=1.1.2 in /usr/local/lib/python3.8/dist-packages (from aiohttp->datasets) (1.3.1)\n",
            "Requirement already satisfied: charset-normalizer<4.0,>=2.0 in /usr/local/lib/python3.8/dist-packages (from aiohttp->datasets) (3.0.1)\n",
            "Requirement already satisfied: attrs>=17.3.0 in /usr/local/lib/python3.8/dist-packages (from aiohttp->datasets) (22.2.0)\n",
            "Requirement already satisfied: typing-extensions>=3.7.4.3 in /usr/local/lib/python3.8/dist-packages (from huggingface-hub<1.0.0,>=0.2.0->datasets) (4.5.0)\n",
            "Requirement already satisfied: filelock in /usr/local/lib/python3.8/dist-packages (from huggingface-hub<1.0.0,>=0.2.0->datasets) (3.9.0)\n",
            "Requirement already satisfied: idna<3,>=2.5 in /usr/local/lib/python3.8/dist-packages (from requests>=2.19.0->datasets) (2.10)\n",
            "Requirement already satisfied: chardet<5,>=3.0.2 in /usr/local/lib/python3.8/dist-packages (from requests>=2.19.0->datasets) (3.0.4)\n",
            "Requirement already satisfied: urllib3<1.27,>=1.21.1 in /usr/local/lib/python3.8/dist-packages (from requests>=2.19.0->datasets) (1.26.14)\n",
            "Requirement already satisfied: certifi>=2017.4.17 in /usr/local/lib/python3.8/dist-packages (from requests>=2.19.0->datasets) (2022.12.7)\n",
            "Requirement already satisfied: pytz>=2017.3 in /usr/local/lib/python3.8/dist-packages (from pandas->datasets) (2022.7.1)\n",
            "Requirement already satisfied: python-dateutil>=2.7.3 in /usr/local/lib/python3.8/dist-packages (from pandas->datasets) (2.8.2)\n",
            "Requirement already satisfied: six>=1.5 in /usr/local/lib/python3.8/dist-packages (from python-dateutil>=2.7.3->pandas->datasets) (1.15.0)\n",
            "Installing collected packages: xxhash, dill, responses, multiprocess, huggingface-hub, datasets\n",
            "Successfully installed datasets-2.10.1 dill-0.3.6 huggingface-hub-0.12.1 multiprocess-0.70.14 responses-0.18.0 xxhash-3.2.0\n"
          ]
        }
      ]
    },
    {
      "cell_type": "code",
      "source": [
        "from datasets import load_dataset\n",
        "dataset = load_dataset(\"ag_news\")\n",
        "# dataset[\"train\"][\"text\"], dataset[\"test\"][\"text\"]\n",
        "# dataset[\"train\"][\"label\"], dataset[\"test\"][\"label\"]"
      ],
      "metadata": {
        "id": "l1yY5CULPP31",
        "colab": {
          "base_uri": "https://localhost:8080/",
          "height": 276,
          "referenced_widgets": [
            "12946089660e484cadae56c62e9e1256",
            "b2ca2668e7064b5dacfb35e2e0521bf9",
            "3c9ddbc9579e471c9549c8de34765c11",
            "adbae65650554171830947e4f228ba34",
            "48762776e90f422a9afff7b8873aa646",
            "85638e50326145c28e8bef11ad7fc61b",
            "46d927f3bd8b481fb5d84c15770e271b",
            "bc52c613312a4b98a41ec5bab6974807",
            "aab0582308a84484b3cd40175f2faf05",
            "4b2d5aa4cdda48048c90a81b18a006b6",
            "4ae7810e912e4954a6b550dd58365abc",
            "786e520f4e434e1fab4db51957082b54",
            "54a1ea2101364e7890f81af43387d42d",
            "d6d0425f80554efca483b96cd326737c",
            "b34a52d49f414312a0dc691cd040c282",
            "23a76116d46846d2ab22bbb77ad082da",
            "1827d5579b41424cb48c1970f0f2b871",
            "04c8806decff4b80ab2b3df79ec75c1e",
            "b2f80bb750d14947bbe45fa2a86645cc",
            "b5ea48a8032446ab8c69a27ac5203d0f",
            "a09db24539a34407903734d9e2b74571",
            "9606c6afb2cc4437b91f83df917ccb3d",
            "4df91bd46ba14f0b9fa0114b14929407",
            "201a16124aa741358d92a196bb712b37",
            "d658d58ed9bc4e548c34b89d49e3d4dd",
            "5a70da8b8850400d8e6e7b431fa6c092",
            "bcec70e91b2d4c659cc70234af102151",
            "ed4b06c115214c7bafa0619aa8dfc67d",
            "1c864c86e56741fda6d507d3b98311b7",
            "2fe930aa7aef4575812e51dd5b28b169",
            "14e3847f3a6c483182d31364da70da03",
            "cc72f5bbf9e04ca081fdad5bd2178180",
            "042cbbd0adfb4b6886f1fce79f52a2d5",
            "207d0cf872834028bd2181d7a30b764f",
            "c77ea53901d64d5b9e83759dd32401ee",
            "75079065dc674350bd26aa065e9e98ec",
            "ea640267fd764afeb4236fea711bdcfb",
            "a6e5d57fda9e49968bfd7403d2d6911f",
            "2532c56c175f4491af765adb2fac4b2e",
            "2ea5e4367dc94d77a36eb40778dd8682",
            "23514140a1e74f07b2736aa1f57ea706",
            "90736ee9563b4455a2badf0fd3023f62",
            "f98735a85858490697d9c4d7cdbe9dad",
            "f351ec35a8d54d15a0b87f52a9df5a07",
            "6e66499632d24e20adfd3f07915f52c5",
            "ec384e53d91a45a2a4f701e673a72cd0",
            "780396a33fe3427c85401cef37fe9c2b",
            "86db83a07bf94068b8dddc84d4eb52d1",
            "cbc7dcbed8c64cbf806c3ef6335373b0",
            "ec8eddbe02cb42898aaee072cf980a13",
            "b3979af162eb4739be1fba47af5d8702",
            "d86b67b4a6564daca0981ece685fea61",
            "327f3bb6ba9844f19f972434fdaa155a",
            "86b15e29620f41b9ac7020fc700f737f",
            "50d9a976b5c847c4b54789280c725c68",
            "8206ec3d6596477f9118c5f6b3e9aa52",
            "9a73f320d0da4dd9a53584759483be50",
            "0d9be75209df44048d510626107af32a",
            "0c60b03486d6436680d91cd3ed8a406c",
            "55c827fc6d8844a38c24b75982650fb5",
            "7d4ba1dca90a4ba1aae792840694c366",
            "6ab8ab018cc14b80ad522d423d82e530",
            "42f9933f5ec343de9d81307f034c17e9",
            "d7b22b3de68a400284703b9e2f37c855",
            "b8aa28b25dc0423d84cc5455d4ddf315",
            "1e174c9fba7145ac866b9f6c21194d23",
            "accfd9a618ee433db4b5f9124db794f3",
            "77d182539fbd44ec8c01098153af7389",
            "b87a56bf43774bac8ba4bdfd91131a26",
            "a4fc8b4695f54b6d9014645e8dd07928",
            "1505795db5ad43c389a29bdbb73374bb",
            "45f09426dc2f448392b0ef950f090dde",
            "e706828d3e724ebea90f9bda5f27ea79",
            "2f5753d0197d4176add6398a91d58bb7",
            "a595560639af4dd88921d4358b33711b",
            "a286869a35b94262982abff555fcc4b0",
            "9bc0c2b5e6c14cff8aef6269f4516fda",
            "6bc7eaef827a4f6ab3ef1a998743932f",
            "f58ff11b26dc4589aa529ac2500f8a4c",
            "6f06b1ddab884790862349c7e88c27a0",
            "e615052712564fa3acecefdcc0701c58",
            "d0149e2101224cad90aabb17d3ddca9d",
            "982bde4bc33f4cee8e41865dc05d81c1",
            "98b0056dda934cfb87f90c3dc412f7ac",
            "93515e456dfd4f58997cb95461bc6f05",
            "85256d0bcac44a6a8a14cb12b68c6f05",
            "c1fd871acb4644ec9620c7be123e0e13",
            "49ac28456ace4a38a37ed2ed2ecd1411"
          ]
        },
        "outputId": "02c1f7e0-e2e5-4a4f-d26d-6052d1ce043d"
      },
      "execution_count": null,
      "outputs": [
        {
          "output_type": "display_data",
          "data": {
            "text/plain": [
              "Downloading builder script:   0%|          | 0.00/4.06k [00:00<?, ?B/s]"
            ],
            "application/vnd.jupyter.widget-view+json": {
              "version_major": 2,
              "version_minor": 0,
              "model_id": "12946089660e484cadae56c62e9e1256"
            }
          },
          "metadata": {}
        },
        {
          "output_type": "display_data",
          "data": {
            "text/plain": [
              "Downloading metadata:   0%|          | 0.00/2.65k [00:00<?, ?B/s]"
            ],
            "application/vnd.jupyter.widget-view+json": {
              "version_major": 2,
              "version_minor": 0,
              "model_id": "786e520f4e434e1fab4db51957082b54"
            }
          },
          "metadata": {}
        },
        {
          "output_type": "display_data",
          "data": {
            "text/plain": [
              "Downloading readme:   0%|          | 0.00/7.95k [00:00<?, ?B/s]"
            ],
            "application/vnd.jupyter.widget-view+json": {
              "version_major": 2,
              "version_minor": 0,
              "model_id": "4df91bd46ba14f0b9fa0114b14929407"
            }
          },
          "metadata": {}
        },
        {
          "output_type": "stream",
          "name": "stdout",
          "text": [
            "Downloading and preparing dataset ag_news/default to /root/.cache/huggingface/datasets/ag_news/default/0.0.0/bc2bcb40336ace1a0374767fc29bb0296cdaf8a6da7298436239c54d79180548...\n"
          ]
        },
        {
          "output_type": "display_data",
          "data": {
            "text/plain": [
              "Downloading data:   0%|          | 0.00/11.0M [00:00<?, ?B/s]"
            ],
            "application/vnd.jupyter.widget-view+json": {
              "version_major": 2,
              "version_minor": 0,
              "model_id": "207d0cf872834028bd2181d7a30b764f"
            }
          },
          "metadata": {}
        },
        {
          "output_type": "display_data",
          "data": {
            "text/plain": [
              "Downloading data:   0%|          | 0.00/751k [00:00<?, ?B/s]"
            ],
            "application/vnd.jupyter.widget-view+json": {
              "version_major": 2,
              "version_minor": 0,
              "model_id": "6e66499632d24e20adfd3f07915f52c5"
            }
          },
          "metadata": {}
        },
        {
          "output_type": "display_data",
          "data": {
            "text/plain": [
              "Generating train split:   0%|          | 0/120000 [00:00<?, ? examples/s]"
            ],
            "application/vnd.jupyter.widget-view+json": {
              "version_major": 2,
              "version_minor": 0,
              "model_id": "8206ec3d6596477f9118c5f6b3e9aa52"
            }
          },
          "metadata": {}
        },
        {
          "output_type": "display_data",
          "data": {
            "text/plain": [
              "Generating test split:   0%|          | 0/7600 [00:00<?, ? examples/s]"
            ],
            "application/vnd.jupyter.widget-view+json": {
              "version_major": 2,
              "version_minor": 0,
              "model_id": "accfd9a618ee433db4b5f9124db794f3"
            }
          },
          "metadata": {}
        },
        {
          "output_type": "stream",
          "name": "stdout",
          "text": [
            "Dataset ag_news downloaded and prepared to /root/.cache/huggingface/datasets/ag_news/default/0.0.0/bc2bcb40336ace1a0374767fc29bb0296cdaf8a6da7298436239c54d79180548. Subsequent calls will reuse this data.\n"
          ]
        },
        {
          "output_type": "display_data",
          "data": {
            "text/plain": [
              "  0%|          | 0/2 [00:00<?, ?it/s]"
            ],
            "application/vnd.jupyter.widget-view+json": {
              "version_major": 2,
              "version_minor": 0,
              "model_id": "6bc7eaef827a4f6ab3ef1a998743932f"
            }
          },
          "metadata": {}
        }
      ]
    },
    {
      "cell_type": "markdown",
      "source": [
        "# Model 1: Glove Encodings\n",
        "\n",
        "The first model I will do for this example is with using the glove encodings again. I will do the same preprocesing as before, as scaling the data was mentioned to be a good preprocessing step. I will finally train my logistic regression model again."
      ],
      "metadata": {
        "id": "uUZ7uhdw7mBm"
      }
    },
    {
      "cell_type": "code",
      "source": [
        "X_train = np.array([text_to_vector(text, wv) for text in dataset[\"train\"][\"text\"]])\n",
        "X_test = np.array([text_to_vector(text, wv) for text in dataset[\"test\"][\"text\"]])\n",
        "\n",
        "y_train = dataset[\"train\"][\"label\"]\n",
        "y_test = dataset[\"test\"][\"label\"]\n",
        "\n",
        "scaler = StandardScaler()\n",
        "X_train = scaler.fit_transform(X_train)\n",
        "X_test = scaler.transform(X_test)\n",
        "\n",
        "model = LogisticRegression(max_iter = 5000)\n",
        "model.fit(X_train, y_train)\n",
        "y_pred = model.predict(X_test)\n",
        "print(\"Accuracy:\", accuracy_score(y_test, y_pred))"
      ],
      "metadata": {
        "colab": {
          "base_uri": "https://localhost:8080/"
        },
        "id": "Z9sF2xp289OO",
        "outputId": "4c509eb2-19cf-482c-d9d2-d4d5073faab3"
      },
      "execution_count": null,
      "outputs": [
        {
          "output_type": "stream",
          "name": "stdout",
          "text": [
            "Accuracy: 0.8732894736842105\n"
          ]
        }
      ]
    },
    {
      "cell_type": "markdown",
      "source": [
        "# Model 2: Bag of words\n",
        "\n",
        "The second model I will do for this example is the bag-of-words one, like we did in part 1. I will use 50 as the new minimum df so when doing count vectorization. This is because I noticed that this new dataset has many more rows in it, so words should appear in more rows than before in order to be considered significant. Next, I will train the same logistic regression as before on this new dataset and look at the results."
      ],
      "metadata": {
        "id": "w6xK_E6Z7Y4z"
      }
    },
    {
      "cell_type": "code",
      "source": [
        "X_train = np.vectorize(process_string)(dataset[\"train\"][\"text\"])\n",
        "X_test = np.vectorize(process_string)(dataset[\"test\"][\"text\"])\n",
        "\n",
        "# count vectorization\n",
        "count_vect = CountVectorizer(min_df=50)\n",
        "X_train = count_vect.fit_transform(X_train)\n",
        "X_test = count_vect.transform(X_test)\n",
        "\n",
        "# get labels\n",
        "y_train = dataset[\"train\"][\"label\"]\n",
        "y_test = dataset[\"test\"][\"label\"]\n",
        "\n",
        "# implementing model\n",
        "model = LogisticRegression(max_iter = 5000)\n",
        "model.fit(X_train, y_train)\n",
        "y_pred = model.predict(X_test)\n",
        "print(\"Accuracy:\", accuracy_score(y_test, y_pred))"
      ],
      "metadata": {
        "colab": {
          "base_uri": "https://localhost:8080/"
        },
        "id": "-PevmrXK7MYi",
        "outputId": "b93974e1-db2a-45c3-f029-a444134dbd20"
      },
      "execution_count": null,
      "outputs": [
        {
          "output_type": "stream",
          "name": "stdout",
          "text": [
            "Accuracy: 0.8975\n"
          ]
        }
      ]
    },
    {
      "cell_type": "markdown",
      "source": [
        "I see that the accuracy is slightly higher for Bag of Words. This is interesting, as Bag of Words is considered an older approach."
      ],
      "metadata": {
        "id": "Y_glICmx9I2y"
      }
    },
    {
      "cell_type": "markdown",
      "metadata": {
        "id": "H7nPsI3POWXW"
      },
      "source": [
        "# Part 3: Recurrent neural networks\n",
        "\n",
        "Let's train recurrent neural networks on our data and compare it to previously considered linear models. Here we will need more code."
      ]
    },
    {
      "cell_type": "markdown",
      "metadata": {
        "id": "3xQv4-9uTDVR"
      },
      "source": [
        "#### 3.1 Tokenization (2 points)"
      ]
    },
    {
      "cell_type": "markdown",
      "metadata": {
        "id": "bOLZhReKWY8J"
      },
      "source": [
        "The first step is tokenizing our data, i. e. segmenting words into subwords. \n",
        "\n",
        "__Tools__: for this task, `sentencepiece` ([link](https://github.com/google/sentencepiece)) is a widely used choice. With this library, you usually train tokenizer on your data (see examples by following the link). You can also try using some pretrained tokenizer, which can be found in the [Huggingface library](https://huggingface.co/docs/tokenizers/index) (this library of course also allows training your custom tokenizers). We will use the popular [GPT2 pretrained tokenizer](https://huggingface.co/docs/transformers/model_doc/gpt2) which was trained on a large English corpora. Huggingface also provides multilingual tokenizers, e. g. [BLOOM tokenizer](https://huggingface.co/docs/transformers/model_doc/bloom). \n"
      ]
    },
    {
      "cell_type": "code",
      "execution_count": null,
      "metadata": {
        "colab": {
          "base_uri": "https://localhost:8080/"
        },
        "id": "cdSawEjmTFzy",
        "outputId": "8f1c5376-1733-448f-9877-f032cca3f8d0"
      },
      "outputs": [
        {
          "output_type": "stream",
          "name": "stdout",
          "text": [
            "Looking in indexes: https://pypi.org/simple, https://us-python.pkg.dev/colab-wheels/public/simple/\n",
            "Collecting transformers\n",
            "  Downloading transformers-4.26.1-py3-none-any.whl (6.3 MB)\n",
            "\u001b[2K     \u001b[90m━━━━━━━━━━━━━━━━━━━━━━━━━━━━━━━━━━━━━━━━\u001b[0m \u001b[32m6.3/6.3 MB\u001b[0m \u001b[31m40.6 MB/s\u001b[0m eta \u001b[36m0:00:00\u001b[0m\n",
            "\u001b[?25hRequirement already satisfied: pyyaml>=5.1 in /usr/local/lib/python3.8/dist-packages (from transformers) (6.0)\n",
            "Requirement already satisfied: numpy>=1.17 in /usr/local/lib/python3.8/dist-packages (from transformers) (1.22.4)\n",
            "Requirement already satisfied: huggingface-hub<1.0,>=0.11.0 in /usr/local/lib/python3.8/dist-packages (from transformers) (0.12.1)\n",
            "Requirement already satisfied: packaging>=20.0 in /usr/local/lib/python3.8/dist-packages (from transformers) (23.0)\n",
            "Requirement already satisfied: tqdm>=4.27 in /usr/local/lib/python3.8/dist-packages (from transformers) (4.64.1)\n",
            "Requirement already satisfied: filelock in /usr/local/lib/python3.8/dist-packages (from transformers) (3.9.0)\n",
            "Collecting tokenizers!=0.11.3,<0.14,>=0.11.1\n",
            "  Downloading tokenizers-0.13.2-cp38-cp38-manylinux_2_17_x86_64.manylinux2014_x86_64.whl (7.6 MB)\n",
            "\u001b[2K     \u001b[90m━━━━━━━━━━━━━━━━━━━━━━━━━━━━━━━━━━━━━━━━\u001b[0m \u001b[32m7.6/7.6 MB\u001b[0m \u001b[31m76.8 MB/s\u001b[0m eta \u001b[36m0:00:00\u001b[0m\n",
            "\u001b[?25hRequirement already satisfied: regex!=2019.12.17 in /usr/local/lib/python3.8/dist-packages (from transformers) (2022.6.2)\n",
            "Requirement already satisfied: requests in /usr/local/lib/python3.8/dist-packages (from transformers) (2.25.1)\n",
            "Requirement already satisfied: typing-extensions>=3.7.4.3 in /usr/local/lib/python3.8/dist-packages (from huggingface-hub<1.0,>=0.11.0->transformers) (4.5.0)\n",
            "Requirement already satisfied: urllib3<1.27,>=1.21.1 in /usr/local/lib/python3.8/dist-packages (from requests->transformers) (1.26.14)\n",
            "Requirement already satisfied: chardet<5,>=3.0.2 in /usr/local/lib/python3.8/dist-packages (from requests->transformers) (3.0.4)\n",
            "Requirement already satisfied: certifi>=2017.4.17 in /usr/local/lib/python3.8/dist-packages (from requests->transformers) (2022.12.7)\n",
            "Requirement already satisfied: idna<3,>=2.5 in /usr/local/lib/python3.8/dist-packages (from requests->transformers) (2.10)\n",
            "Installing collected packages: tokenizers, transformers\n",
            "Successfully installed tokenizers-0.13.2 transformers-4.26.1\n"
          ]
        }
      ],
      "source": [
        "!pip install transformers\n",
        "# Google Colab has only some of python libraries preinstalled\n",
        "# others can be downloaded with pip, ! means using a command line tool"
      ]
    },
    {
      "cell_type": "code",
      "execution_count": null,
      "metadata": {
        "colab": {
          "base_uri": "https://localhost:8080/",
          "height": 150,
          "referenced_widgets": [
            "b85622a71e76453bb4d591bd7bc14772",
            "926f4e189c3e4d27bcbe3d835faffe36",
            "c5ec6988eff7442eb4938e0f33a23caa",
            "6422980e8d244b3d8658bfe1404344ea",
            "000967f73d6d481e9206eccf619d127b",
            "7a952eba1a4c4a68aca57b4ebc35029e",
            "021f9b88b7e5412095fcf3246dfd80cb",
            "d4c1eb0aa00b46cc963d2e12375b268e",
            "58721decb7614fd088ee5809457b50c6",
            "1ebbf94355424319a62b33899869419c",
            "54cac20d47a04657a9fd0dece11a0346",
            "a33bf5eb79cd44e4995f9f9c3724927f",
            "d91921f594ea45f79d4b6c4df86410a8",
            "52b43956d7ae465fa9b36eba967f0ce8",
            "b919c730497d405a95bab47d252bc5f5",
            "f9307030884a422ead00e98bca78344c",
            "7c6adc9ff251470eaa4402ebd38ec10f",
            "9e011a9f05384d08a05ebb2ef2e73839",
            "9225c9d16996407a80cd2c6da85342e2",
            "85a592127df842a69791ce252c78bb38",
            "6bb1a2cd3df343f193de7b0382dcec80",
            "4b8200c29e714f96b30922fdc326697f",
            "34efe519d83640dbb713f1fad4455468",
            "f4a99765ea9d48999225717eca3f0536",
            "2f3d53d534d8443d8b545adbe68cebda",
            "7bfccf5200be416ea96c216884585551",
            "db3898a5052f4f2ba2d99d2a43b412da",
            "02be2d2600ac4500aa88006cff60836a",
            "936cd473b2cc4a038abc1a22a5e7aee8",
            "fef540eeafca49aeace12cc74127e86e",
            "50e079cfe7df419d873eaab425c3ed5c",
            "dfd92cb6100d47ad95bcf7ee33715e50",
            "62c13ed49d5e4da08df5e06a81c631fe"
          ]
        },
        "id": "vRcLQ5U1OUp5",
        "outputId": "92f12120-0ecc-4ed3-9f7d-adef5d3e8f1d"
      },
      "outputs": [
        {
          "output_type": "display_data",
          "data": {
            "text/plain": [
              "Downloading (…)olve/main/vocab.json:   0%|          | 0.00/1.04M [00:00<?, ?B/s]"
            ],
            "application/vnd.jupyter.widget-view+json": {
              "version_major": 2,
              "version_minor": 0,
              "model_id": "b85622a71e76453bb4d591bd7bc14772"
            }
          },
          "metadata": {}
        },
        {
          "output_type": "display_data",
          "data": {
            "text/plain": [
              "Downloading (…)olve/main/merges.txt:   0%|          | 0.00/456k [00:00<?, ?B/s]"
            ],
            "application/vnd.jupyter.widget-view+json": {
              "version_major": 2,
              "version_minor": 0,
              "model_id": "a33bf5eb79cd44e4995f9f9c3724927f"
            }
          },
          "metadata": {}
        },
        {
          "output_type": "display_data",
          "data": {
            "text/plain": [
              "Downloading (…)lve/main/config.json:   0%|          | 0.00/665 [00:00<?, ?B/s]"
            ],
            "application/vnd.jupyter.widget-view+json": {
              "version_major": 2,
              "version_minor": 0,
              "model_id": "34efe519d83640dbb713f1fad4455468"
            }
          },
          "metadata": {}
        },
        {
          "output_type": "stream",
          "name": "stdout",
          "text": [
            "['br', 'Ġbr', 'Ġi', 'Ġtake', 'Ġissue', 'Ġwith', 'Ġthe', 'Ġother', 'Ġreviewers', 'Ġcomments', 'Ġfor', 'Ġthe', 'Ġsimple', 'Ġreason', 'Ġthat', 'Ġthis', 'Ġis', 'Ġa', 'Ġmystery', 'Ġfilm', 'Ġnot', 'Ġa', 'Ġsupernatural', 'Ġone', 'Ġit', 'Ġis', 'Ġnot', 'Ġthe', 'Ġonly', 'Ġfilm', 'Ġto', 'Ġhave', 'Ġa', 'Ġseemingly', 'Ġsupernatural', 'Ġexplanation', 'Ġvampires', 'Ġbut', 'Ġturns', 'Ġout', 'Ġto', 'Ġbe', 'Ġa', 'Ġvery', 'Ġmund', 'ance', 'Ġone', 'br', 'Ġbr', 'Ġother', 'Ġfilms', 'Ġthat', 'Ġcome', 'Ġto', 'Ġmind', 'Ġare', 'Ġed', 'gar', 'Ġwall', 'aces', 'Ġbefore', 'Ġdawn', 'Ġand', 'Ġthe', 'Ġmore', 'Ġfamous', 'Ġmark', 'Ġof', 'Ġthe', 'Ġvampire', 'Ġbr', 'Ġbr', 'Ġthe', 'Ġfilm', 'Ġdoes', 'Ġa', 'Ġwonderful', 'Ġjob', 'Ġin', 'Ġcreating', 'Ġa', 'Ġvery', 'Ġsp', 'ooky', 'Ġatmosphere', 'Ġsimilar', 'Ġdr', 'ac', 'ula', 'Ġwhen', 'Ġren', 'field', 'Ġmeets', 'Ġthe', 'Ġcount', 'Ġon', 'Ġthe', 'Ġstaircase', 'Ġof', 'Ġhis', 'Ġcastle', 'Ġor', 'Ġin', 'Ġmark', 'Ġof', 'Ġthe', 'Ġvampire', 'Ġwhen', 'Ġthe', 'Ġtwo', 'Ġpeople', 'Ġlook', 'Ġthru', 'Ġthe', 'Ġwindows', 'Ġof', 'Ġthe', 'Ġcastle', 'Ġruins', 'Ġand', 'Ġsee', 'Ġa', 'Ġcorpse', 'Ġplaying', 'Ġan', 'Ġorgan', 'Ġwhile', 'Ġl', 'una', 'Ġdesc', 'ends', 'Ġusing', 'Ġwings', 'Ġvery', 'Ġsurreal', 'br', 'Ġbr', 'Ġif', 'Ġone', 'Ġlikes', 'Ġthese', 'Ġoften', 'Ġsilent', 'Ġatmospheric', 'Ġtouches', 'Ġthis', 'Ġfilm', 'Ġis', 'Ġa', 'Ġmust', 'br', 'Ġbr', 'Ġnorm', 'Ġv', 'og', 'el']\n"
          ]
        }
      ],
      "source": [
        "# tokenization example\n",
        "from transformers import GPT2Tokenizer\n",
        "tokenizer = GPT2Tokenizer.from_pretrained(\"gpt2\")\n",
        "print(tokenizer.tokenize(df_train[\"text\"][112]))\n",
        "# Ġ symbol denotes white space"
      ]
    },
    {
      "cell_type": "markdown",
      "metadata": {
        "id": "2KsXTXFgYNT_"
      },
      "source": [
        "You can see that most words in our data are quite commonly-used and are not split into subwords.\n",
        "\n",
        "`tokenizer.tokenize` provides a nice visualization of the tokenization process, but we actually need to convert our texts into integer sequences (each integer denotes an index in the vocabulary):"
      ]
    },
    {
      "cell_type": "code",
      "execution_count": null,
      "metadata": {
        "colab": {
          "base_uri": "https://localhost:8080/"
        },
        "id": "Z8yY2SstTB7s",
        "outputId": "026062c3-9ef0-4a14-e79d-07fcf08fb83e"
      },
      "outputs": [
        {
          "output_type": "stream",
          "name": "stdout",
          "text": [
            "[1671, 865, 1312, 1011, 2071, 351, 262, 584, 30702, 3651, 329, 262, 2829, 1738, 326, 428, 318, 257, 10715, 2646, 407, 257, 22239, 530, 340, 318, 407, 262, 691, 2646, 284, 423, 257, 9775, 22239, 7468, 35299, 475, 4962, 503, 284, 307, 257, 845, 27943, 590, 530, 1671, 865, 584, 7328, 326, 1282, 284, 2000, 389, 1225, 4563, 3355, 2114, 878, 17577, 290, 262, 517, 5863, 1317, 286, 262, 23952, 865, 865, 262, 2646, 857, 257, 7932, 1693, 287, 4441, 257, 845, 599, 29655, 8137, 2092, 1553, 330, 4712, 618, 8851, 3245, 11185, 262, 954, 319, 262, 27656, 286, 465, 16669, 393, 287, 1317, 286, 262, 23952, 618, 262, 734, 661, 804, 33834, 262, 9168, 286, 262, 16669, 20073, 290, 766, 257, 21304, 2712, 281, 1618, 981, 300, 9613, 1715, 2412, 1262, 12098, 845, 28201, 1671, 865, 611, 530, 7832, 777, 1690, 10574, 20938, 18105, 428, 2646, 318, 257, 1276, 1671, 865, 2593, 410, 519, 417]\n"
          ]
        }
      ],
      "source": [
        "print(tokenizer.encode(df_train[\"text\"][112]))"
      ]
    },
    {
      "cell_type": "code",
      "execution_count": null,
      "metadata": {
        "colab": {
          "base_uri": "https://localhost:8080/"
        },
        "id": "u7hy-CYMbO1g",
        "outputId": "d1def7de-7f42-4fad-849f-0e9a38c53e4a"
      },
      "outputs": [
        {
          "output_type": "execute_result",
          "data": {
            "text/plain": [
              "['this']"
            ]
          },
          "metadata": {},
          "execution_count": 36
        }
      ],
      "source": [
        "# sanity check\n",
        "tokenizer.convert_ids_to_tokens([5661])"
      ]
    },
    {
      "cell_type": "code",
      "execution_count": null,
      "metadata": {
        "colab": {
          "base_uri": "https://localhost:8080/"
        },
        "id": "nLQF2LmAdyOf",
        "outputId": "5ad4b4ec-db2d-413b-dcf3-ae4bfc672908"
      },
      "outputs": [
        {
          "output_type": "execute_result",
          "data": {
            "text/plain": [
              "50257"
            ]
          },
          "metadata": {},
          "execution_count": 37
        }
      ],
      "source": [
        "# take a look at the vocabulary size\n",
        "tokenizer.vocab_size"
      ]
    },
    {
      "cell_type": "code",
      "execution_count": null,
      "metadata": {
        "id": "veu7x49KbLZL",
        "colab": {
          "base_uri": "https://localhost:8080/"
        },
        "outputId": "d297820a-444b-48db-85fe-2937489fb963"
      },
      "outputs": [
        {
          "output_type": "stream",
          "name": "stderr",
          "text": [
            "Token indices sequence length is longer than the specified maximum sequence length for this model (1130 > 1024). Running this sequence through the model will result in indexing errors\n"
          ]
        }
      ],
      "source": [
        "X_train_tok = [tokenizer.encode(text) for text in df_train[\"text\"]]\n",
        "X_test_tok = [tokenizer.encode(text) for text in df_test[\"text\"]]"
      ]
    },
    {
      "cell_type": "code",
      "execution_count": null,
      "metadata": {
        "colab": {
          "base_uri": "https://localhost:8080/"
        },
        "id": "zXmoWAO8bts7",
        "outputId": "d6223d4a-62f5-4292-a992-3093a38453c0"
      },
      "outputs": [
        {
          "output_type": "stream",
          "name": "stdout",
          "text": [
            "[[72, 7342, 428, 3807, 1367, 812, 2084, 287, 1664, 351, 616, 1266, 4048, 1545, 1312, 1392, 616, 8492, 9941, 5954, 503, 523, 1312, 42547, 1254, 845, 922, 1671, 865, 1312, 4444, 510, 24976, 340, 1263, 640, 663, 257, 1327, 2342, 611, 345, 1011, 287, 1848, 326, 340, 7529, 351, 14738, 19125, 29355, 1176, 1637, 2563, 4979, 290, 262, 3257, 1327, 3074, 326, 7529, 351, 2877, 287, 257, 3215, 7356, 1671, 865, 262, 7205, 318, 319, 663, 6994, 1241, 734, 286, 262, 1466, 326, 1312, 22279, 262, 749, 3491, 290, 29294, 257, 922, 1517, 537, 7626, 288, 7305, 318, 355, 13779, 290, 23332, 355, 1464, 981, 479, 378, 639, 5331, 1000, 318, 4457, 3024, 290, 16316, 257, 3734, 2854, 2855, 2834, 805, 318, 635, 1049, 290, 15687, 465, 1554, 81, 26523, 14482, 1671, 865, 612, 389, 867, 7110, 30953, 284, 3100, 422, 290, 787, 340, 281, 3499, 5874, 1998, 5556, 340, 2523, 262, 2408, 1661, 379, 294, 16188, 1671, 865, 428, 318, 281, 42308, 3807, 407, 867, 7328, 588, 428, 530, 423, 1282, 510, 287, 2274, 2106, 340, 815, 787, 345, 24133, 546, 867, 1243], [5661, 2646, 318, 20105, 2656, 21104, 7924, 1312, 423, 1716, 257, 1263, 2089, 9422, 1448, 494, 9646, 340, 284, 2646, 25575, 8797, 14530, 1312, 460, 220, 425, 1775, 340, 546, 2063, 257, 8667, 1661, 783, 1123, 640, 21848, 5386, 2882, 468, 4999, 616, 4203, 326, 428, 318, 530, 286, 262, 1266, 7328, 284, 1282, 503, 287, 812, 379, 3016, 790, 10876, 340, 468, 32862, 340, 468, 2035, 2702, 503, 393, 1839, 262, 5386, 4004, 5764, 663, 1598, 326, 661, 1842, 428, 2646, 772, 22363, 1521, 484, 466, 262, 13483, 45501, 318, 21840, 262, 32799, 7205, 10457, 262, 7464, 9623, 262, 4571, 5901, 351, 15213, 11501, 262, 1242, 286, 2818, 10576, 663, 1327, 284, 1975, 428, 318, 318, 44488, 2970, 684, 717, 2646, 1312, 2911, 340, 481, 307, 2716, 2582, 523, 2506, 460, 766, 340], [13571, 1370, 3509, 18042, 827, 67, 1666, 3809, 2502, 45127, 36580, 4340, 262, 20281, 290, 5386, 736, 284, 15761, 810, 674, 20281, 262, 1862, 45630, 272, 1405, 7451, 443, 404, 727, 479, 33730, 474, 11025, 3876, 66, 29069, 468, 655, 5284, 287, 1281, 1383, 4178, 15761, 308, 2224, 88, 284, 1037, 25448, 262, 9694, 1499, 7711, 479, 33730, 220, 1142, 48476, 1018, 78, 474, 11033, 2301, 29090, 4372, 9416, 443, 404, 727, 351, 257, 1693, 287, 262, 1263, 1976, 298, 1773, 64, 4512, 12017, 475, 2582, 443, 404, 727, 8953, 287, 1842, 351, 479, 776, 283, 1437, 289, 433, 9038, 2318, 39389, 424, 74, 8455, 4957, 286, 1976, 298, 1773, 64, 4870, 3509, 289, 433, 9038, 474, 24172, 81, 5235, 302, 23140, 443, 404, 727, 2582, 7228, 2241, 4978, 287, 257, 3992, 286, 9253, 852, 2077, 4621, 286, 6078, 465, 12959, 290, 318, 4137, 284, 7690, 1022, 28064, 393, 951, 263, 397, 81, 865, 11428, 46814, 2890, 47859, 645, 343, 680, 36660, 4950, 290, 13400, 777, 389, 617, 7103, 4490, 72, 577, 16969, 326, 1282, 284, 2000, 618, 3612, 286, 300, 945, 18042, 1333, 364, 10249, 30669, 11063, 8957, 262, 2457, 6843, 286, 262, 11063, 8957, 26298, 287, 514, 64, 340, 373, 1005, 7803, 1976, 298, 1773, 64, 523, 15579, 561, 429, 27531, 340, 351, 556, 77, 444, 89, 4914, 289, 692, 1746, 11063, 8957, 11063, 8957, 422, 6303, 8603, 257, 266, 86, 4178, 10512, 262, 11063, 8957, 26298, 635, 10874, 286, 11747, 563, 67, 1424, 641, 5002, 422, 12844, 290, 18195, 422, 12923, 262, 16526, 6306, 326, 691, 2702, 15897, 8587, 287, 262, 288, 7115, 13483, 292, 262, 26298, 606, 4142, 7529, 351, 36580, 1042, 290, 2994, 286, 7306, 1042, 3584, 262, 13460, 286, 428, 26298, 389, 407, 355, 6393, 355, 262, 27329, 287, 262, 28431, 8940, 286, 11063, 8957, 356, 766, 257, 33334, 19138, 3867, 3371, 514, 981, 674, 27022, 32339, 7360, 36580, 4340, 514, 319, 262, 5110, 954, 286, 3478, 345, 481, 307, 287, 11063, 8957, 307, 612, 379, 3478, 1312, 910, 3478, 257, 23094, 329, 6918, 2694, 284, 4839, 514, 656, 257, 30931, 4320, 46290, 1671, 865, 11063, 8957, 34547, 257, 6283, 475, 4457, 4050, 5874, 3918, 326, 5863, 374, 31562, 3437, 290, 260, 72, 256, 668, 29716, 318, 1333, 364, 1388, 10745, 23079, 1139, 340, 477, 663, 257, 2042, 392, 11186, 3807, 10491, 45905, 351, 2266, 287, 1296, 286, 2910, 257, 2266, 6576, 3503, 1864, 284, 14923, 428, 7867, 2876, 574, 599, 8207, 3900, 284, 779, 262, 2092, 1245, 287, 427, 521, 8116, 1351, 422, 9656, 11194, 738, 1927, 1194, 266, 86, 4178, 10512, 50002, 1333, 263, 3544, 1307, 4262, 288, 7140, 21981, 290, 6865, 85, 658, 4469, 16302, 295, 416, 4375, 13869, 2823, 34962, 11685, 2402, 11685, 475, 5023, 1468, 289, 31777, 6918, 326, 16560, 340, 329, 40590, 3840, 1333, 263, 3544, 340, 329, 17290, 3840, 777, 7773, 10945, 965, 8368, 566, 278, 5874, 7605, 739, 1370, 326, 356, 389, 287, 257, 4320, 46290, 356, 389, 36580, 1143, 262, 6881, 286, 11063, 8957, 318, 407, 1103, 11063, 8957, 318, 1690, 12318, 329, 21990, 6190, 8173, 884, 355, 1963, 346, 323, 1068, 4469, 16302, 295, 2029, 7110, 290, 3435, 475, 17207, 29294, 644, 30702, 12318, 336, 272, 1636, 479, 549, 23706, 15963, 5874, 30669, 5878, 257, 2272, 16298, 23784, 329, 26760, 340, 6622, 281, 44609, 1295, 287, 477, 13483, 993, 396, 652, 3835, 1671, 865, 11063, 8957, 635, 3011, 5371, 286, 6754, 11491, 1108, 5729, 1333, 263, 46974, 262, 299, 1031, 271, 547, 18829, 7417, 8094, 1165, 881, 6754, 12085, 1864, 284, 2972, 319, 6615, 2203, 29294, 3376, 257, 13899, 2426, 1949, 467, 519, 1359, 340, 3511, 1865, 1333, 364, 4959, 389, 6159, 9856, 4249, 42458, 2106, 14351, 11063, 8957, 318, 257, 497, 37713, 278, 17123, 443, 404, 727, 479, 33730, 318, 36580, 1143, 4361, 262, 6881, 326, 262, 5386, 16925, 318, 257, 26987, 3950, 8603, 340, 2523, 703, 674, 4088, 12738, 1083, 514, 257, 1802, 7187, 25056, 318, 257, 6486, 3584, 1862, 15579, 508, 1998, 11063, 8957, 389, 1165, 1862, 284, 423, 9846, 422, 266, 86, 4178, 356, 423, 257, 10098, 4088, 286, 340, 422, 2972, 275, 15630, 43014, 523, 777, 1402, 47283, 13433, 1682, 4691, 257, 4007, 484, 4175, 514, 514, 326, 356, 389, 407, 287, 1281, 1383, 4178, 308, 2224, 88, 15761, 475, 287, 443, 404, 10119, 4088, 286, 340, 1671, 865, 477, 1115, 11063, 8957, 26298, 15754, 10993, 1862, 1405, 9251, 351, 15581, 14953, 4137, 656, 9253, 290, 6078, 511, 15735, 24211, 262, 27102, 38168, 286, 11747, 563, 67, 1424, 641, 5002, 290, 11063, 8957, 905, 262, 1405, 9251, 1972, 8097, 4978, 287, 511, 36580, 1143, 22072, 878, 1141, 290, 706, 4395, 11063, 8957, 287, 6303, 287, 755, 392, 300, 945, 18042, 1333, 263, 290, 9875, 43407, 37628, 1424, 410, 24172, 81, 741, 547, 4457, 4609, 287, 266, 86, 4178, 340, 2523, 663, 11856, 351, 4457, 4950, 6934, 16508, 262, 8137, 286, 262, 640, 41007, 4136, 261, 257, 1049, 1672, 318, 262, 1468, 25245, 4928, 11063, 8957, 373, 2823, 287, 755, 392, 7525, 329, 3034, 3840, 287, 262, 938, 719, 286, 11063, 8957, 355, 351, 5878, 2272, 16298, 23784, 1312, 892, 11063, 8957, 481, 3328, 663, 41802, 20143, 1295, 287, 13483, 993, 396, 652, 663, 2446, 286, 36373, 1468, 2646, 3919, 343, 1842, 2001, 958, 35478, 20954, 290, 5874, 7605, 318, 523, 3748, 6283, 290, 3190, 1180, 422, 1997, 345, 481, 766, 422, 289, 31777, 26760, 393, 597, 584, 4320, 69, 9548, 329, 326, 2300, 1671, 865, 11063, 8957, 318, 281, 6393, 3807, 287, 262, 300, 945, 18042, 1333, 263, 18388, 617, 3551, 340, 572, 355, 5899, 5068, 13367, 475, 326, 561, 307, 22694, 663, 826, 510, 612, 351, 584, 1333, 263, 29039, 290, 39290, 31172, 873, 884, 355, 11747, 563, 67, 1424, 641, 5002, 422, 12844, 262, 31557, 25076, 7805, 316, 422, 9656, 290, 3290, 4244, 422, 5816, 663, 257, 3748, 1998, 422, 878, 1333, 263, 19951, 329, 465, 10544, 290, 878, 262, 3290, 1326, 3865, 29960, 2342, 340, 319, 262, 954, 286, 3478, 860, 940]]\n"
          ]
        }
      ],
      "source": [
        "print(X_train_tok[:3])"
      ]
    },
    {
      "cell_type": "markdown",
      "metadata": {
        "id": "uQrbp0sjc3Rd"
      },
      "source": [
        "## 3.2 Vanilla RNN and LSTM\n",
        "\n",
        "__Tools:__ for training neural networks, two most popular libraries are PyTorch and TensorFlow, we will use the first one. A tutorial on training RNNs for text classification in PyTorch: [link](https://coderzcolumn.com/tutorials/artificial-intelligence/pytorch-lstm-for-text-classification-tasks)."
      ]
    },
    {
      "cell_type": "code",
      "execution_count": null,
      "metadata": {
        "id": "xF_4NhU4cgFZ"
      },
      "outputs": [],
      "source": [
        "import torch\n",
        "import torch.nn as nn\n",
        "import torch.nn.functional as F\n",
        "import torch.optim as optim"
      ]
    },
    {
      "cell_type": "markdown",
      "metadata": {
        "id": "VOx9ZyJZeFvh"
      },
      "source": [
        "### 3.2.1 Clipping and padding sequences (2 points)\n",
        "\n",
        "When we pass data to a neural network, we group sequences into mini-batches, to speed-up the training process and to improve convergence. But sequences have various lengths, while neural networks operate with matrices or tensors with fixed dimensionalities. To bring things together, we will _pad_ short sequences with some special index, e. g. 0, and clip too long sequences.  Before doing that, we need to decide on the maximum sequence length we want to work with.  Let's plot the histogram of lengths do do that:"
      ]
    },
    {
      "cell_type": "code",
      "execution_count": null,
      "metadata": {
        "colab": {
          "base_uri": "https://localhost:8080/",
          "height": 296
        },
        "id": "dWdy33Uwdsqh",
        "outputId": "015e89e5-476f-471d-87cb-24e1a0f10442"
      },
      "outputs": [
        {
          "output_type": "execute_result",
          "data": {
            "text/plain": [
              "Text(0, 0.5, 'Number of sequences')"
            ]
          },
          "metadata": {},
          "execution_count": 42
        },
        {
          "output_type": "display_data",
          "data": {
            "text/plain": [
              "<Figure size 432x288 with 1 Axes>"
            ],
            "image/png": "[encoded data removed]"
          },
          "metadata": {
            "needs_background": "light"
          }
        }
      ],
      "source": [
        "_ = plt.hist([len(s) for s in X_train_tok], 100)\n",
        "plt.xlabel(\"Length\")\n",
        "plt.ylabel(\"Number of sequences\")"
      ]
    },
    {
      "cell_type": "markdown",
      "metadata": {
        "id": "t_d9K9M1fFNj"
      },
      "source": [
        "All tokens beyond the maximum sequence length will be clipped. Using large `max_seq_len` would accomodate all tokens, but be less time-efficient. Let's choose something in the middle, e. g. `max_seq_len=500`."
      ]
    },
    {
      "cell_type": "code",
      "execution_count": null,
      "metadata": {
        "id": "SihXztNZffe_"
      },
      "outputs": [],
      "source": [
        "max_seq_len = 500   \n",
        "\n",
        "# clip sequences: for each element in X_train_tok and X_test_tok, truncate the length of each entry at max_seq_len. Ignore what comes after.\n",
        "# therefore each element has length at most max_seq_len\n",
        "# hint: list comprehension is your friend, or this can be done with a loop\n",
        "X_train_tok = [seq[:500] for seq in X_train_tok]\n",
        "X_test_tok = [seq[:500] for seq in X_test_tok]\n",
        "\n",
        "# create masks\n",
        "mask_train = [[1]*len(s)+[0]*(max_seq_len-len(s)) for s in X_train_tok]\n",
        "mask_test = [[1]*len(s)+[0]*(max_seq_len-len(s)) for s in X_test_tok]\n",
        "\n",
        "# pad sequences: for each element in X_train_tok and X_test_tok, pad each\n",
        "# element at the end with 0s such that each element has length exactly max_seq_len\n",
        "X_train_tok = [seq + [0] * (500 - len(seq)) if len(seq) <= 501 else seq for seq in X_train_tok]\n",
        "X_test_tok = [seq + [0] * (500 - len(seq)) if len(seq) <= 501 else seq for seq in X_test_tok]"
      ]
    },
    {
      "cell_type": "code",
      "execution_count": null,
      "metadata": {
        "colab": {
          "base_uri": "https://localhost:8080/"
        },
        "id": "9-t2CDWssoxT",
        "outputId": "40cfb387-1e23-4311-acfe-1bd636ca1194"
      },
      "outputs": [
        {
          "output_type": "stream",
          "name": "stdout",
          "text": [
            "[533, 356, 1107, 1642, 2008, 299, 459, 444, 757, 287, 262, 34731, 286, 257, 4875, 3094, 3159, 1263, 4466, 28763, 286, 807, 3020, 428, 318, 2407, 257, 6594, 12716, 612, 318, 257, 1643, 1165, 881, 1621, 290, 379, 1661, 428, 4329, 588, 257, 3067, 5119, 355, 674, 41487, 15455, 262, 3133, 6201, 10222, 286, 1582, 271, 41478, 3686, 290, 716, 22506, 1312, 716, 2158, 852, 2138, 442, 333, 1836, 329, 262, 1207, 28366, 8188, 1390, 2279, 422, 3024, 20302, 11859, 44637, 290, 5210, 1714, 284, 32249, 307, 33878, 290, 617, 777, 8188, 389, 2296, 330, 5039, 290, 663, 257, 26246, 865, 36909, 290, 465, 4466, 714, 429, 7539, 284, 787, 477, 262, 867, 2095, 913, 8109, 5495, 1716, 517, 621, 2391, 33674, 6691, 0, 0, 0, 0, 0, 0, 0, 0, 0, 0, 0, 0, 0, 0, 0, 0, 0, 0, 0, 0, 0, 0, 0, 0, 0, 0, 0, 0, 0, 0, 0, 0, 0, 0, 0, 0, 0, 0, 0, 0, 0, 0, 0, 0, 0, 0, 0, 0, 0, 0, 0, 0, 0, 0, 0, 0, 0, 0, 0, 0, 0, 0, 0, 0, 0, 0, 0, 0, 0, 0, 0, 0, 0, 0, 0, 0, 0, 0, 0, 0, 0, 0, 0, 0, 0, 0, 0, 0, 0, 0, 0, 0, 0, 0, 0, 0, 0, 0, 0, 0, 0, 0, 0, 0, 0, 0, 0, 0, 0, 0, 0, 0, 0, 0, 0, 0, 0, 0, 0, 0, 0, 0, 0, 0, 0, 0, 0, 0, 0, 0, 0, 0, 0, 0, 0, 0, 0, 0, 0, 0, 0, 0, 0, 0, 0, 0, 0, 0, 0, 0, 0, 0, 0, 0, 0, 0, 0, 0, 0, 0, 0, 0, 0, 0, 0, 0, 0, 0, 0, 0, 0, 0, 0, 0, 0, 0, 0, 0, 0, 0, 0, 0, 0, 0, 0, 0, 0, 0, 0, 0, 0, 0, 0, 0, 0, 0, 0, 0, 0, 0, 0, 0, 0, 0, 0, 0, 0, 0, 0, 0, 0, 0, 0, 0, 0, 0, 0, 0, 0, 0, 0, 0, 0, 0, 0, 0, 0, 0, 0, 0, 0, 0, 0, 0, 0, 0, 0, 0, 0, 0, 0, 0, 0, 0, 0, 0, 0, 0, 0, 0, 0, 0, 0, 0, 0, 0, 0, 0, 0, 0, 0, 0, 0, 0, 0, 0, 0, 0, 0, 0, 0, 0, 0, 0, 0, 0, 0, 0, 0, 0, 0, 0, 0, 0, 0, 0, 0, 0, 0, 0, 0, 0, 0, 0, 0, 0, 0, 0, 0, 0, 0, 0, 0, 0, 0, 0, 0, 0, 0, 0, 0, 0, 0, 0, 0, 0, 0, 0, 0, 0, 0, 0, 0, 0, 0, 0, 0, 0, 0, 0, 0, 0, 0, 0, 0, 0, 0, 0, 0, 0, 0, 0, 0, 0, 0, 0, 0, 0, 0, 0, 0, 0, 0, 0, 0, 0, 0, 0, 0, 0, 0, 0, 0, 0, 0, 0, 0, 0, 0, 0, 0, 0, 0, 0, 0, 0, 0]\n",
            "[[1, 1, 1, 1, 1, 1, 1, 1, 1, 1, 1, 1, 1, 1, 1, 1, 1, 1, 1, 1, 1, 1, 1, 1, 1, 1, 1, 1, 1, 1, 1, 1, 1, 1, 1, 1, 1, 1, 1, 1, 1, 1, 1, 1, 1, 1, 1, 1, 1, 1, 1, 1, 1, 1, 1, 1, 1, 1, 1, 1, 1, 1, 1, 1, 1, 1, 1, 1, 1, 1, 1, 1, 1, 1, 1, 1, 1, 1, 1, 1, 1, 1, 1, 1, 1, 1, 1, 1, 1, 1, 1, 1, 1, 1, 1, 1, 1, 1, 1, 1, 1, 1, 1, 1, 1, 1, 1, 1, 1, 1, 1, 1, 1, 1, 1, 1, 1, 1, 1, 1, 1, 1, 1, 1, 1, 1, 1, 1, 1, 1, 1, 1, 1, 1, 1, 1, 1, 1, 1, 1, 1, 1, 1, 1, 1, 1, 1, 1, 1, 1, 1, 1, 1, 1, 1, 1, 1, 1, 1, 1, 1, 1, 1, 1, 1, 1, 1, 1, 1, 1, 1, 1, 1, 1, 1, 1, 1, 1, 1, 1, 1, 1, 1, 1, 0, 0, 0, 0, 0, 0, 0, 0, 0, 0, 0, 0, 0, 0, 0, 0, 0, 0, 0, 0, 0, 0, 0, 0, 0, 0, 0, 0, 0, 0, 0, 0, 0, 0, 0, 0, 0, 0, 0, 0, 0, 0, 0, 0, 0, 0, 0, 0, 0, 0, 0, 0, 0, 0, 0, 0, 0, 0, 0, 0, 0, 0, 0, 0, 0, 0, 0, 0, 0, 0, 0, 0, 0, 0, 0, 0, 0, 0, 0, 0, 0, 0, 0, 0, 0, 0, 0, 0, 0, 0, 0, 0, 0, 0, 0, 0, 0, 0, 0, 0, 0, 0, 0, 0, 0, 0, 0, 0, 0, 0, 0, 0, 0, 0, 0, 0, 0, 0, 0, 0, 0, 0, 0, 0, 0, 0, 0, 0, 0, 0, 0, 0, 0, 0, 0, 0, 0, 0, 0, 0, 0, 0, 0, 0, 0, 0, 0, 0, 0, 0, 0, 0, 0, 0, 0, 0, 0, 0, 0, 0, 0, 0, 0, 0, 0, 0, 0, 0, 0, 0, 0, 0, 0, 0, 0, 0, 0, 0, 0, 0, 0, 0, 0, 0, 0, 0, 0, 0, 0, 0, 0, 0, 0, 0, 0, 0, 0, 0, 0, 0, 0, 0, 0, 0, 0, 0, 0, 0, 0, 0, 0, 0, 0, 0, 0, 0, 0, 0, 0, 0, 0, 0, 0, 0, 0, 0, 0, 0, 0, 0, 0, 0, 0, 0, 0, 0, 0, 0, 0, 0, 0, 0, 0, 0, 0, 0, 0, 0, 0, 0, 0, 0, 0, 0, 0, 0, 0, 0, 0, 0, 0, 0, 0, 0, 0, 0, 0, 0, 0, 0, 0, 0, 0, 0, 0, 0, 0, 0, 0, 0, 0, 0, 0, 0, 0, 0, 0, 0, 0, 0, 0, 0, 0, 0, 0, 0, 0, 0, 0, 0, 0, 0, 0, 0, 0, 0, 0, 0, 0, 0, 0, 0, 0, 0, 0, 0], [1, 1, 1, 1, 1, 1, 1, 1, 1, 1, 1, 1, 1, 1, 1, 1, 1, 1, 1, 1, 1, 1, 1, 1, 1, 1, 1, 1, 1, 1, 1, 1, 1, 1, 1, 1, 1, 1, 1, 1, 1, 1, 1, 1, 1, 1, 1, 1, 1, 1, 1, 1, 1, 1, 1, 1, 1, 1, 1, 1, 1, 1, 1, 1, 1, 1, 1, 1, 1, 1, 1, 1, 1, 1, 1, 1, 1, 1, 1, 1, 1, 1, 1, 1, 1, 1, 1, 1, 1, 1, 1, 1, 1, 1, 1, 1, 1, 1, 1, 1, 1, 1, 1, 1, 1, 1, 1, 1, 1, 1, 1, 1, 1, 1, 1, 1, 1, 1, 1, 1, 1, 1, 1, 1, 1, 1, 1, 1, 1, 1, 1, 1, 1, 1, 0, 0, 0, 0, 0, 0, 0, 0, 0, 0, 0, 0, 0, 0, 0, 0, 0, 0, 0, 0, 0, 0, 0, 0, 0, 0, 0, 0, 0, 0, 0, 0, 0, 0, 0, 0, 0, 0, 0, 0, 0, 0, 0, 0, 0, 0, 0, 0, 0, 0, 0, 0, 0, 0, 0, 0, 0, 0, 0, 0, 0, 0, 0, 0, 0, 0, 0, 0, 0, 0, 0, 0, 0, 0, 0, 0, 0, 0, 0, 0, 0, 0, 0, 0, 0, 0, 0, 0, 0, 0, 0, 0, 0, 0, 0, 0, 0, 0, 0, 0, 0, 0, 0, 0, 0, 0, 0, 0, 0, 0, 0, 0, 0, 0, 0, 0, 0, 0, 0, 0, 0, 0, 0, 0, 0, 0, 0, 0, 0, 0, 0, 0, 0, 0, 0, 0, 0, 0, 0, 0, 0, 0, 0, 0, 0, 0, 0, 0, 0, 0, 0, 0, 0, 0, 0, 0, 0, 0, 0, 0, 0, 0, 0, 0, 0, 0, 0, 0, 0, 0, 0, 0, 0, 0, 0, 0, 0, 0, 0, 0, 0, 0, 0, 0, 0, 0, 0, 0, 0, 0, 0, 0, 0, 0, 0, 0, 0, 0, 0, 0, 0, 0, 0, 0, 0, 0, 0, 0, 0, 0, 0, 0, 0, 0, 0, 0, 0, 0, 0, 0, 0, 0, 0, 0, 0, 0, 0, 0, 0, 0, 0, 0, 0, 0, 0, 0, 0, 0, 0, 0, 0, 0, 0, 0, 0, 0, 0, 0, 0, 0, 0, 0, 0, 0, 0, 0, 0, 0, 0, 0, 0, 0, 0, 0, 0, 0, 0, 0, 0, 0, 0, 0, 0, 0, 0, 0, 0, 0, 0, 0, 0, 0, 0, 0, 0, 0, 0, 0, 0, 0, 0, 0, 0, 0, 0, 0, 0, 0, 0, 0, 0, 0, 0, 0, 0, 0, 0, 0, 0, 0, 0, 0, 0, 0, 0, 0, 0, 0, 0, 0, 0, 0, 0, 0, 0, 0, 0, 0, 0, 0, 0, 0, 0, 0, 0, 0, 0, 0, 0, 0, 0, 0, 0, 0, 0, 0, 0, 0, 0, 0, 0, 0, 0, 0, 0, 0, 0, 0, 0, 0, 0, 0, 0, 0, 0, 0], [1, 1, 1, 1, 1, 1, 1, 1, 1, 1, 1, 1, 1, 1, 1, 1, 1, 1, 1, 1, 1, 1, 1, 1, 1, 1, 1, 1, 1, 1, 1, 1, 1, 1, 1, 1, 1, 1, 1, 1, 1, 1, 1, 1, 1, 1, 1, 1, 1, 1, 1, 1, 1, 1, 1, 1, 1, 1, 1, 1, 1, 1, 1, 1, 1, 1, 1, 1, 1, 1, 1, 1, 1, 1, 1, 1, 1, 1, 1, 1, 1, 1, 1, 1, 1, 1, 1, 1, 1, 1, 1, 1, 1, 1, 1, 1, 1, 1, 1, 1, 1, 1, 1, 1, 1, 1, 1, 1, 1, 1, 1, 1, 1, 1, 1, 1, 1, 1, 1, 1, 1, 1, 1, 1, 1, 1, 1, 1, 1, 1, 1, 1, 1, 1, 1, 1, 1, 1, 1, 1, 1, 1, 1, 1, 1, 1, 1, 1, 1, 1, 1, 1, 1, 1, 1, 1, 1, 1, 1, 1, 1, 1, 1, 1, 1, 1, 1, 1, 1, 1, 1, 1, 1, 1, 1, 1, 1, 1, 1, 1, 1, 1, 1, 1, 1, 1, 1, 1, 1, 1, 1, 1, 1, 1, 1, 1, 1, 1, 1, 1, 1, 1, 1, 1, 1, 1, 1, 1, 1, 1, 1, 1, 1, 1, 1, 1, 1, 1, 1, 1, 1, 1, 1, 1, 1, 1, 1, 1, 1, 1, 1, 1, 1, 1, 1, 1, 1, 1, 1, 1, 1, 1, 1, 1, 1, 1, 1, 1, 1, 1, 1, 1, 1, 1, 1, 1, 1, 1, 1, 1, 1, 1, 1, 1, 1, 1, 1, 1, 1, 1, 1, 1, 1, 1, 1, 1, 1, 1, 1, 1, 1, 1, 1, 1, 1, 1, 1, 1, 1, 1, 1, 1, 1, 1, 1, 1, 1, 1, 1, 1, 1, 1, 1, 1, 1, 1, 1, 1, 1, 1, 1, 1, 1, 1, 1, 1, 1, 1, 1, 1, 1, 1, 1, 1, 1, 1, 1, 1, 1, 1, 1, 1, 1, 1, 1, 1, 1, 1, 1, 1, 1, 1, 1, 1, 1, 1, 1, 1, 1, 1, 1, 1, 1, 1, 1, 1, 1, 1, 1, 1, 1, 1, 1, 1, 1, 1, 1, 1, 1, 1, 1, 1, 1, 1, 1, 1, 1, 1, 1, 1, 1, 1, 1, 1, 1, 1, 1, 1, 1, 1, 1, 1, 1, 1, 1, 1, 1, 1, 1, 1, 1, 1, 1, 1, 1, 1, 1, 1, 1, 1, 1, 1, 1, 1, 1, 1, 1, 1, 1, 1, 1, 1, 1, 1, 1, 1, 1, 1, 1, 1, 1, 1, 1, 1, 1, 1, 1, 1, 1, 1, 1, 1, 1, 1, 1, 1, 1, 1, 1, 1, 1, 1, 1, 1, 1, 1, 1, 1, 1, 1, 1, 1, 1, 1, 1, 1, 1, 1, 1, 1, 1, 1, 1, 1, 1, 1, 1, 1, 1, 1, 1, 1, 1, 1, 1, 1, 1, 1, 1, 1, 1, 1, 1, 1, 1, 1, 1, 1, 1, 1]]\n"
          ]
        }
      ],
      "source": [
        "print(X_train_tok[3])\n",
        "# indices at the beginning and 0's at the end\n",
        "print(mask_train[:3])\n",
        "# 1's at the beginning and 0's at the end"
      ]
    },
    {
      "cell_type": "markdown",
      "metadata": {
        "id": "ilUhf2sonaKy"
      },
      "source": [
        "### 3.2.2 Creating mini-batches\n",
        "\n",
        "We will now define datasets which store our training and testing data, and them define data loaders which will generate mini-batches from our data."
      ]
    },
    {
      "cell_type": "code",
      "execution_count": null,
      "metadata": {
        "id": "PMN3m82Mou_h"
      },
      "outputs": [],
      "source": [
        "y_train = df_train[\"label\"].values\n",
        "y_test = df_test[\"label\"].values"
      ]
    },
    {
      "cell_type": "code",
      "execution_count": null,
      "metadata": {
        "id": "IFHIZNMwk-C5",
        "colab": {
          "base_uri": "https://localhost:8080/",
          "height": 356
        },
        "outputId": "b8d384c2-0889-4bdb-b2cc-c28df8969a2a"
      },
      "outputs": [
        {
          "output_type": "error",
          "ename": "AssertionError",
          "evalue": "ignored",
          "traceback": [
            "\u001b[0;31m---------------------------------------------------------------------------\u001b[0m",
            "\u001b[0;31mAssertionError\u001b[0m                            Traceback (most recent call last)",
            "\u001b[0;32m<ipython-input-96-b492b6341341>\u001b[0m in \u001b[0;36m<module>\u001b[0;34m\u001b[0m\n\u001b[1;32m      6\u001b[0m                                                          dtype=torch.float))\n\u001b[1;32m      7\u001b[0m \u001b[0;34m\u001b[0m\u001b[0m\n\u001b[0;32m----> 8\u001b[0;31m test_dset = torch.utils.data.TensorDataset(torch.tensor(X_test_tok, \n\u001b[0m\u001b[1;32m      9\u001b[0m                                                         dtype=torch.long), \n\u001b[1;32m     10\u001b[0m                                           torch.tensor(y_test, \n",
            "\u001b[0;32m/usr/local/lib/python3.8/dist-packages/torch/utils/data/dataset.py\u001b[0m in \u001b[0;36m__init__\u001b[0;34m(self, *tensors)\u001b[0m\n\u001b[1;32m    187\u001b[0m \u001b[0;34m\u001b[0m\u001b[0m\n\u001b[1;32m    188\u001b[0m     \u001b[0;32mdef\u001b[0m \u001b[0m__init__\u001b[0m\u001b[0;34m(\u001b[0m\u001b[0mself\u001b[0m\u001b[0;34m,\u001b[0m \u001b[0;34m*\u001b[0m\u001b[0mtensors\u001b[0m\u001b[0;34m:\u001b[0m \u001b[0mTensor\u001b[0m\u001b[0;34m)\u001b[0m \u001b[0;34m->\u001b[0m \u001b[0;32mNone\u001b[0m\u001b[0;34m:\u001b[0m\u001b[0;34m\u001b[0m\u001b[0;34m\u001b[0m\u001b[0m\n\u001b[0;32m--> 189\u001b[0;31m         \u001b[0;32massert\u001b[0m \u001b[0mall\u001b[0m\u001b[0;34m(\u001b[0m\u001b[0mtensors\u001b[0m\u001b[0;34m[\u001b[0m\u001b[0;36m0\u001b[0m\u001b[0;34m]\u001b[0m\u001b[0;34m.\u001b[0m\u001b[0msize\u001b[0m\u001b[0;34m(\u001b[0m\u001b[0;36m0\u001b[0m\u001b[0;34m)\u001b[0m \u001b[0;34m==\u001b[0m \u001b[0mtensor\u001b[0m\u001b[0;34m.\u001b[0m\u001b[0msize\u001b[0m\u001b[0;34m(\u001b[0m\u001b[0;36m0\u001b[0m\u001b[0;34m)\u001b[0m \u001b[0;32mfor\u001b[0m \u001b[0mtensor\u001b[0m \u001b[0;32min\u001b[0m \u001b[0mtensors\u001b[0m\u001b[0;34m)\u001b[0m\u001b[0;34m,\u001b[0m \u001b[0;34m\"Size mismatch between tensors\"\u001b[0m\u001b[0;34m\u001b[0m\u001b[0;34m\u001b[0m\u001b[0m\n\u001b[0m\u001b[1;32m    190\u001b[0m         \u001b[0mself\u001b[0m\u001b[0;34m.\u001b[0m\u001b[0mtensors\u001b[0m \u001b[0;34m=\u001b[0m \u001b[0mtensors\u001b[0m\u001b[0;34m\u001b[0m\u001b[0;34m\u001b[0m\u001b[0m\n\u001b[1;32m    191\u001b[0m \u001b[0;34m\u001b[0m\u001b[0m\n",
            "\u001b[0;31mAssertionError\u001b[0m: Size mismatch between tensors"
          ]
        }
      ],
      "source": [
        "train_dset = torch.utils.data.TensorDataset(torch.tensor(X_train_tok, \n",
        "                                                         dtype=torch.long), \n",
        "                                            torch.tensor(y_train, \n",
        "                                                         dtype=torch.long), \n",
        "                                            torch.tensor(mask_train, \n",
        "                                                         dtype=torch.float))\n",
        "\n",
        "test_dset = torch.utils.data.TensorDataset(torch.tensor(X_test_tok, \n",
        "                                                        dtype=torch.long), \n",
        "                                          torch.tensor(y_test, \n",
        "                                                        dtype=torch.long), \n",
        "                                          torch.tensor(mask_test, \n",
        "                                                        dtype=torch.float))"
      ]
    },
    {
      "cell_type": "code",
      "execution_count": null,
      "metadata": {
        "id": "FLzrzO0Os_0n"
      },
      "outputs": [],
      "source": [
        "batch_size = 128\n",
        "\n",
        "train_loader = torch.utils.data.DataLoader(train_dset,\n",
        "                          batch_size=batch_size,\n",
        "                          shuffle=True,\n",
        "                          num_workers=2\n",
        "                         )\n",
        "\n",
        "test_loader = torch.utils.data.DataLoader(test_dset,\n",
        "                          batch_size=batch_size,\n",
        "                          shuffle=False,\n",
        "                          num_workers=2\n",
        "                         )"
      ]
    },
    {
      "cell_type": "code",
      "execution_count": null,
      "metadata": {
        "colab": {
          "base_uri": "https://localhost:8080/"
        },
        "id": "XTkdBw0guYqd",
        "outputId": "5bd5898a-fdd5-466b-e20b-a13dfb6bfc80"
      },
      "outputs": [
        {
          "output_type": "stream",
          "name": "stdout",
          "text": [
            "torch.Size([128, 500]) torch.Size([128]) torch.Size([128, 500])\n",
            "tensor([[   86, 27866,    81,  ...,   326, 31733,  1838],\n",
            "        [ 4480,  1178, 13269,  ...,     0,     0,     0],\n",
            "        [ 1169,  1908, 20538,  ...,     0,     0,     0],\n",
            "        ...,\n",
            "        [  847,   621,   262,  ...,     0,     0,     0],\n",
            "        [  270,   373, 23374,  ...,     0,     0,     0],\n",
            "        [ 1169,  1266,  2646,  ...,     0,     0,     0]])\n",
            "tensor([1, 1, 1, 0, 1, 1, 0, 1, 0, 0, 1, 1, 1, 1, 0, 1, 1, 1, 0, 1, 0, 0, 0, 0,\n",
            "        0, 0, 1, 1, 0, 0, 0, 1, 0, 0, 0, 0, 1, 0, 0, 1, 0, 1, 1, 1, 0, 0, 1, 1,\n",
            "        1, 1, 0, 1, 1, 0, 1, 1, 0, 0, 0, 1, 0, 1, 1, 0, 1, 1, 0, 0, 0, 1, 1, 1,\n",
            "        1, 1, 0, 0, 1, 1, 1, 0, 0, 0, 1, 0, 0, 0, 0, 0, 1, 1, 0, 0, 1, 0, 0, 1,\n",
            "        0, 1, 0, 1, 1, 1, 0, 0, 0, 0, 1, 1, 1, 1, 1, 1, 0, 0, 1, 1, 0, 1, 0, 1,\n",
            "        1, 0, 1, 0, 1, 0, 0, 1])\n",
            "tensor([[1., 1., 1.,  ..., 1., 1., 1.],\n",
            "        [1., 1., 1.,  ..., 0., 0., 0.],\n",
            "        [1., 1., 1.,  ..., 0., 0., 0.],\n",
            "        ...,\n",
            "        [1., 1., 1.,  ..., 0., 0., 0.],\n",
            "        [1., 1., 1.,  ..., 0., 0., 0.],\n",
            "        [1., 1., 1.,  ..., 0., 0., 0.]])\n"
          ]
        }
      ],
      "source": [
        "# demo\n",
        "x, y, m = next(iter(train_loader))\n",
        "print(x.shape, y.shape, m.shape)\n",
        "# x.shape: [B, L], y.shape: [L], mask.shape: [B, L]\n",
        "print(x)\n",
        "print(y)\n",
        "print(m)"
      ]
    },
    {
      "cell_type": "markdown",
      "source": [
        "### 3.2.3 Defining model (6 points)\n",
        "\n",
        "In PyTorch, models are usually defined as classes, with the `__init__` method (which defines all needed components and initializes parameters) and the `forward` method (which defined how forward pass is conducted). All model hyperparameters are passed to the `__init__` method. When one create an instance of the class, one does so with specific parameter values for that instance. To do this, one calls the class and passes, in parentheses, values of the parameters defined in `__init__`.\n",
        "\n",
        "We will have an embedding layer, one or two recurrent layers (LSTM or vanilla RNN), and one feed-forward layer to make final predictions. The feed-forward layer will take as an input the hidden states from the recurrent layer, _averaged_ over the sequence length. "
      ],
      "metadata": {
        "id": "d6CtSXMXoCKR"
      }
    },
    {
      "cell_type": "code",
      "execution_count": null,
      "metadata": {
        "id": "vAYm6F0dtLj0"
      },
      "outputs": [],
      "source": [
        "device = torch.device(\"cpu\")\n",
        "# training RNNs without GPU can be veeery slow.\n",
        "# you can request GPU in colab in Runtime -> Change runtime type -> GPU"
      ]
    },
    {
      "cell_type": "code",
      "execution_count": null,
      "metadata": {
        "id": "9_zsCkcJtPmv"
      },
      "outputs": [],
      "source": [
        "# you can specify rec_layer=nn.LSTM or rec_layer=nn.RNN\n",
        "class RNNClassifier(nn.Module):\n",
        "    def __init__(self, embedding_dim, hidden_dim, vocab_size, \\\n",
        "                 num_rec_layers=1, rec_layer=nn.RNN):\n",
        "        super(RNNClassifier, self).__init__()\n",
        "\n",
        "        self.word_embeddings = nn.Embedding(vocab_size, embedding_dim)\n",
        "\n",
        "        self.num_rec_layers = num_rec_layers\n",
        "        self.rnn1 = nn.RNN(embedding_dim, hidden_dim, batch_first = True)\n",
        "        if self.num_rec_layers == 2:\n",
        "            self.rnn2 = nn.LSTM(hidden_dim, hidden_dim, batch_first = True)\n",
        "\n",
        "        self.hidden2label = nn.Linear(hidden_dim, 1)\n",
        "    \n",
        "    def forward(self, sentences, mask):\n",
        "        embedding = self.word_embeddings(sentences)\n",
        "        out, hidden = self.rnn1(embedding)\n",
        "        if self.num_rec_layers == 2:\n",
        "            out, hidden = self.rnn2(out)\n",
        "        out = (out*mask[:, :, None]).mean(dim=1)\n",
        "        res = torch.sigmoid(self.hidden2label(out))\n",
        "        return res"
      ]
    },
    {
      "cell_type": "code",
      "execution_count": null,
      "metadata": {
        "id": "fiHgOR5zt0JO",
        "colab": {
          "base_uri": "https://localhost:8080/"
        },
        "outputId": "9be2328a-d19f-4d32-ac5c-33d198eb97d4"
      },
      "outputs": [
        {
          "output_type": "execute_result",
          "data": {
            "text/plain": [
              "RNNClassifier(\n",
              "  (word_embeddings): Embedding(50257, 128)\n",
              "  (rnn1): RNN(128, 128, batch_first=True)\n",
              "  (hidden2label): Linear(in_features=128, out_features=1, bias=True)\n",
              ")"
            ]
          },
          "metadata": {},
          "execution_count": 51
        }
      ],
      "source": [
        "# create a particular instance of the model (the class defined above)\n",
        "# let's first do a 1 layer vaniila RNN with embedding_dim=hidden_dim=128\n",
        "rnn = RNNClassifier(128, 128, 50257)\n",
        "rnn.to(device)"
      ]
    },
    {
      "cell_type": "code",
      "execution_count": null,
      "metadata": {
        "colab": {
          "base_uri": "https://localhost:8080/"
        },
        "id": "HPwvS3klyFfb",
        "outputId": "50e8f216-9356-403f-ede7-d4020c2054c3"
      },
      "outputs": [
        {
          "output_type": "stream",
          "name": "stdout",
          "text": [
            "tensor([[0.4949],\n",
            "        [0.4905],\n",
            "        [0.4924],\n",
            "        [0.4887],\n",
            "        [0.4899],\n",
            "        [0.4896],\n",
            "        [0.4913],\n",
            "        [0.4974],\n",
            "        [0.4952],\n",
            "        [0.4883]], grad_fn=<SliceBackward0>)\n"
          ]
        }
      ],
      "source": [
        "# demo forward pass with the mini-batch that we generated above\n",
        "y_pred = rnn(x, m)\n",
        "y_pred.shape\n",
        "print(y_pred[:10])\n",
        "# at random initialization all predictions are around 0.5"
      ]
    },
    {
      "cell_type": "markdown",
      "source": [
        "### 3.2.4 Training\n",
        "\n",
        "Finally, we define an optimizer, functions for training and evaluation, and run the training process."
      ],
      "metadata": {
        "id": "5VZQ0JaApi91"
      }
    },
    {
      "cell_type": "code",
      "execution_count": null,
      "metadata": {
        "id": "RfjqS5OdyE_p"
      },
      "outputs": [],
      "source": [
        "# RNNs are often trained with optim.RMSprop or optim.Adam\n",
        "# example: optimizer = optim.RMSprop(rnn.parameters(), lr=learning_rate)\n",
        "# feel free to play with lr and optimizer\n",
        "learning_rate = 0.001\n",
        "optimizer = optim.RMSprop(rnn.parameters(), lr = learning_rate)\n",
        "\n",
        "lossfun = nn.BCELoss(reduction='mean')"
      ]
    },
    {
      "cell_type": "code",
      "execution_count": null,
      "metadata": {
        "id": "V6BF7bH6yaoD"
      },
      "outputs": [],
      "source": [
        "def train_epoch(train_loader, model, lossfun, optimizer, device):\n",
        "    model.train()\n",
        "    # iterate over mini-batches\n",
        "    for it, (inputs, labels, mask) in enumerate(train_loader):\n",
        "        # move everything to the device\n",
        "        inputs = inputs.to(device) \n",
        "        labels = labels.to(device)\n",
        "        mask = mask.to(device)\n",
        "\n",
        "        model.zero_grad()   \n",
        "        # forward pass     \n",
        "        output = model(inputs, mask)\n",
        "\n",
        "        loss = lossfun(output.view(-1), labels.float())\n",
        "        # backward pass\n",
        "        loss.backward()\n",
        "\n",
        "        # update model parameters\n",
        "        optimizer.step()\n",
        "\n",
        "def evaluate(loader, model, lossfun, device):\n",
        "    model.eval()\n",
        "    total_acc = 0.0\n",
        "    total_loss = 0.0\n",
        "    total = 0.0\n",
        "    # iterate over mini-batches\n",
        "    for it, (inputs, labels, mask) in enumerate(loader):\n",
        "        # move everything to the device\n",
        "        inputs = inputs.to(device) \n",
        "        labels = labels.to(device)\n",
        "        mask = mask.to(device)\n",
        "\n",
        "        # forward pass\n",
        "        output = model(inputs, mask)\n",
        "\n",
        "        # calculate loss value\n",
        "        loss = lossfun(output.view(-1), labels.float())\n",
        "        total_loss += loss.item()\n",
        "\n",
        "        # calculate test accuracy\n",
        "        pred = output.view(-1) > 0.5\n",
        "        correct = (pred == labels.bool())\n",
        "        total_acc += torch.sum(correct).item() / len(correct)\n",
        "\n",
        "    total = it + 1\n",
        "    return total_loss / total, total_acc / total\n",
        "    \n",
        "\n",
        "def train(train_loader, test_loader, model, lossfun, optimizer, \\\n",
        "          device, num_epochs):\n",
        "    train_loss_ = []\n",
        "    test_loss_ = []\n",
        "    train_acc_ = []\n",
        "    test_acc_ = []\n",
        "    # irerate over training epochs\n",
        "    for epoch in range(num_epochs):\n",
        "        # at each step, we do a training epoch and evaluate on train and test data\n",
        "        train_epoch(train_loader, model, lossfun, optimizer, device)\n",
        "        train_loss, train_acc = evaluate(train_loader, model, lossfun, device)\n",
        "        train_loss_.append(train_loss)\n",
        "        train_acc_.append(train_acc)\n",
        "        test_loss, test_acc = evaluate(test_loader, model, lossfun, device)\n",
        "        test_loss_.append(test_loss)\n",
        "        test_acc_.append(test_acc)\n",
        "\n",
        "        print(f'Epoch: {epoch+1:3d}/{num_epochs:3d} '\n",
        "              f'Training Loss: {train_loss_[epoch]:.3f}, Testing Loss: {test_loss_[epoch]:.3f}, '\n",
        "              f'Training Acc: {train_acc_[epoch]:.3f}, Testing Acc: {test_acc_[epoch]:.3f}')\n",
        "\n",
        "    return train_loss_, train_acc_, test_loss_, test_acc_"
      ]
    },
    {
      "cell_type": "markdown",
      "metadata": {
        "id": "WuICo6CKyh3C"
      },
      "source": [
        "\n",
        "_Popular mistake:_ If you make changes to the model and want to rerun training, do not forget to redefine an optimizer, otherwise your optimizer would be disconnected from the model and training will not affect model parameters."
      ]
    },
    {
      "cell_type": "code",
      "execution_count": null,
      "metadata": {
        "id": "ZyZaEhkXyfxm"
      },
      "outputs": [],
      "source": [
        "# let's first train a vanilla RNN\n",
        "a, b, c, d = train(train_loader, test_loader, rnn, lossfun, \\\n",
        "                   optimizer, device, num_epochs=30)"
      ]
    },
    {
      "cell_type": "markdown",
      "source": [
        "We have our first result! \n",
        "\n",
        "You may note that test accuracy starts decreasing at some point. This is a common overfitting behaviour of RNNs, and usually the iteration with best performance is chosen. Ideally we should choose the best iteration on the test set.\n",
        "\n",
        "Now let's try playing with hyperparameters and LSTMs a little bit. (2 points each = 8 points)"
      ],
      "metadata": {
        "id": "dV0MMEaHqgdj"
      }
    },
    {
      "cell_type": "code",
      "source": [
        "# try using 1 layer LSTM instead of vanilla RNN, with embedding_dim=hidden_dim=128. Hint, you may want to reuse the RNNClassifier() class and then go into and redefine the layers to be LSTMs\n",
        "lstm = RNNClassifier(128, 128, 50257)\n",
        "lstm.to(device)\n",
        "learning_rate = 0.001\n",
        "optimizer = optim.RMSprop(rnn.parameters(), lr=learning_rate)\n",
        "#calling the train function returns 4 variables. These get stored in a,b,c,d below.\n",
        "a, b, c, d = train(train_loader, test_loader, lstm, lossfun, \\\n",
        "                   optimizer, device, num_epochs=30)"
      ],
      "metadata": {
        "id": "6iQbgHLDQH5z"
      },
      "execution_count": null,
      "outputs": []
    },
    {
      "cell_type": "code",
      "execution_count": null,
      "metadata": {
        "id": "PR2Vee4myhhK"
      },
      "outputs": [],
      "source": [
        "# try increasing lr while keeping everything else the same\n",
        "lstm = RNNClassifier(128, 128, 50257)\n",
        "lstm.to(device)\n",
        "learning_rate = 0.01\n",
        "optimizer = optim.RMSprop(rnn.parameters(), lr=learning_rate)\n",
        "a, b, c, d = train(train_loader, test_loader, lstm, lossfun, \\\n",
        "                   optimizer, device, num_epochs=30)"
      ]
    },
    {
      "cell_type": "code",
      "source": [
        "# try 2 lstm layers with embedding_dim=hidden_dim=128\n",
        "lstm = RNNClassifier(128, 128, 50257, num_rec_layers = 2)\n",
        "lstm.to(device)\n",
        "learning_rate = 0.01\n",
        "optimizer = optim.RMSprop(rnn.parameters(), lr=learning_rate)\n",
        "a, b, c, d = train(train_loader, test_loader, lstm, lossfun, \\\n",
        "                   optimizer, device, num_epochs=15)"
      ],
      "metadata": {
        "id": "04hd0dXNbYnH"
      },
      "execution_count": null,
      "outputs": []
    },
    {
      "cell_type": "code",
      "source": [
        "# try a larger 1 layer lstm network with embedding_dim=hidden_dim=512\n",
        "lstm = RNNClassifier(512, 512, 50257)\n",
        "lstm.to(device)\n",
        "learning_rate = 0.01\n",
        "optimizer = optim.RMSprop(rnn.parameters(), lr=learning_rate)\n",
        "a, b, c, d = train(train_loader, test_loader, lstm, lossfun, \\\n",
        "                   optimizer, device, num_epochs=15)"
      ],
      "metadata": {
        "id": "9PJ61hsknYaQ"
      },
      "execution_count": null,
      "outputs": []
    },
    {
      "cell_type": "markdown",
      "source": [
        "We could try improving RNNs' performance further by applying regularization methods (weight decay, dropout), tuning learning rate schedule (appears to be very important in practice!), using data augmentaion etc. You may play with this if you like, but this is not graded\n",
        "\n",
        "Generally, we see that linear models are actually quite a strong baseline for relatively simple text classification. At the same time, RNNs require time-consuming hyperparameter tuning. More complex tasks, i. e. text generation or natural language understanding, are solved well only with advanced neural architectures such as Transformer."
      ],
      "metadata": {
        "id": "XiiWtqdCrayf"
      }
    },
    {
      "cell_type": "markdown",
      "source": [
        "### Playground\n",
        "The function given below takes a piece of text as input and outputs the RNN's prediction (is it a positive or negative movie review). In principle it can of course process any text, not only movie reviews."
      ],
      "metadata": {
        "id": "-jJao-8bcvRa"
      }
    },
    {
      "cell_type": "code",
      "source": [
        "def predict(text):\n",
        "    text = process_string(text) # initial preprocessing\n",
        "    # convert to a torch tensor of needed shape and on the needed device\n",
        "    tensor = torch.tensor(tokenizer.encode(text)[:max_seq_len]).long()\n",
        "    tensor = tensor.unsqueeze(0).to(device)\n",
        "    mask = torch.ones(1, tensor.shape[1]).float().to(device)\n",
        "    # network's prediction\n",
        "    pred_rnn = rnn(tensor, mask).item()\n",
        "    print(\"RNN prediction:\", \"positive\" if pred_rnn>0.5 else \"negative\")"
      ],
      "metadata": {
        "id": "il3E4goXYNkI"
      },
      "execution_count": null,
      "outputs": []
    },
    {
      "cell_type": "code",
      "source": [
        "predict(\"This is a nice movie with my favourite actors\")"
      ],
      "metadata": {
        "colab": {
          "base_uri": "https://localhost:8080/"
        },
        "id": "zTDBIIjeYFGR",
        "outputId": "b251d585-46b6-43ef-eeb5-672df691a9eb"
      },
      "execution_count": null,
      "outputs": [
        {
          "output_type": "stream",
          "name": "stdout",
          "text": [
            "RNN prediction: positive\n"
          ]
        }
      ]
    },
    {
      "cell_type": "code",
      "source": [
        "predict(\"Don't spend your evening on this\")"
      ],
      "metadata": {
        "colab": {
          "base_uri": "https://localhost:8080/"
        },
        "id": "4K73-HTJYXZ0",
        "outputId": "f777273d-6842-4249-845c-c7db26567bf6"
      },
      "execution_count": null,
      "outputs": [
        {
          "output_type": "stream",
          "name": "stdout",
          "text": [
            "RNN prediction: positive\n"
          ]
        }
      ]
    },
    {
      "cell_type": "code",
      "source": [
        "predict(\"I am a deep learning researcher\")"
      ],
      "metadata": {
        "colab": {
          "base_uri": "https://localhost:8080/"
        },
        "id": "wAlTTqWKYhbS",
        "outputId": "8451cc33-80f0-48d1-de14-38d7eb798d1d"
      },
      "execution_count": null,
      "outputs": [
        {
          "output_type": "stream",
          "name": "stdout",
          "text": [
            "RNN prediction: negative\n"
          ]
        }
      ]
    },
    {
      "cell_type": "code",
      "source": [
        "predict(\"This is not a good example of a bad movie\")"
      ],
      "metadata": {
        "colab": {
          "base_uri": "https://localhost:8080/"
        },
        "id": "ULQeZ5AUYnjH",
        "outputId": "3ae7fcef-6456-4533-b416-15d832bf922d"
      },
      "execution_count": null,
      "outputs": [
        {
          "output_type": "stream",
          "name": "stdout",
          "text": [
            "RNN prediction: positive\n"
          ]
        }
      ]
    },
    {
      "cell_type": "markdown",
      "source": [
        "Exercise 3 (10 points)\n",
        "\n",
        "\n",
        "First, you can again try training an RNN on the other dataset, as in Exercise 2. You can also implement a prediction function, like the one we have above, for any one of the two linear models which we considered above. Do you observe any changes in RNN prediction of the above statements when you use a different training set? Try feeding in your own sentences...what are some of the drawbacks/failures of this that you observe?"
      ],
      "metadata": {
        "id": "lDFPxlq3NNzq"
      }
    },
    {
      "cell_type": "markdown",
      "source": [
        "# Model 3\n",
        "Instead of doing movie reviews, I'll reuse the dataset I was given in dataset 2, but I'll only look at news when y is either 0 or 1, corresponding with World and Sports news, so that I am still working with binary classification."
      ],
      "metadata": {
        "id": "yxOISJd_DRxc"
      }
    },
    {
      "cell_type": "code",
      "source": [
        "dataset = load_dataset(\"ag_news\")\n",
        "\n",
        "X_train = dataset[\"train\"][\"text\"]\n",
        "y_train = dataset[\"train\"][\"label\"]\n",
        "X_train = [X_train[i] for i in range(len(X_train)) if y_train[i] in [0, 1]]\n",
        "y_train = [x for x in y_train if x in [0, 1]]\n",
        "\n",
        "X_test = dataset[\"test\"][\"text\"]\n",
        "y_test = dataset[\"test\"][\"label\"]\n",
        "X_test = [X_test[i] for i in range(len(X_test)) if y_test[i] in [0, 1]]\n",
        "y_test = [x for x in y_test if x in [0, 1]]\n",
        "\n",
        "# only using a bit of the data to speed up training times.\n",
        "X_train = X_train[:300]\n",
        "X_test = X_test[:300]\n",
        "y_train = y_train[:300]\n",
        "y_test = y_test[:300]"
      ],
      "metadata": {
        "colab": {
          "base_uri": "https://localhost:8080/",
          "height": 66,
          "referenced_widgets": [
            "48e042e2cffe46eab4ab8d5408fbab1d",
            "d73db875d7044ab4aa2f1bcc559900e3",
            "15159141d5e046bd831048cd26af70a5",
            "825e659e7a774832b08ac13508a155c8",
            "d283eafe5b7244a2a65a8b2d06f30e12",
            "3057b40d1d6c409eb5689a5399b46461",
            "c0a2197c38754d1598dcb55699ab856f",
            "9f41c4b4036240a2b1dd82bcde9438df",
            "a8a714c484e84c7ab469a63b4ed4ec5d",
            "654dbbb433274de0a04ea886bf1a243e",
            "5f4b87175f1540988385470ba7bab0ff"
          ]
        },
        "id": "7NP9mojcEw7m",
        "outputId": "901ef8d1-3ca1-4bab-c533-2392863beb46"
      },
      "execution_count": null,
      "outputs": [
        {
          "output_type": "stream",
          "name": "stderr",
          "text": [
            "WARNING:datasets.builder:Found cached dataset ag_news (/root/.cache/huggingface/datasets/ag_news/default/0.0.0/bc2bcb40336ace1a0374767fc29bb0296cdaf8a6da7298436239c54d79180548)\n"
          ]
        },
        {
          "output_type": "display_data",
          "data": {
            "text/plain": [
              "  0%|          | 0/2 [00:00<?, ?it/s]"
            ],
            "application/vnd.jupyter.widget-view+json": {
              "version_major": 2,
              "version_minor": 0,
              "model_id": "48e042e2cffe46eab4ab8d5408fbab1d"
            }
          },
          "metadata": {}
        }
      ]
    },
    {
      "cell_type": "code",
      "source": [
        "print(X_train[3])"
      ],
      "metadata": {
        "colab": {
          "base_uri": "https://localhost:8080/"
        },
        "id": "mujmFF89GnIC",
        "outputId": "d191edca-aa70-4e9c-dd24-ab4e3194ba6b"
      },
      "execution_count": null,
      "outputs": [
        {
          "output_type": "stream",
          "name": "stdout",
          "text": [
            "Indians Beat Twins 7-1, Nearing AL Lead (AP) AP - The Cleveland Indians pulled within one game of the AL Central lead, scoring four runs in the first inning and beating the Minnesota Twins 7-1 Saturday night behind home runs by Travis Hafner and Victor Martinez.\n"
          ]
        }
      ]
    },
    {
      "cell_type": "markdown",
      "source": [
        "I will now redo the same tokenizing, clipping, padding, and mini-batching that I did earlier."
      ],
      "metadata": {
        "id": "fzbw4q0eGtMZ"
      }
    },
    {
      "cell_type": "code",
      "source": [
        "X_train_tok = [tokenizer.encode(text) for text in X_train]\n",
        "X_test_tok = [tokenizer.encode(text) for text in X_test]\n",
        "\n",
        "max_seq_len = 500   \n",
        "X_train_tok = [seq[:500] for seq in X_train_tok]\n",
        "X_test_tok = [seq[:500] for seq in X_test_tok]\n",
        "\n",
        "mask_train = [[1]*len(s)+[0]*(max_seq_len-len(s)) for s in X_train_tok]\n",
        "mask_test = [[1]*len(s)+[0]*(max_seq_len-len(s)) for s in X_test_tok]\n",
        "\n",
        "X_train_tok = [seq + [0] * (500 - len(seq)) if len(seq) <= 501 else seq for seq in X_train_tok]\n",
        "X_test_tok = [seq + [0] * (500 - len(seq)) if len(seq) <= 501 else seq for seq in X_test_tok]\n",
        "\n",
        "train_dset = torch.utils.data.TensorDataset(torch.tensor(X_train_tok, \n",
        "                                                         dtype=torch.long), \n",
        "                                            torch.tensor(y_train, \n",
        "                                                         dtype=torch.long), \n",
        "                                            torch.tensor(mask_train, \n",
        "                                                         dtype=torch.float))\n",
        "\n",
        "test_dset = torch.utils.data.TensorDataset(torch.tensor(X_test_tok, \n",
        "                                                        dtype=torch.long), \n",
        "                                          torch.tensor(y_test, \n",
        "                                                        dtype=torch.long), \n",
        "                                          torch.tensor(mask_test, \n",
        "                                                        dtype=torch.float))\n",
        "\n",
        "batch_size = 128\n",
        "\n",
        "train_loader = torch.utils.data.DataLoader(train_dset,\n",
        "                          batch_size=batch_size,\n",
        "                          shuffle=True,\n",
        "                          num_workers=2\n",
        "                         )\n",
        "\n",
        "test_loader = torch.utils.data.DataLoader(test_dset,\n",
        "                          batch_size=batch_size,\n",
        "                          shuffle=False,\n",
        "                          num_workers=2\n",
        "                         )"
      ],
      "metadata": {
        "id": "jBOnSwWMHBYf"
      },
      "execution_count": null,
      "outputs": []
    },
    {
      "cell_type": "markdown",
      "source": [
        "Finally, I will retrain our model on this new data. Ideally, my model will, instead of learning the difference between good and bad movie reviews, learn the difference between news about the World and news about Sports."
      ],
      "metadata": {
        "id": "vS1KQgdDHVOd"
      }
    },
    {
      "cell_type": "code",
      "source": [
        "rnn = RNNClassifier(128, 128, 50257)\n",
        "rnn.to(device)\n",
        "\n",
        "learning_rate = 0.001\n",
        "optimizer = optim.RMSprop(rnn.parameters(), lr=learning_rate)\n",
        "\n",
        "lossfun = nn.BCELoss(reduction='mean')\n",
        "\n",
        "a, b, c, d = train(train_loader, test_loader, rnn, lossfun, \\\n",
        "                   optimizer, device, num_epochs=5)"
      ],
      "metadata": {
        "colab": {
          "base_uri": "https://localhost:8080/"
        },
        "id": "ltUjig_jHhYp",
        "outputId": "c925be64-c135-4ff2-debe-5cfec4969dcb"
      },
      "execution_count": null,
      "outputs": [
        {
          "output_type": "stream",
          "name": "stdout",
          "text": [
            "Epoch:   1/  5 Training Loss: 0.685, Testing Loss: 0.706, Training Acc: 0.567, Testing Acc: 0.499\n",
            "Epoch:   2/  5 Training Loss: 0.598, Testing Loss: 0.642, Training Acc: 0.902, Testing Acc: 0.742\n",
            "Epoch:   3/  5 Training Loss: 0.537, Testing Loss: 0.656, Training Acc: 0.892, Testing Acc: 0.655\n",
            "Epoch:   4/  5 Training Loss: 0.495, Testing Loss: 0.669, Training Acc: 0.910, Testing Acc: 0.642\n",
            "Epoch:   5/  5 Training Loss: 0.435, Testing Loss: 0.603, Training Acc: 0.938, Testing Acc: 0.701\n"
          ]
        }
      ]
    },
    {
      "cell_type": "markdown",
      "source": [
        "I will try some example texts to see if the model is able to pick up the differences"
      ],
      "metadata": {
        "id": "QLxScboXIdBv"
      }
    },
    {
      "cell_type": "code",
      "source": [
        "print(predict(\"The Russian invasion of Ukraine is still ongoing\"))\n",
        "print(predict(\"The Warriors beat the Celtics in the NBA final, because the Celtics are bad\"))\n",
        "print(predict(\"The world is ending!\"))"
      ],
      "metadata": {
        "colab": {
          "base_uri": "https://localhost:8080/"
        },
        "id": "3QRdV7WoIbot",
        "outputId": "541b26d2-e93b-4bde-f0ec-ff355ff92a6c"
      },
      "execution_count": null,
      "outputs": [
        {
          "output_type": "stream",
          "name": "stdout",
          "text": [
            "RNN prediction: negative\n",
            "None\n",
            "RNN prediction: positive\n",
            "None\n",
            "RNN prediction: negative\n",
            "None\n"
          ]
        }
      ]
    },
    {
      "cell_type": "markdown",
      "source": [
        "Using the same predict function as before, \"negative\" corresponds with World News and \"positive\" corresponds with Sports news. I see that, after training only over 5 epochs, the model is still able to tell apart the difference between very obvious news headlines. This bodes well, and shows that this type of model is promising to use to identify the differences between news headlines."
      ],
      "metadata": {
        "id": "kD5VuK8IKlL9"
      }
    },
    {
      "cell_type": "markdown",
      "source": [
        "### Additional example: trying bidirectional RNNs. We talked briefly about bidirectional RNNs in class. The code in this section is not graded but it's here for you to play with.\n",
        "\n",
        "Question: Explain in a sentence or two each: (a) how do bidirectional RNNs work? (b) Why are they useful? (2 points)\n",
        "\n",
        "Below a bidirectional RNN is implemented, following tips from [this example](https://github.com/PacktPublishing/Mastering-PyTorch/blob/master/Chapter04/lstm.ipynb), but it does not improve performance over what we already have."
      ],
      "metadata": {
        "id": "KyIeqEsTKXlW"
      }
    },
    {
      "cell_type": "markdown",
      "source": [
        "Answer: Bidirection RNNs work by iterating through sequentially and in reverse. The importance of this is that it is able to learn context through both ways."
      ],
      "metadata": {
        "id": "OiCZcnMDMzlQ"
      }
    },
    {
      "cell_type": "code",
      "source": [
        "def cuda_pack_padded_sequence(input, lengths):\n",
        "    lengths = torch.as_tensor(lengths, dtype=torch.int64)\n",
        "    lengths = lengths.cpu()\n",
        "    lengths, sorted_indices = torch.sort(lengths, descending=True)\n",
        "    sorted_indices = sorted_indices.to(input.device)\n",
        "    input = input.index_select(1, sorted_indices) # batch first = False\n",
        "\n",
        "    data, batch_sizes = \\\n",
        "    torch._C._VariableFunctions._pack_padded_sequence(input, lengths, batch_first=False)\n",
        "    return torch.nn.utils.rnn.PackedSequence(data, batch_sizes, sorted_indices)"
      ],
      "metadata": {
        "id": "ASy9jNdCB7qI"
      },
      "execution_count": null,
      "outputs": []
    },
    {
      "cell_type": "code",
      "source": [
        "class RNNClassifier(nn.Module):\n",
        "    def __init__(self, embedding_dim, hidden_dim, vocab_size, \\\n",
        "                 bidirectional=False):\n",
        "        super(RNNClassifier, self).__init__()\n",
        "        # define all layers we need, \n",
        "        # their parameters will be initialized automatically\n",
        "        self.word_embeddings = nn.Embedding(vocab_size, embedding_dim)\n",
        "        self.rnn = nn.LSTM(embedding_dim, hidden_dim, batch_first=True,\n",
        "                              bidirectional=bidirectional)\n",
        "        self.bidirectional = bidirectional\n",
        "        self.hidden2label = nn.Linear(hidden_dim*(2 if bidirectional else 1), 1)\n",
        "    \n",
        "    def forward(self, sentences, mask):\n",
        "        # sentences shape: [B, L], mask shape: [B, L]\n",
        "        embedding = self.word_embeddings(sentences) # shape: [B, L, DE]\n",
        "        if self.bidirectional:\n",
        "          if torch.cuda.is_available():\n",
        "              embedding = cuda_pack_padded_sequence(embedding, \\\n",
        "                                                lengths=mask.sum(dim=1))\n",
        "              # actually, code in the else branch should work for both cases,\n",
        "              # but due to some bug it appears not to work\n",
        "          else:\n",
        "              embedding = nn.utils.rnn.pack_padded_sequence(embedding, \\\n",
        "                                                          lengths=mask.sum(dim=1))\n",
        "        out, hidden = self.rnn(embedding) # out shape: [B, L, DH]\n",
        "        if self.bidirectional:\n",
        "            out, _ = nn.utils.rnn.pad_packed_sequence(out)\n",
        "            out = out.permute(1, 0, 2)\n",
        "        out = (out*mask[:, :, None]).mean(dim=1) # shape: [B, DH]\n",
        "        res = self.hidden2label(out) # shape: [B, 1]\n",
        "        return torch.sigmoid(res)"
      ],
      "metadata": {
        "id": "AV5c1_X8AjOw"
      },
      "execution_count": null,
      "outputs": []
    },
    {
      "cell_type": "code",
      "source": [
        "rnn = RNNClassifier(512, 512, tokenizer.vocab_size, bidirectional=True)\n",
        "rnn.to(device)\n",
        "optimizer = optim.RMSprop(rnn.parameters(), lr=0.001)\n",
        "a, b, c, d = train(train_loader, test_loader, rnn, lossfun, \\\n",
        "                   optimizer, device, num_epochs=15)"
      ],
      "metadata": {
        "id": "Paq_0nTfBmx4"
      },
      "execution_count": null,
      "outputs": []
    }
  ],
  "metadata": {
    "accelerator": "GPU",
    "colab": {
      "provenance": []
    },
    "gpuClass": "standard",
    "kernelspec": {
      "display_name": "Python 3",
      "name": "python3"
    },
    "language_info": {
      "name": "python"
    },
    "widgets": {
      "application/vnd.jupyter.widget-state+json": {
        "12946089660e484cadae56c62e9e1256": {
          "model_module": "@jupyter-widgets/controls",
          "model_name": "HBoxModel",
          "model_module_version": "1.5.0",
          "state": {
            "_dom_classes": [],
            "_model_module": "@jupyter-widgets/controls",
            "_model_module_version": "1.5.0",
            "_model_name": "HBoxModel",
            "_view_count": null,
            "_view_module": "@jupyter-widgets/controls",
            "_view_module_version": "1.5.0",
            "_view_name": "HBoxView",
            "box_style": "",
            "children": [
              "IPY_MODEL_b2ca2668e7064b5dacfb35e2e0521bf9",
              "IPY_MODEL_3c9ddbc9579e471c9549c8de34765c11",
              "IPY_MODEL_adbae65650554171830947e4f228ba34"
            ],
            "layout": "IPY_MODEL_48762776e90f422a9afff7b8873aa646"
          }
        },
        "b2ca2668e7064b5dacfb35e2e0521bf9": {
          "model_module": "@jupyter-widgets/controls",
          "model_name": "HTMLModel",
          "model_module_version": "1.5.0",
          "state": {
            "_dom_classes": [],
            "_model_module": "@jupyter-widgets/controls",
            "_model_module_version": "1.5.0",
            "_model_name": "HTMLModel",
            "_view_count": null,
            "_view_module": "@jupyter-widgets/controls",
            "_view_module_version": "1.5.0",
            "_view_name": "HTMLView",
            "description": "",
            "description_tooltip": null,
            "layout": "IPY_MODEL_85638e50326145c28e8bef11ad7fc61b",
            "placeholder": "​",
            "style": "IPY_MODEL_46d927f3bd8b481fb5d84c15770e271b",
            "value": "Downloading builder script: 100%"
          }
        },
        "3c9ddbc9579e471c9549c8de34765c11": {
          "model_module": "@jupyter-widgets/controls",
          "model_name": "FloatProgressModel",
          "model_module_version": "1.5.0",
          "state": {
            "_dom_classes": [],
            "_model_module": "@jupyter-widgets/controls",
            "_model_module_version": "1.5.0",
            "_model_name": "FloatProgressModel",
            "_view_count": null,
            "_view_module": "@jupyter-widgets/controls",
            "_view_module_version": "1.5.0",
            "_view_name": "ProgressView",
            "bar_style": "success",
            "description": "",
            "description_tooltip": null,
            "layout": "IPY_MODEL_bc52c613312a4b98a41ec5bab6974807",
            "max": 4063,
            "min": 0,
            "orientation": "horizontal",
            "style": "IPY_MODEL_aab0582308a84484b3cd40175f2faf05",
            "value": 4063
          }
        },
        "adbae65650554171830947e4f228ba34": {
          "model_module": "@jupyter-widgets/controls",
          "model_name": "HTMLModel",
          "model_module_version": "1.5.0",
          "state": {
            "_dom_classes": [],
            "_model_module": "@jupyter-widgets/controls",
            "_model_module_version": "1.5.0",
            "_model_name": "HTMLModel",
            "_view_count": null,
            "_view_module": "@jupyter-widgets/controls",
            "_view_module_version": "1.5.0",
            "_view_name": "HTMLView",
            "description": "",
            "description_tooltip": null,
            "layout": "IPY_MODEL_4b2d5aa4cdda48048c90a81b18a006b6",
            "placeholder": "​",
            "style": "IPY_MODEL_4ae7810e912e4954a6b550dd58365abc",
            "value": " 4.06k/4.06k [00:00&lt;00:00, 52.7kB/s]"
          }
        },
        "48762776e90f422a9afff7b8873aa646": {
          "model_module": "@jupyter-widgets/base",
          "model_name": "LayoutModel",
          "model_module_version": "1.2.0",
          "state": {
            "_model_module": "@jupyter-widgets/base",
            "_model_module_version": "1.2.0",
            "_model_name": "LayoutModel",
            "_view_count": null,
            "_view_module": "@jupyter-widgets/base",
            "_view_module_version": "1.2.0",
            "_view_name": "LayoutView",
            "align_content": null,
            "align_items": null,
            "align_self": null,
            "border": null,
            "bottom": null,
            "display": null,
            "flex": null,
            "flex_flow": null,
            "grid_area": null,
            "grid_auto_columns": null,
            "grid_auto_flow": null,
            "grid_auto_rows": null,
            "grid_column": null,
            "grid_gap": null,
            "grid_row": null,
            "grid_template_areas": null,
            "grid_template_columns": null,
            "grid_template_rows": null,
            "height": null,
            "justify_content": null,
            "justify_items": null,
            "left": null,
            "margin": null,
            "max_height": null,
            "max_width": null,
            "min_height": null,
            "min_width": null,
            "object_fit": null,
            "object_position": null,
            "order": null,
            "overflow": null,
            "overflow_x": null,
            "overflow_y": null,
            "padding": null,
            "right": null,
            "top": null,
            "visibility": null,
            "width": null
          }
        },
        "85638e50326145c28e8bef11ad7fc61b": {
          "model_module": "@jupyter-widgets/base",
          "model_name": "LayoutModel",
          "model_module_version": "1.2.0",
          "state": {
            "_model_module": "@jupyter-widgets/base",
            "_model_module_version": "1.2.0",
            "_model_name": "LayoutModel",
            "_view_count": null,
            "_view_module": "@jupyter-widgets/base",
            "_view_module_version": "1.2.0",
            "_view_name": "LayoutView",
            "align_content": null,
            "align_items": null,
            "align_self": null,
            "border": null,
            "bottom": null,
            "display": null,
            "flex": null,
            "flex_flow": null,
            "grid_area": null,
            "grid_auto_columns": null,
            "grid_auto_flow": null,
            "grid_auto_rows": null,
            "grid_column": null,
            "grid_gap": null,
            "grid_row": null,
            "grid_template_areas": null,
            "grid_template_columns": null,
            "grid_template_rows": null,
            "height": null,
            "justify_content": null,
            "justify_items": null,
            "left": null,
            "margin": null,
            "max_height": null,
            "max_width": null,
            "min_height": null,
            "min_width": null,
            "object_fit": null,
            "object_position": null,
            "order": null,
            "overflow": null,
            "overflow_x": null,
            "overflow_y": null,
            "padding": null,
            "right": null,
            "top": null,
            "visibility": null,
            "width": null
          }
        },
        "46d927f3bd8b481fb5d84c15770e271b": {
          "model_module": "@jupyter-widgets/controls",
          "model_name": "DescriptionStyleModel",
          "model_module_version": "1.5.0",
          "state": {
            "_model_module": "@jupyter-widgets/controls",
            "_model_module_version": "1.5.0",
            "_model_name": "DescriptionStyleModel",
            "_view_count": null,
            "_view_module": "@jupyter-widgets/base",
            "_view_module_version": "1.2.0",
            "_view_name": "StyleView",
            "description_width": ""
          }
        },
        "bc52c613312a4b98a41ec5bab6974807": {
          "model_module": "@jupyter-widgets/base",
          "model_name": "LayoutModel",
          "model_module_version": "1.2.0",
          "state": {
            "_model_module": "@jupyter-widgets/base",
            "_model_module_version": "1.2.0",
            "_model_name": "LayoutModel",
            "_view_count": null,
            "_view_module": "@jupyter-widgets/base",
            "_view_module_version": "1.2.0",
            "_view_name": "LayoutView",
            "align_content": null,
            "align_items": null,
            "align_self": null,
            "border": null,
            "bottom": null,
            "display": null,
            "flex": null,
            "flex_flow": null,
            "grid_area": null,
            "grid_auto_columns": null,
            "grid_auto_flow": null,
            "grid_auto_rows": null,
            "grid_column": null,
            "grid_gap": null,
            "grid_row": null,
            "grid_template_areas": null,
            "grid_template_columns": null,
            "grid_template_rows": null,
            "height": null,
            "justify_content": null,
            "justify_items": null,
            "left": null,
            "margin": null,
            "max_height": null,
            "max_width": null,
            "min_height": null,
            "min_width": null,
            "object_fit": null,
            "object_position": null,
            "order": null,
            "overflow": null,
            "overflow_x": null,
            "overflow_y": null,
            "padding": null,
            "right": null,
            "top": null,
            "visibility": null,
            "width": null
          }
        },
        "aab0582308a84484b3cd40175f2faf05": {
          "model_module": "@jupyter-widgets/controls",
          "model_name": "ProgressStyleModel",
          "model_module_version": "1.5.0",
          "state": {
            "_model_module": "@jupyter-widgets/controls",
            "_model_module_version": "1.5.0",
            "_model_name": "ProgressStyleModel",
            "_view_count": null,
            "_view_module": "@jupyter-widgets/base",
            "_view_module_version": "1.2.0",
            "_view_name": "StyleView",
            "bar_color": null,
            "description_width": ""
          }
        },
        "4b2d5aa4cdda48048c90a81b18a006b6": {
          "model_module": "@jupyter-widgets/base",
          "model_name": "LayoutModel",
          "model_module_version": "1.2.0",
          "state": {
            "_model_module": "@jupyter-widgets/base",
            "_model_module_version": "1.2.0",
            "_model_name": "LayoutModel",
            "_view_count": null,
            "_view_module": "@jupyter-widgets/base",
            "_view_module_version": "1.2.0",
            "_view_name": "LayoutView",
            "align_content": null,
            "align_items": null,
            "align_self": null,
            "border": null,
            "bottom": null,
            "display": null,
            "flex": null,
            "flex_flow": null,
            "grid_area": null,
            "grid_auto_columns": null,
            "grid_auto_flow": null,
            "grid_auto_rows": null,
            "grid_column": null,
            "grid_gap": null,
            "grid_row": null,
            "grid_template_areas": null,
            "grid_template_columns": null,
            "grid_template_rows": null,
            "height": null,
            "justify_content": null,
            "justify_items": null,
            "left": null,
            "margin": null,
            "max_height": null,
            "max_width": null,
            "min_height": null,
            "min_width": null,
            "object_fit": null,
            "object_position": null,
            "order": null,
            "overflow": null,
            "overflow_x": null,
            "overflow_y": null,
            "padding": null,
            "right": null,
            "top": null,
            "visibility": null,
            "width": null
          }
        },
        "4ae7810e912e4954a6b550dd58365abc": {
          "model_module": "@jupyter-widgets/controls",
          "model_name": "DescriptionStyleModel",
          "model_module_version": "1.5.0",
          "state": {
            "_model_module": "@jupyter-widgets/controls",
            "_model_module_version": "1.5.0",
            "_model_name": "DescriptionStyleModel",
            "_view_count": null,
            "_view_module": "@jupyter-widgets/base",
            "_view_module_version": "1.2.0",
            "_view_name": "StyleView",
            "description_width": ""
          }
        },
        "786e520f4e434e1fab4db51957082b54": {
          "model_module": "@jupyter-widgets/controls",
          "model_name": "HBoxModel",
          "model_module_version": "1.5.0",
          "state": {
            "_dom_classes": [],
            "_model_module": "@jupyter-widgets/controls",
            "_model_module_version": "1.5.0",
            "_model_name": "HBoxModel",
            "_view_count": null,
            "_view_module": "@jupyter-widgets/controls",
            "_view_module_version": "1.5.0",
            "_view_name": "HBoxView",
            "box_style": "",
            "children": [
              "IPY_MODEL_54a1ea2101364e7890f81af43387d42d",
              "IPY_MODEL_d6d0425f80554efca483b96cd326737c",
              "IPY_MODEL_b34a52d49f414312a0dc691cd040c282"
            ],
            "layout": "IPY_MODEL_23a76116d46846d2ab22bbb77ad082da"
          }
        },
        "54a1ea2101364e7890f81af43387d42d": {
          "model_module": "@jupyter-widgets/controls",
          "model_name": "HTMLModel",
          "model_module_version": "1.5.0",
          "state": {
            "_dom_classes": [],
            "_model_module": "@jupyter-widgets/controls",
            "_model_module_version": "1.5.0",
            "_model_name": "HTMLModel",
            "_view_count": null,
            "_view_module": "@jupyter-widgets/controls",
            "_view_module_version": "1.5.0",
            "_view_name": "HTMLView",
            "description": "",
            "description_tooltip": null,
            "layout": "IPY_MODEL_1827d5579b41424cb48c1970f0f2b871",
            "placeholder": "​",
            "style": "IPY_MODEL_04c8806decff4b80ab2b3df79ec75c1e",
            "value": "Downloading metadata: 100%"
          }
        },
        "d6d0425f80554efca483b96cd326737c": {
          "model_module": "@jupyter-widgets/controls",
          "model_name": "FloatProgressModel",
          "model_module_version": "1.5.0",
          "state": {
            "_dom_classes": [],
            "_model_module": "@jupyter-widgets/controls",
            "_model_module_version": "1.5.0",
            "_model_name": "FloatProgressModel",
            "_view_count": null,
            "_view_module": "@jupyter-widgets/controls",
            "_view_module_version": "1.5.0",
            "_view_name": "ProgressView",
            "bar_style": "success",
            "description": "",
            "description_tooltip": null,
            "layout": "IPY_MODEL_b2f80bb750d14947bbe45fa2a86645cc",
            "max": 2653,
            "min": 0,
            "orientation": "horizontal",
            "style": "IPY_MODEL_b5ea48a8032446ab8c69a27ac5203d0f",
            "value": 2653
          }
        },
        "b34a52d49f414312a0dc691cd040c282": {
          "model_module": "@jupyter-widgets/controls",
          "model_name": "HTMLModel",
          "model_module_version": "1.5.0",
          "state": {
            "_dom_classes": [],
            "_model_module": "@jupyter-widgets/controls",
            "_model_module_version": "1.5.0",
            "_model_name": "HTMLModel",
            "_view_count": null,
            "_view_module": "@jupyter-widgets/controls",
            "_view_module_version": "1.5.0",
            "_view_name": "HTMLView",
            "description": "",
            "description_tooltip": null,
            "layout": "IPY_MODEL_a09db24539a34407903734d9e2b74571",
            "placeholder": "​",
            "style": "IPY_MODEL_9606c6afb2cc4437b91f83df917ccb3d",
            "value": " 2.65k/2.65k [00:00&lt;00:00, 60.6kB/s]"
          }
        },
        "23a76116d46846d2ab22bbb77ad082da": {
          "model_module": "@jupyter-widgets/base",
          "model_name": "LayoutModel",
          "model_module_version": "1.2.0",
          "state": {
            "_model_module": "@jupyter-widgets/base",
            "_model_module_version": "1.2.0",
            "_model_name": "LayoutModel",
            "_view_count": null,
            "_view_module": "@jupyter-widgets/base",
            "_view_module_version": "1.2.0",
            "_view_name": "LayoutView",
            "align_content": null,
            "align_items": null,
            "align_self": null,
            "border": null,
            "bottom": null,
            "display": null,
            "flex": null,
            "flex_flow": null,
            "grid_area": null,
            "grid_auto_columns": null,
            "grid_auto_flow": null,
            "grid_auto_rows": null,
            "grid_column": null,
            "grid_gap": null,
            "grid_row": null,
            "grid_template_areas": null,
            "grid_template_columns": null,
            "grid_template_rows": null,
            "height": null,
            "justify_content": null,
            "justify_items": null,
            "left": null,
            "margin": null,
            "max_height": null,
            "max_width": null,
            "min_height": null,
            "min_width": null,
            "object_fit": null,
            "object_position": null,
            "order": null,
            "overflow": null,
            "overflow_x": null,
            "overflow_y": null,
            "padding": null,
            "right": null,
            "top": null,
            "visibility": null,
            "width": null
          }
        },
        "1827d5579b41424cb48c1970f0f2b871": {
          "model_module": "@jupyter-widgets/base",
          "model_name": "LayoutModel",
          "model_module_version": "1.2.0",
          "state": {
            "_model_module": "@jupyter-widgets/base",
            "_model_module_version": "1.2.0",
            "_model_name": "LayoutModel",
            "_view_count": null,
            "_view_module": "@jupyter-widgets/base",
            "_view_module_version": "1.2.0",
            "_view_name": "LayoutView",
            "align_content": null,
            "align_items": null,
            "align_self": null,
            "border": null,
            "bottom": null,
            "display": null,
            "flex": null,
            "flex_flow": null,
            "grid_area": null,
            "grid_auto_columns": null,
            "grid_auto_flow": null,
            "grid_auto_rows": null,
            "grid_column": null,
            "grid_gap": null,
            "grid_row": null,
            "grid_template_areas": null,
            "grid_template_columns": null,
            "grid_template_rows": null,
            "height": null,
            "justify_content": null,
            "justify_items": null,
            "left": null,
            "margin": null,
            "max_height": null,
            "max_width": null,
            "min_height": null,
            "min_width": null,
            "object_fit": null,
            "object_position": null,
            "order": null,
            "overflow": null,
            "overflow_x": null,
            "overflow_y": null,
            "padding": null,
            "right": null,
            "top": null,
            "visibility": null,
            "width": null
          }
        },
        "04c8806decff4b80ab2b3df79ec75c1e": {
          "model_module": "@jupyter-widgets/controls",
          "model_name": "DescriptionStyleModel",
          "model_module_version": "1.5.0",
          "state": {
            "_model_module": "@jupyter-widgets/controls",
            "_model_module_version": "1.5.0",
            "_model_name": "DescriptionStyleModel",
            "_view_count": null,
            "_view_module": "@jupyter-widgets/base",
            "_view_module_version": "1.2.0",
            "_view_name": "StyleView",
            "description_width": ""
          }
        },
        "b2f80bb750d14947bbe45fa2a86645cc": {
          "model_module": "@jupyter-widgets/base",
          "model_name": "LayoutModel",
          "model_module_version": "1.2.0",
          "state": {
            "_model_module": "@jupyter-widgets/base",
            "_model_module_version": "1.2.0",
            "_model_name": "LayoutModel",
            "_view_count": null,
            "_view_module": "@jupyter-widgets/base",
            "_view_module_version": "1.2.0",
            "_view_name": "LayoutView",
            "align_content": null,
            "align_items": null,
            "align_self": null,
            "border": null,
            "bottom": null,
            "display": null,
            "flex": null,
            "flex_flow": null,
            "grid_area": null,
            "grid_auto_columns": null,
            "grid_auto_flow": null,
            "grid_auto_rows": null,
            "grid_column": null,
            "grid_gap": null,
            "grid_row": null,
            "grid_template_areas": null,
            "grid_template_columns": null,
            "grid_template_rows": null,
            "height": null,
            "justify_content": null,
            "justify_items": null,
            "left": null,
            "margin": null,
            "max_height": null,
            "max_width": null,
            "min_height": null,
            "min_width": null,
            "object_fit": null,
            "object_position": null,
            "order": null,
            "overflow": null,
            "overflow_x": null,
            "overflow_y": null,
            "padding": null,
            "right": null,
            "top": null,
            "visibility": null,
            "width": null
          }
        },
        "b5ea48a8032446ab8c69a27ac5203d0f": {
          "model_module": "@jupyter-widgets/controls",
          "model_name": "ProgressStyleModel",
          "model_module_version": "1.5.0",
          "state": {
            "_model_module": "@jupyter-widgets/controls",
            "_model_module_version": "1.5.0",
            "_model_name": "ProgressStyleModel",
            "_view_count": null,
            "_view_module": "@jupyter-widgets/base",
            "_view_module_version": "1.2.0",
            "_view_name": "StyleView",
            "bar_color": null,
            "description_width": ""
          }
        },
        "a09db24539a34407903734d9e2b74571": {
          "model_module": "@jupyter-widgets/base",
          "model_name": "LayoutModel",
          "model_module_version": "1.2.0",
          "state": {
            "_model_module": "@jupyter-widgets/base",
            "_model_module_version": "1.2.0",
            "_model_name": "LayoutModel",
            "_view_count": null,
            "_view_module": "@jupyter-widgets/base",
            "_view_module_version": "1.2.0",
            "_view_name": "LayoutView",
            "align_content": null,
            "align_items": null,
            "align_self": null,
            "border": null,
            "bottom": null,
            "display": null,
            "flex": null,
            "flex_flow": null,
            "grid_area": null,
            "grid_auto_columns": null,
            "grid_auto_flow": null,
            "grid_auto_rows": null,
            "grid_column": null,
            "grid_gap": null,
            "grid_row": null,
            "grid_template_areas": null,
            "grid_template_columns": null,
            "grid_template_rows": null,
            "height": null,
            "justify_content": null,
            "justify_items": null,
            "left": null,
            "margin": null,
            "max_height": null,
            "max_width": null,
            "min_height": null,
            "min_width": null,
            "object_fit": null,
            "object_position": null,
            "order": null,
            "overflow": null,
            "overflow_x": null,
            "overflow_y": null,
            "padding": null,
            "right": null,
            "top": null,
            "visibility": null,
            "width": null
          }
        },
        "9606c6afb2cc4437b91f83df917ccb3d": {
          "model_module": "@jupyter-widgets/controls",
          "model_name": "DescriptionStyleModel",
          "model_module_version": "1.5.0",
          "state": {
            "_model_module": "@jupyter-widgets/controls",
            "_model_module_version": "1.5.0",
            "_model_name": "DescriptionStyleModel",
            "_view_count": null,
            "_view_module": "@jupyter-widgets/base",
            "_view_module_version": "1.2.0",
            "_view_name": "StyleView",
            "description_width": ""
          }
        },
        "4df91bd46ba14f0b9fa0114b14929407": {
          "model_module": "@jupyter-widgets/controls",
          "model_name": "HBoxModel",
          "model_module_version": "1.5.0",
          "state": {
            "_dom_classes": [],
            "_model_module": "@jupyter-widgets/controls",
            "_model_module_version": "1.5.0",
            "_model_name": "HBoxModel",
            "_view_count": null,
            "_view_module": "@jupyter-widgets/controls",
            "_view_module_version": "1.5.0",
            "_view_name": "HBoxView",
            "box_style": "",
            "children": [
              "IPY_MODEL_201a16124aa741358d92a196bb712b37",
              "IPY_MODEL_d658d58ed9bc4e548c34b89d49e3d4dd",
              "IPY_MODEL_5a70da8b8850400d8e6e7b431fa6c092"
            ],
            "layout": "IPY_MODEL_bcec70e91b2d4c659cc70234af102151"
          }
        },
        "201a16124aa741358d92a196bb712b37": {
          "model_module": "@jupyter-widgets/controls",
          "model_name": "HTMLModel",
          "model_module_version": "1.5.0",
          "state": {
            "_dom_classes": [],
            "_model_module": "@jupyter-widgets/controls",
            "_model_module_version": "1.5.0",
            "_model_name": "HTMLModel",
            "_view_count": null,
            "_view_module": "@jupyter-widgets/controls",
            "_view_module_version": "1.5.0",
            "_view_name": "HTMLView",
            "description": "",
            "description_tooltip": null,
            "layout": "IPY_MODEL_ed4b06c115214c7bafa0619aa8dfc67d",
            "placeholder": "​",
            "style": "IPY_MODEL_1c864c86e56741fda6d507d3b98311b7",
            "value": "Downloading readme: 100%"
          }
        },
        "d658d58ed9bc4e548c34b89d49e3d4dd": {
          "model_module": "@jupyter-widgets/controls",
          "model_name": "FloatProgressModel",
          "model_module_version": "1.5.0",
          "state": {
            "_dom_classes": [],
            "_model_module": "@jupyter-widgets/controls",
            "_model_module_version": "1.5.0",
            "_model_name": "FloatProgressModel",
            "_view_count": null,
            "_view_module": "@jupyter-widgets/controls",
            "_view_module_version": "1.5.0",
            "_view_name": "ProgressView",
            "bar_style": "success",
            "description": "",
            "description_tooltip": null,
            "layout": "IPY_MODEL_2fe930aa7aef4575812e51dd5b28b169",
            "max": 7946,
            "min": 0,
            "orientation": "horizontal",
            "style": "IPY_MODEL_14e3847f3a6c483182d31364da70da03",
            "value": 7946
          }
        },
        "5a70da8b8850400d8e6e7b431fa6c092": {
          "model_module": "@jupyter-widgets/controls",
          "model_name": "HTMLModel",
          "model_module_version": "1.5.0",
          "state": {
            "_dom_classes": [],
            "_model_module": "@jupyter-widgets/controls",
            "_model_module_version": "1.5.0",
            "_model_name": "HTMLModel",
            "_view_count": null,
            "_view_module": "@jupyter-widgets/controls",
            "_view_module_version": "1.5.0",
            "_view_name": "HTMLView",
            "description": "",
            "description_tooltip": null,
            "layout": "IPY_MODEL_cc72f5bbf9e04ca081fdad5bd2178180",
            "placeholder": "​",
            "style": "IPY_MODEL_042cbbd0adfb4b6886f1fce79f52a2d5",
            "value": " 7.95k/7.95k [00:00&lt;00:00, 88.5kB/s]"
          }
        },
        "bcec70e91b2d4c659cc70234af102151": {
          "model_module": "@jupyter-widgets/base",
          "model_name": "LayoutModel",
          "model_module_version": "1.2.0",
          "state": {
            "_model_module": "@jupyter-widgets/base",
            "_model_module_version": "1.2.0",
            "_model_name": "LayoutModel",
            "_view_count": null,
            "_view_module": "@jupyter-widgets/base",
            "_view_module_version": "1.2.0",
            "_view_name": "LayoutView",
            "align_content": null,
            "align_items": null,
            "align_self": null,
            "border": null,
            "bottom": null,
            "display": null,
            "flex": null,
            "flex_flow": null,
            "grid_area": null,
            "grid_auto_columns": null,
            "grid_auto_flow": null,
            "grid_auto_rows": null,
            "grid_column": null,
            "grid_gap": null,
            "grid_row": null,
            "grid_template_areas": null,
            "grid_template_columns": null,
            "grid_template_rows": null,
            "height": null,
            "justify_content": null,
            "justify_items": null,
            "left": null,
            "margin": null,
            "max_height": null,
            "max_width": null,
            "min_height": null,
            "min_width": null,
            "object_fit": null,
            "object_position": null,
            "order": null,
            "overflow": null,
            "overflow_x": null,
            "overflow_y": null,
            "padding": null,
            "right": null,
            "top": null,
            "visibility": null,
            "width": null
          }
        },
        "ed4b06c115214c7bafa0619aa8dfc67d": {
          "model_module": "@jupyter-widgets/base",
          "model_name": "LayoutModel",
          "model_module_version": "1.2.0",
          "state": {
            "_model_module": "@jupyter-widgets/base",
            "_model_module_version": "1.2.0",
            "_model_name": "LayoutModel",
            "_view_count": null,
            "_view_module": "@jupyter-widgets/base",
            "_view_module_version": "1.2.0",
            "_view_name": "LayoutView",
            "align_content": null,
            "align_items": null,
            "align_self": null,
            "border": null,
            "bottom": null,
            "display": null,
            "flex": null,
            "flex_flow": null,
            "grid_area": null,
            "grid_auto_columns": null,
            "grid_auto_flow": null,
            "grid_auto_rows": null,
            "grid_column": null,
            "grid_gap": null,
            "grid_row": null,
            "grid_template_areas": null,
            "grid_template_columns": null,
            "grid_template_rows": null,
            "height": null,
            "justify_content": null,
            "justify_items": null,
            "left": null,
            "margin": null,
            "max_height": null,
            "max_width": null,
            "min_height": null,
            "min_width": null,
            "object_fit": null,
            "object_position": null,
            "order": null,
            "overflow": null,
            "overflow_x": null,
            "overflow_y": null,
            "padding": null,
            "right": null,
            "top": null,
            "visibility": null,
            "width": null
          }
        },
        "1c864c86e56741fda6d507d3b98311b7": {
          "model_module": "@jupyter-widgets/controls",
          "model_name": "DescriptionStyleModel",
          "model_module_version": "1.5.0",
          "state": {
            "_model_module": "@jupyter-widgets/controls",
            "_model_module_version": "1.5.0",
            "_model_name": "DescriptionStyleModel",
            "_view_count": null,
            "_view_module": "@jupyter-widgets/base",
            "_view_module_version": "1.2.0",
            "_view_name": "StyleView",
            "description_width": ""
          }
        },
        "2fe930aa7aef4575812e51dd5b28b169": {
          "model_module": "@jupyter-widgets/base",
          "model_name": "LayoutModel",
          "model_module_version": "1.2.0",
          "state": {
            "_model_module": "@jupyter-widgets/base",
            "_model_module_version": "1.2.0",
            "_model_name": "LayoutModel",
            "_view_count": null,
            "_view_module": "@jupyter-widgets/base",
            "_view_module_version": "1.2.0",
            "_view_name": "LayoutView",
            "align_content": null,
            "align_items": null,
            "align_self": null,
            "border": null,
            "bottom": null,
            "display": null,
            "flex": null,
            "flex_flow": null,
            "grid_area": null,
            "grid_auto_columns": null,
            "grid_auto_flow": null,
            "grid_auto_rows": null,
            "grid_column": null,
            "grid_gap": null,
            "grid_row": null,
            "grid_template_areas": null,
            "grid_template_columns": null,
            "grid_template_rows": null,
            "height": null,
            "justify_content": null,
            "justify_items": null,
            "left": null,
            "margin": null,
            "max_height": null,
            "max_width": null,
            "min_height": null,
            "min_width": null,
            "object_fit": null,
            "object_position": null,
            "order": null,
            "overflow": null,
            "overflow_x": null,
            "overflow_y": null,
            "padding": null,
            "right": null,
            "top": null,
            "visibility": null,
            "width": null
          }
        },
        "14e3847f3a6c483182d31364da70da03": {
          "model_module": "@jupyter-widgets/controls",
          "model_name": "ProgressStyleModel",
          "model_module_version": "1.5.0",
          "state": {
            "_model_module": "@jupyter-widgets/controls",
            "_model_module_version": "1.5.0",
            "_model_name": "ProgressStyleModel",
            "_view_count": null,
            "_view_module": "@jupyter-widgets/base",
            "_view_module_version": "1.2.0",
            "_view_name": "StyleView",
            "bar_color": null,
            "description_width": ""
          }
        },
        "cc72f5bbf9e04ca081fdad5bd2178180": {
          "model_module": "@jupyter-widgets/base",
          "model_name": "LayoutModel",
          "model_module_version": "1.2.0",
          "state": {
            "_model_module": "@jupyter-widgets/base",
            "_model_module_version": "1.2.0",
            "_model_name": "LayoutModel",
            "_view_count": null,
            "_view_module": "@jupyter-widgets/base",
            "_view_module_version": "1.2.0",
            "_view_name": "LayoutView",
            "align_content": null,
            "align_items": null,
            "align_self": null,
            "border": null,
            "bottom": null,
            "display": null,
            "flex": null,
            "flex_flow": null,
            "grid_area": null,
            "grid_auto_columns": null,
            "grid_auto_flow": null,
            "grid_auto_rows": null,
            "grid_column": null,
            "grid_gap": null,
            "grid_row": null,
            "grid_template_areas": null,
            "grid_template_columns": null,
            "grid_template_rows": null,
            "height": null,
            "justify_content": null,
            "justify_items": null,
            "left": null,
            "margin": null,
            "max_height": null,
            "max_width": null,
            "min_height": null,
            "min_width": null,
            "object_fit": null,
            "object_position": null,
            "order": null,
            "overflow": null,
            "overflow_x": null,
            "overflow_y": null,
            "padding": null,
            "right": null,
            "top": null,
            "visibility": null,
            "width": null
          }
        },
        "042cbbd0adfb4b6886f1fce79f52a2d5": {
          "model_module": "@jupyter-widgets/controls",
          "model_name": "DescriptionStyleModel",
          "model_module_version": "1.5.0",
          "state": {
            "_model_module": "@jupyter-widgets/controls",
            "_model_module_version": "1.5.0",
            "_model_name": "DescriptionStyleModel",
            "_view_count": null,
            "_view_module": "@jupyter-widgets/base",
            "_view_module_version": "1.2.0",
            "_view_name": "StyleView",
            "description_width": ""
          }
        },
        "207d0cf872834028bd2181d7a30b764f": {
          "model_module": "@jupyter-widgets/controls",
          "model_name": "HBoxModel",
          "model_module_version": "1.5.0",
          "state": {
            "_dom_classes": [],
            "_model_module": "@jupyter-widgets/controls",
            "_model_module_version": "1.5.0",
            "_model_name": "HBoxModel",
            "_view_count": null,
            "_view_module": "@jupyter-widgets/controls",
            "_view_module_version": "1.5.0",
            "_view_name": "HBoxView",
            "box_style": "",
            "children": [
              "IPY_MODEL_c77ea53901d64d5b9e83759dd32401ee",
              "IPY_MODEL_75079065dc674350bd26aa065e9e98ec",
              "IPY_MODEL_ea640267fd764afeb4236fea711bdcfb"
            ],
            "layout": "IPY_MODEL_a6e5d57fda9e49968bfd7403d2d6911f"
          }
        },
        "c77ea53901d64d5b9e83759dd32401ee": {
          "model_module": "@jupyter-widgets/controls",
          "model_name": "HTMLModel",
          "model_module_version": "1.5.0",
          "state": {
            "_dom_classes": [],
            "_model_module": "@jupyter-widgets/controls",
            "_model_module_version": "1.5.0",
            "_model_name": "HTMLModel",
            "_view_count": null,
            "_view_module": "@jupyter-widgets/controls",
            "_view_module_version": "1.5.0",
            "_view_name": "HTMLView",
            "description": "",
            "description_tooltip": null,
            "layout": "IPY_MODEL_2532c56c175f4491af765adb2fac4b2e",
            "placeholder": "​",
            "style": "IPY_MODEL_2ea5e4367dc94d77a36eb40778dd8682",
            "value": "Downloading data: "
          }
        },
        "75079065dc674350bd26aa065e9e98ec": {
          "model_module": "@jupyter-widgets/controls",
          "model_name": "FloatProgressModel",
          "model_module_version": "1.5.0",
          "state": {
            "_dom_classes": [],
            "_model_module": "@jupyter-widgets/controls",
            "_model_module_version": "1.5.0",
            "_model_name": "FloatProgressModel",
            "_view_count": null,
            "_view_module": "@jupyter-widgets/controls",
            "_view_module_version": "1.5.0",
            "_view_name": "ProgressView",
            "bar_style": "success",
            "description": "",
            "description_tooltip": null,
            "layout": "IPY_MODEL_23514140a1e74f07b2736aa1f57ea706",
            "max": 11045148,
            "min": 0,
            "orientation": "horizontal",
            "style": "IPY_MODEL_90736ee9563b4455a2badf0fd3023f62",
            "value": 11045148
          }
        },
        "ea640267fd764afeb4236fea711bdcfb": {
          "model_module": "@jupyter-widgets/controls",
          "model_name": "HTMLModel",
          "model_module_version": "1.5.0",
          "state": {
            "_dom_classes": [],
            "_model_module": "@jupyter-widgets/controls",
            "_model_module_version": "1.5.0",
            "_model_name": "HTMLModel",
            "_view_count": null,
            "_view_module": "@jupyter-widgets/controls",
            "_view_module_version": "1.5.0",
            "_view_name": "HTMLView",
            "description": "",
            "description_tooltip": null,
            "layout": "IPY_MODEL_f98735a85858490697d9c4d7cdbe9dad",
            "placeholder": "​",
            "style": "IPY_MODEL_f351ec35a8d54d15a0b87f52a9df5a07",
            "value": " 29.5M/? [00:01&lt;00:00, 23.5MB/s]"
          }
        },
        "a6e5d57fda9e49968bfd7403d2d6911f": {
          "model_module": "@jupyter-widgets/base",
          "model_name": "LayoutModel",
          "model_module_version": "1.2.0",
          "state": {
            "_model_module": "@jupyter-widgets/base",
            "_model_module_version": "1.2.0",
            "_model_name": "LayoutModel",
            "_view_count": null,
            "_view_module": "@jupyter-widgets/base",
            "_view_module_version": "1.2.0",
            "_view_name": "LayoutView",
            "align_content": null,
            "align_items": null,
            "align_self": null,
            "border": null,
            "bottom": null,
            "display": null,
            "flex": null,
            "flex_flow": null,
            "grid_area": null,
            "grid_auto_columns": null,
            "grid_auto_flow": null,
            "grid_auto_rows": null,
            "grid_column": null,
            "grid_gap": null,
            "grid_row": null,
            "grid_template_areas": null,
            "grid_template_columns": null,
            "grid_template_rows": null,
            "height": null,
            "justify_content": null,
            "justify_items": null,
            "left": null,
            "margin": null,
            "max_height": null,
            "max_width": null,
            "min_height": null,
            "min_width": null,
            "object_fit": null,
            "object_position": null,
            "order": null,
            "overflow": null,
            "overflow_x": null,
            "overflow_y": null,
            "padding": null,
            "right": null,
            "top": null,
            "visibility": null,
            "width": null
          }
        },
        "2532c56c175f4491af765adb2fac4b2e": {
          "model_module": "@jupyter-widgets/base",
          "model_name": "LayoutModel",
          "model_module_version": "1.2.0",
          "state": {
            "_model_module": "@jupyter-widgets/base",
            "_model_module_version": "1.2.0",
            "_model_name": "LayoutModel",
            "_view_count": null,
            "_view_module": "@jupyter-widgets/base",
            "_view_module_version": "1.2.0",
            "_view_name": "LayoutView",
            "align_content": null,
            "align_items": null,
            "align_self": null,
            "border": null,
            "bottom": null,
            "display": null,
            "flex": null,
            "flex_flow": null,
            "grid_area": null,
            "grid_auto_columns": null,
            "grid_auto_flow": null,
            "grid_auto_rows": null,
            "grid_column": null,
            "grid_gap": null,
            "grid_row": null,
            "grid_template_areas": null,
            "grid_template_columns": null,
            "grid_template_rows": null,
            "height": null,
            "justify_content": null,
            "justify_items": null,
            "left": null,
            "margin": null,
            "max_height": null,
            "max_width": null,
            "min_height": null,
            "min_width": null,
            "object_fit": null,
            "object_position": null,
            "order": null,
            "overflow": null,
            "overflow_x": null,
            "overflow_y": null,
            "padding": null,
            "right": null,
            "top": null,
            "visibility": null,
            "width": null
          }
        },
        "2ea5e4367dc94d77a36eb40778dd8682": {
          "model_module": "@jupyter-widgets/controls",
          "model_name": "DescriptionStyleModel",
          "model_module_version": "1.5.0",
          "state": {
            "_model_module": "@jupyter-widgets/controls",
            "_model_module_version": "1.5.0",
            "_model_name": "DescriptionStyleModel",
            "_view_count": null,
            "_view_module": "@jupyter-widgets/base",
            "_view_module_version": "1.2.0",
            "_view_name": "StyleView",
            "description_width": ""
          }
        },
        "23514140a1e74f07b2736aa1f57ea706": {
          "model_module": "@jupyter-widgets/base",
          "model_name": "LayoutModel",
          "model_module_version": "1.2.0",
          "state": {
            "_model_module": "@jupyter-widgets/base",
            "_model_module_version": "1.2.0",
            "_model_name": "LayoutModel",
            "_view_count": null,
            "_view_module": "@jupyter-widgets/base",
            "_view_module_version": "1.2.0",
            "_view_name": "LayoutView",
            "align_content": null,
            "align_items": null,
            "align_self": null,
            "border": null,
            "bottom": null,
            "display": null,
            "flex": null,
            "flex_flow": null,
            "grid_area": null,
            "grid_auto_columns": null,
            "grid_auto_flow": null,
            "grid_auto_rows": null,
            "grid_column": null,
            "grid_gap": null,
            "grid_row": null,
            "grid_template_areas": null,
            "grid_template_columns": null,
            "grid_template_rows": null,
            "height": null,
            "justify_content": null,
            "justify_items": null,
            "left": null,
            "margin": null,
            "max_height": null,
            "max_width": null,
            "min_height": null,
            "min_width": null,
            "object_fit": null,
            "object_position": null,
            "order": null,
            "overflow": null,
            "overflow_x": null,
            "overflow_y": null,
            "padding": null,
            "right": null,
            "top": null,
            "visibility": null,
            "width": null
          }
        },
        "90736ee9563b4455a2badf0fd3023f62": {
          "model_module": "@jupyter-widgets/controls",
          "model_name": "ProgressStyleModel",
          "model_module_version": "1.5.0",
          "state": {
            "_model_module": "@jupyter-widgets/controls",
            "_model_module_version": "1.5.0",
            "_model_name": "ProgressStyleModel",
            "_view_count": null,
            "_view_module": "@jupyter-widgets/base",
            "_view_module_version": "1.2.0",
            "_view_name": "StyleView",
            "bar_color": null,
            "description_width": ""
          }
        },
        "f98735a85858490697d9c4d7cdbe9dad": {
          "model_module": "@jupyter-widgets/base",
          "model_name": "LayoutModel",
          "model_module_version": "1.2.0",
          "state": {
            "_model_module": "@jupyter-widgets/base",
            "_model_module_version": "1.2.0",
            "_model_name": "LayoutModel",
            "_view_count": null,
            "_view_module": "@jupyter-widgets/base",
            "_view_module_version": "1.2.0",
            "_view_name": "LayoutView",
            "align_content": null,
            "align_items": null,
            "align_self": null,
            "border": null,
            "bottom": null,
            "display": null,
            "flex": null,
            "flex_flow": null,
            "grid_area": null,
            "grid_auto_columns": null,
            "grid_auto_flow": null,
            "grid_auto_rows": null,
            "grid_column": null,
            "grid_gap": null,
            "grid_row": null,
            "grid_template_areas": null,
            "grid_template_columns": null,
            "grid_template_rows": null,
            "height": null,
            "justify_content": null,
            "justify_items": null,
            "left": null,
            "margin": null,
            "max_height": null,
            "max_width": null,
            "min_height": null,
            "min_width": null,
            "object_fit": null,
            "object_position": null,
            "order": null,
            "overflow": null,
            "overflow_x": null,
            "overflow_y": null,
            "padding": null,
            "right": null,
            "top": null,
            "visibility": null,
            "width": null
          }
        },
        "f351ec35a8d54d15a0b87f52a9df5a07": {
          "model_module": "@jupyter-widgets/controls",
          "model_name": "DescriptionStyleModel",
          "model_module_version": "1.5.0",
          "state": {
            "_model_module": "@jupyter-widgets/controls",
            "_model_module_version": "1.5.0",
            "_model_name": "DescriptionStyleModel",
            "_view_count": null,
            "_view_module": "@jupyter-widgets/base",
            "_view_module_version": "1.2.0",
            "_view_name": "StyleView",
            "description_width": ""
          }
        },
        "6e66499632d24e20adfd3f07915f52c5": {
          "model_module": "@jupyter-widgets/controls",
          "model_name": "HBoxModel",
          "model_module_version": "1.5.0",
          "state": {
            "_dom_classes": [],
            "_model_module": "@jupyter-widgets/controls",
            "_model_module_version": "1.5.0",
            "_model_name": "HBoxModel",
            "_view_count": null,
            "_view_module": "@jupyter-widgets/controls",
            "_view_module_version": "1.5.0",
            "_view_name": "HBoxView",
            "box_style": "",
            "children": [
              "IPY_MODEL_ec384e53d91a45a2a4f701e673a72cd0",
              "IPY_MODEL_780396a33fe3427c85401cef37fe9c2b",
              "IPY_MODEL_86db83a07bf94068b8dddc84d4eb52d1"
            ],
            "layout": "IPY_MODEL_cbc7dcbed8c64cbf806c3ef6335373b0"
          }
        },
        "ec384e53d91a45a2a4f701e673a72cd0": {
          "model_module": "@jupyter-widgets/controls",
          "model_name": "HTMLModel",
          "model_module_version": "1.5.0",
          "state": {
            "_dom_classes": [],
            "_model_module": "@jupyter-widgets/controls",
            "_model_module_version": "1.5.0",
            "_model_name": "HTMLModel",
            "_view_count": null,
            "_view_module": "@jupyter-widgets/controls",
            "_view_module_version": "1.5.0",
            "_view_name": "HTMLView",
            "description": "",
            "description_tooltip": null,
            "layout": "IPY_MODEL_ec8eddbe02cb42898aaee072cf980a13",
            "placeholder": "​",
            "style": "IPY_MODEL_b3979af162eb4739be1fba47af5d8702",
            "value": "Downloading data: "
          }
        },
        "780396a33fe3427c85401cef37fe9c2b": {
          "model_module": "@jupyter-widgets/controls",
          "model_name": "FloatProgressModel",
          "model_module_version": "1.5.0",
          "state": {
            "_dom_classes": [],
            "_model_module": "@jupyter-widgets/controls",
            "_model_module_version": "1.5.0",
            "_model_name": "FloatProgressModel",
            "_view_count": null,
            "_view_module": "@jupyter-widgets/controls",
            "_view_module_version": "1.5.0",
            "_view_name": "ProgressView",
            "bar_style": "success",
            "description": "",
            "description_tooltip": null,
            "layout": "IPY_MODEL_d86b67b4a6564daca0981ece685fea61",
            "max": 751209,
            "min": 0,
            "orientation": "horizontal",
            "style": "IPY_MODEL_327f3bb6ba9844f19f972434fdaa155a",
            "value": 751209
          }
        },
        "86db83a07bf94068b8dddc84d4eb52d1": {
          "model_module": "@jupyter-widgets/controls",
          "model_name": "HTMLModel",
          "model_module_version": "1.5.0",
          "state": {
            "_dom_classes": [],
            "_model_module": "@jupyter-widgets/controls",
            "_model_module_version": "1.5.0",
            "_model_name": "HTMLModel",
            "_view_count": null,
            "_view_module": "@jupyter-widgets/controls",
            "_view_module_version": "1.5.0",
            "_view_name": "HTMLView",
            "description": "",
            "description_tooltip": null,
            "layout": "IPY_MODEL_86b15e29620f41b9ac7020fc700f737f",
            "placeholder": "​",
            "style": "IPY_MODEL_50d9a976b5c847c4b54789280c725c68",
            "value": " 1.86M/? [00:00&lt;00:00, 10.5MB/s]"
          }
        },
        "cbc7dcbed8c64cbf806c3ef6335373b0": {
          "model_module": "@jupyter-widgets/base",
          "model_name": "LayoutModel",
          "model_module_version": "1.2.0",
          "state": {
            "_model_module": "@jupyter-widgets/base",
            "_model_module_version": "1.2.0",
            "_model_name": "LayoutModel",
            "_view_count": null,
            "_view_module": "@jupyter-widgets/base",
            "_view_module_version": "1.2.0",
            "_view_name": "LayoutView",
            "align_content": null,
            "align_items": null,
            "align_self": null,
            "border": null,
            "bottom": null,
            "display": null,
            "flex": null,
            "flex_flow": null,
            "grid_area": null,
            "grid_auto_columns": null,
            "grid_auto_flow": null,
            "grid_auto_rows": null,
            "grid_column": null,
            "grid_gap": null,
            "grid_row": null,
            "grid_template_areas": null,
            "grid_template_columns": null,
            "grid_template_rows": null,
            "height": null,
            "justify_content": null,
            "justify_items": null,
            "left": null,
            "margin": null,
            "max_height": null,
            "max_width": null,
            "min_height": null,
            "min_width": null,
            "object_fit": null,
            "object_position": null,
            "order": null,
            "overflow": null,
            "overflow_x": null,
            "overflow_y": null,
            "padding": null,
            "right": null,
            "top": null,
            "visibility": null,
            "width": null
          }
        },
        "ec8eddbe02cb42898aaee072cf980a13": {
          "model_module": "@jupyter-widgets/base",
          "model_name": "LayoutModel",
          "model_module_version": "1.2.0",
          "state": {
            "_model_module": "@jupyter-widgets/base",
            "_model_module_version": "1.2.0",
            "_model_name": "LayoutModel",
            "_view_count": null,
            "_view_module": "@jupyter-widgets/base",
            "_view_module_version": "1.2.0",
            "_view_name": "LayoutView",
            "align_content": null,
            "align_items": null,
            "align_self": null,
            "border": null,
            "bottom": null,
            "display": null,
            "flex": null,
            "flex_flow": null,
            "grid_area": null,
            "grid_auto_columns": null,
            "grid_auto_flow": null,
            "grid_auto_rows": null,
            "grid_column": null,
            "grid_gap": null,
            "grid_row": null,
            "grid_template_areas": null,
            "grid_template_columns": null,
            "grid_template_rows": null,
            "height": null,
            "justify_content": null,
            "justify_items": null,
            "left": null,
            "margin": null,
            "max_height": null,
            "max_width": null,
            "min_height": null,
            "min_width": null,
            "object_fit": null,
            "object_position": null,
            "order": null,
            "overflow": null,
            "overflow_x": null,
            "overflow_y": null,
            "padding": null,
            "right": null,
            "top": null,
            "visibility": null,
            "width": null
          }
        },
        "b3979af162eb4739be1fba47af5d8702": {
          "model_module": "@jupyter-widgets/controls",
          "model_name": "DescriptionStyleModel",
          "model_module_version": "1.5.0",
          "state": {
            "_model_module": "@jupyter-widgets/controls",
            "_model_module_version": "1.5.0",
            "_model_name": "DescriptionStyleModel",
            "_view_count": null,
            "_view_module": "@jupyter-widgets/base",
            "_view_module_version": "1.2.0",
            "_view_name": "StyleView",
            "description_width": ""
          }
        },
        "d86b67b4a6564daca0981ece685fea61": {
          "model_module": "@jupyter-widgets/base",
          "model_name": "LayoutModel",
          "model_module_version": "1.2.0",
          "state": {
            "_model_module": "@jupyter-widgets/base",
            "_model_module_version": "1.2.0",
            "_model_name": "LayoutModel",
            "_view_count": null,
            "_view_module": "@jupyter-widgets/base",
            "_view_module_version": "1.2.0",
            "_view_name": "LayoutView",
            "align_content": null,
            "align_items": null,
            "align_self": null,
            "border": null,
            "bottom": null,
            "display": null,
            "flex": null,
            "flex_flow": null,
            "grid_area": null,
            "grid_auto_columns": null,
            "grid_auto_flow": null,
            "grid_auto_rows": null,
            "grid_column": null,
            "grid_gap": null,
            "grid_row": null,
            "grid_template_areas": null,
            "grid_template_columns": null,
            "grid_template_rows": null,
            "height": null,
            "justify_content": null,
            "justify_items": null,
            "left": null,
            "margin": null,
            "max_height": null,
            "max_width": null,
            "min_height": null,
            "min_width": null,
            "object_fit": null,
            "object_position": null,
            "order": null,
            "overflow": null,
            "overflow_x": null,
            "overflow_y": null,
            "padding": null,
            "right": null,
            "top": null,
            "visibility": null,
            "width": null
          }
        },
        "327f3bb6ba9844f19f972434fdaa155a": {
          "model_module": "@jupyter-widgets/controls",
          "model_name": "ProgressStyleModel",
          "model_module_version": "1.5.0",
          "state": {
            "_model_module": "@jupyter-widgets/controls",
            "_model_module_version": "1.5.0",
            "_model_name": "ProgressStyleModel",
            "_view_count": null,
            "_view_module": "@jupyter-widgets/base",
            "_view_module_version": "1.2.0",
            "_view_name": "StyleView",
            "bar_color": null,
            "description_width": ""
          }
        },
        "86b15e29620f41b9ac7020fc700f737f": {
          "model_module": "@jupyter-widgets/base",
          "model_name": "LayoutModel",
          "model_module_version": "1.2.0",
          "state": {
            "_model_module": "@jupyter-widgets/base",
            "_model_module_version": "1.2.0",
            "_model_name": "LayoutModel",
            "_view_count": null,
            "_view_module": "@jupyter-widgets/base",
            "_view_module_version": "1.2.0",
            "_view_name": "LayoutView",
            "align_content": null,
            "align_items": null,
            "align_self": null,
            "border": null,
            "bottom": null,
            "display": null,
            "flex": null,
            "flex_flow": null,
            "grid_area": null,
            "grid_auto_columns": null,
            "grid_auto_flow": null,
            "grid_auto_rows": null,
            "grid_column": null,
            "grid_gap": null,
            "grid_row": null,
            "grid_template_areas": null,
            "grid_template_columns": null,
            "grid_template_rows": null,
            "height": null,
            "justify_content": null,
            "justify_items": null,
            "left": null,
            "margin": null,
            "max_height": null,
            "max_width": null,
            "min_height": null,
            "min_width": null,
            "object_fit": null,
            "object_position": null,
            "order": null,
            "overflow": null,
            "overflow_x": null,
            "overflow_y": null,
            "padding": null,
            "right": null,
            "top": null,
            "visibility": null,
            "width": null
          }
        },
        "50d9a976b5c847c4b54789280c725c68": {
          "model_module": "@jupyter-widgets/controls",
          "model_name": "DescriptionStyleModel",
          "model_module_version": "1.5.0",
          "state": {
            "_model_module": "@jupyter-widgets/controls",
            "_model_module_version": "1.5.0",
            "_model_name": "DescriptionStyleModel",
            "_view_count": null,
            "_view_module": "@jupyter-widgets/base",
            "_view_module_version": "1.2.0",
            "_view_name": "StyleView",
            "description_width": ""
          }
        },
        "8206ec3d6596477f9118c5f6b3e9aa52": {
          "model_module": "@jupyter-widgets/controls",
          "model_name": "HBoxModel",
          "model_module_version": "1.5.0",
          "state": {
            "_dom_classes": [],
            "_model_module": "@jupyter-widgets/controls",
            "_model_module_version": "1.5.0",
            "_model_name": "HBoxModel",
            "_view_count": null,
            "_view_module": "@jupyter-widgets/controls",
            "_view_module_version": "1.5.0",
            "_view_name": "HBoxView",
            "box_style": "",
            "children": [
              "IPY_MODEL_9a73f320d0da4dd9a53584759483be50",
              "IPY_MODEL_0d9be75209df44048d510626107af32a",
              "IPY_MODEL_0c60b03486d6436680d91cd3ed8a406c"
            ],
            "layout": "IPY_MODEL_55c827fc6d8844a38c24b75982650fb5"
          }
        },
        "9a73f320d0da4dd9a53584759483be50": {
          "model_module": "@jupyter-widgets/controls",
          "model_name": "HTMLModel",
          "model_module_version": "1.5.0",
          "state": {
            "_dom_classes": [],
            "_model_module": "@jupyter-widgets/controls",
            "_model_module_version": "1.5.0",
            "_model_name": "HTMLModel",
            "_view_count": null,
            "_view_module": "@jupyter-widgets/controls",
            "_view_module_version": "1.5.0",
            "_view_name": "HTMLView",
            "description": "",
            "description_tooltip": null,
            "layout": "IPY_MODEL_7d4ba1dca90a4ba1aae792840694c366",
            "placeholder": "​",
            "style": "IPY_MODEL_6ab8ab018cc14b80ad522d423d82e530",
            "value": "Generating train split: 100%"
          }
        },
        "0d9be75209df44048d510626107af32a": {
          "model_module": "@jupyter-widgets/controls",
          "model_name": "FloatProgressModel",
          "model_module_version": "1.5.0",
          "state": {
            "_dom_classes": [],
            "_model_module": "@jupyter-widgets/controls",
            "_model_module_version": "1.5.0",
            "_model_name": "FloatProgressModel",
            "_view_count": null,
            "_view_module": "@jupyter-widgets/controls",
            "_view_module_version": "1.5.0",
            "_view_name": "ProgressView",
            "bar_style": "",
            "description": "",
            "description_tooltip": null,
            "layout": "IPY_MODEL_42f9933f5ec343de9d81307f034c17e9",
            "max": 120000,
            "min": 0,
            "orientation": "horizontal",
            "style": "IPY_MODEL_d7b22b3de68a400284703b9e2f37c855",
            "value": 120000
          }
        },
        "0c60b03486d6436680d91cd3ed8a406c": {
          "model_module": "@jupyter-widgets/controls",
          "model_name": "HTMLModel",
          "model_module_version": "1.5.0",
          "state": {
            "_dom_classes": [],
            "_model_module": "@jupyter-widgets/controls",
            "_model_module_version": "1.5.0",
            "_model_name": "HTMLModel",
            "_view_count": null,
            "_view_module": "@jupyter-widgets/controls",
            "_view_module_version": "1.5.0",
            "_view_name": "HTMLView",
            "description": "",
            "description_tooltip": null,
            "layout": "IPY_MODEL_b8aa28b25dc0423d84cc5455d4ddf315",
            "placeholder": "​",
            "style": "IPY_MODEL_1e174c9fba7145ac866b9f6c21194d23",
            "value": " 120000/120000 [00:24&lt;00:00, 14043.39 examples/s]"
          }
        },
        "55c827fc6d8844a38c24b75982650fb5": {
          "model_module": "@jupyter-widgets/base",
          "model_name": "LayoutModel",
          "model_module_version": "1.2.0",
          "state": {
            "_model_module": "@jupyter-widgets/base",
            "_model_module_version": "1.2.0",
            "_model_name": "LayoutModel",
            "_view_count": null,
            "_view_module": "@jupyter-widgets/base",
            "_view_module_version": "1.2.0",
            "_view_name": "LayoutView",
            "align_content": null,
            "align_items": null,
            "align_self": null,
            "border": null,
            "bottom": null,
            "display": null,
            "flex": null,
            "flex_flow": null,
            "grid_area": null,
            "grid_auto_columns": null,
            "grid_auto_flow": null,
            "grid_auto_rows": null,
            "grid_column": null,
            "grid_gap": null,
            "grid_row": null,
            "grid_template_areas": null,
            "grid_template_columns": null,
            "grid_template_rows": null,
            "height": null,
            "justify_content": null,
            "justify_items": null,
            "left": null,
            "margin": null,
            "max_height": null,
            "max_width": null,
            "min_height": null,
            "min_width": null,
            "object_fit": null,
            "object_position": null,
            "order": null,
            "overflow": null,
            "overflow_x": null,
            "overflow_y": null,
            "padding": null,
            "right": null,
            "top": null,
            "visibility": "hidden",
            "width": null
          }
        },
        "7d4ba1dca90a4ba1aae792840694c366": {
          "model_module": "@jupyter-widgets/base",
          "model_name": "LayoutModel",
          "model_module_version": "1.2.0",
          "state": {
            "_model_module": "@jupyter-widgets/base",
            "_model_module_version": "1.2.0",
            "_model_name": "LayoutModel",
            "_view_count": null,
            "_view_module": "@jupyter-widgets/base",
            "_view_module_version": "1.2.0",
            "_view_name": "LayoutView",
            "align_content": null,
            "align_items": null,
            "align_self": null,
            "border": null,
            "bottom": null,
            "display": null,
            "flex": null,
            "flex_flow": null,
            "grid_area": null,
            "grid_auto_columns": null,
            "grid_auto_flow": null,
            "grid_auto_rows": null,
            "grid_column": null,
            "grid_gap": null,
            "grid_row": null,
            "grid_template_areas": null,
            "grid_template_columns": null,
            "grid_template_rows": null,
            "height": null,
            "justify_content": null,
            "justify_items": null,
            "left": null,
            "margin": null,
            "max_height": null,
            "max_width": null,
            "min_height": null,
            "min_width": null,
            "object_fit": null,
            "object_position": null,
            "order": null,
            "overflow": null,
            "overflow_x": null,
            "overflow_y": null,
            "padding": null,
            "right": null,
            "top": null,
            "visibility": null,
            "width": null
          }
        },
        "6ab8ab018cc14b80ad522d423d82e530": {
          "model_module": "@jupyter-widgets/controls",
          "model_name": "DescriptionStyleModel",
          "model_module_version": "1.5.0",
          "state": {
            "_model_module": "@jupyter-widgets/controls",
            "_model_module_version": "1.5.0",
            "_model_name": "DescriptionStyleModel",
            "_view_count": null,
            "_view_module": "@jupyter-widgets/base",
            "_view_module_version": "1.2.0",
            "_view_name": "StyleView",
            "description_width": ""
          }
        },
        "42f9933f5ec343de9d81307f034c17e9": {
          "model_module": "@jupyter-widgets/base",
          "model_name": "LayoutModel",
          "model_module_version": "1.2.0",
          "state": {
            "_model_module": "@jupyter-widgets/base",
            "_model_module_version": "1.2.0",
            "_model_name": "LayoutModel",
            "_view_count": null,
            "_view_module": "@jupyter-widgets/base",
            "_view_module_version": "1.2.0",
            "_view_name": "LayoutView",
            "align_content": null,
            "align_items": null,
            "align_self": null,
            "border": null,
            "bottom": null,
            "display": null,
            "flex": null,
            "flex_flow": null,
            "grid_area": null,
            "grid_auto_columns": null,
            "grid_auto_flow": null,
            "grid_auto_rows": null,
            "grid_column": null,
            "grid_gap": null,
            "grid_row": null,
            "grid_template_areas": null,
            "grid_template_columns": null,
            "grid_template_rows": null,
            "height": null,
            "justify_content": null,
            "justify_items": null,
            "left": null,
            "margin": null,
            "max_height": null,
            "max_width": null,
            "min_height": null,
            "min_width": null,
            "object_fit": null,
            "object_position": null,
            "order": null,
            "overflow": null,
            "overflow_x": null,
            "overflow_y": null,
            "padding": null,
            "right": null,
            "top": null,
            "visibility": null,
            "width": null
          }
        },
        "d7b22b3de68a400284703b9e2f37c855": {
          "model_module": "@jupyter-widgets/controls",
          "model_name": "ProgressStyleModel",
          "model_module_version": "1.5.0",
          "state": {
            "_model_module": "@jupyter-widgets/controls",
            "_model_module_version": "1.5.0",
            "_model_name": "ProgressStyleModel",
            "_view_count": null,
            "_view_module": "@jupyter-widgets/base",
            "_view_module_version": "1.2.0",
            "_view_name": "StyleView",
            "bar_color": null,
            "description_width": ""
          }
        },
        "b8aa28b25dc0423d84cc5455d4ddf315": {
          "model_module": "@jupyter-widgets/base",
          "model_name": "LayoutModel",
          "model_module_version": "1.2.0",
          "state": {
            "_model_module": "@jupyter-widgets/base",
            "_model_module_version": "1.2.0",
            "_model_name": "LayoutModel",
            "_view_count": null,
            "_view_module": "@jupyter-widgets/base",
            "_view_module_version": "1.2.0",
            "_view_name": "LayoutView",
            "align_content": null,
            "align_items": null,
            "align_self": null,
            "border": null,
            "bottom": null,
            "display": null,
            "flex": null,
            "flex_flow": null,
            "grid_area": null,
            "grid_auto_columns": null,
            "grid_auto_flow": null,
            "grid_auto_rows": null,
            "grid_column": null,
            "grid_gap": null,
            "grid_row": null,
            "grid_template_areas": null,
            "grid_template_columns": null,
            "grid_template_rows": null,
            "height": null,
            "justify_content": null,
            "justify_items": null,
            "left": null,
            "margin": null,
            "max_height": null,
            "max_width": null,
            "min_height": null,
            "min_width": null,
            "object_fit": null,
            "object_position": null,
            "order": null,
            "overflow": null,
            "overflow_x": null,
            "overflow_y": null,
            "padding": null,
            "right": null,
            "top": null,
            "visibility": null,
            "width": null
          }
        },
        "1e174c9fba7145ac866b9f6c21194d23": {
          "model_module": "@jupyter-widgets/controls",
          "model_name": "DescriptionStyleModel",
          "model_module_version": "1.5.0",
          "state": {
            "_model_module": "@jupyter-widgets/controls",
            "_model_module_version": "1.5.0",
            "_model_name": "DescriptionStyleModel",
            "_view_count": null,
            "_view_module": "@jupyter-widgets/base",
            "_view_module_version": "1.2.0",
            "_view_name": "StyleView",
            "description_width": ""
          }
        },
        "accfd9a618ee433db4b5f9124db794f3": {
          "model_module": "@jupyter-widgets/controls",
          "model_name": "HBoxModel",
          "model_module_version": "1.5.0",
          "state": {
            "_dom_classes": [],
            "_model_module": "@jupyter-widgets/controls",
            "_model_module_version": "1.5.0",
            "_model_name": "HBoxModel",
            "_view_count": null,
            "_view_module": "@jupyter-widgets/controls",
            "_view_module_version": "1.5.0",
            "_view_name": "HBoxView",
            "box_style": "",
            "children": [
              "IPY_MODEL_77d182539fbd44ec8c01098153af7389",
              "IPY_MODEL_b87a56bf43774bac8ba4bdfd91131a26",
              "IPY_MODEL_a4fc8b4695f54b6d9014645e8dd07928"
            ],
            "layout": "IPY_MODEL_1505795db5ad43c389a29bdbb73374bb"
          }
        },
        "77d182539fbd44ec8c01098153af7389": {
          "model_module": "@jupyter-widgets/controls",
          "model_name": "HTMLModel",
          "model_module_version": "1.5.0",
          "state": {
            "_dom_classes": [],
            "_model_module": "@jupyter-widgets/controls",
            "_model_module_version": "1.5.0",
            "_model_name": "HTMLModel",
            "_view_count": null,
            "_view_module": "@jupyter-widgets/controls",
            "_view_module_version": "1.5.0",
            "_view_name": "HTMLView",
            "description": "",
            "description_tooltip": null,
            "layout": "IPY_MODEL_45f09426dc2f448392b0ef950f090dde",
            "placeholder": "​",
            "style": "IPY_MODEL_e706828d3e724ebea90f9bda5f27ea79",
            "value": "Generating test split: 100%"
          }
        },
        "b87a56bf43774bac8ba4bdfd91131a26": {
          "model_module": "@jupyter-widgets/controls",
          "model_name": "FloatProgressModel",
          "model_module_version": "1.5.0",
          "state": {
            "_dom_classes": [],
            "_model_module": "@jupyter-widgets/controls",
            "_model_module_version": "1.5.0",
            "_model_name": "FloatProgressModel",
            "_view_count": null,
            "_view_module": "@jupyter-widgets/controls",
            "_view_module_version": "1.5.0",
            "_view_name": "ProgressView",
            "bar_style": "",
            "description": "",
            "description_tooltip": null,
            "layout": "IPY_MODEL_2f5753d0197d4176add6398a91d58bb7",
            "max": 7600,
            "min": 0,
            "orientation": "horizontal",
            "style": "IPY_MODEL_a595560639af4dd88921d4358b33711b",
            "value": 7600
          }
        },
        "a4fc8b4695f54b6d9014645e8dd07928": {
          "model_module": "@jupyter-widgets/controls",
          "model_name": "HTMLModel",
          "model_module_version": "1.5.0",
          "state": {
            "_dom_classes": [],
            "_model_module": "@jupyter-widgets/controls",
            "_model_module_version": "1.5.0",
            "_model_name": "HTMLModel",
            "_view_count": null,
            "_view_module": "@jupyter-widgets/controls",
            "_view_module_version": "1.5.0",
            "_view_name": "HTMLView",
            "description": "",
            "description_tooltip": null,
            "layout": "IPY_MODEL_a286869a35b94262982abff555fcc4b0",
            "placeholder": "​",
            "style": "IPY_MODEL_9bc0c2b5e6c14cff8aef6269f4516fda",
            "value": " 7600/7600 [00:10&lt;00:00, 10869.35 examples/s]"
          }
        },
        "1505795db5ad43c389a29bdbb73374bb": {
          "model_module": "@jupyter-widgets/base",
          "model_name": "LayoutModel",
          "model_module_version": "1.2.0",
          "state": {
            "_model_module": "@jupyter-widgets/base",
            "_model_module_version": "1.2.0",
            "_model_name": "LayoutModel",
            "_view_count": null,
            "_view_module": "@jupyter-widgets/base",
            "_view_module_version": "1.2.0",
            "_view_name": "LayoutView",
            "align_content": null,
            "align_items": null,
            "align_self": null,
            "border": null,
            "bottom": null,
            "display": null,
            "flex": null,
            "flex_flow": null,
            "grid_area": null,
            "grid_auto_columns": null,
            "grid_auto_flow": null,
            "grid_auto_rows": null,
            "grid_column": null,
            "grid_gap": null,
            "grid_row": null,
            "grid_template_areas": null,
            "grid_template_columns": null,
            "grid_template_rows": null,
            "height": null,
            "justify_content": null,
            "justify_items": null,
            "left": null,
            "margin": null,
            "max_height": null,
            "max_width": null,
            "min_height": null,
            "min_width": null,
            "object_fit": null,
            "object_position": null,
            "order": null,
            "overflow": null,
            "overflow_x": null,
            "overflow_y": null,
            "padding": null,
            "right": null,
            "top": null,
            "visibility": "hidden",
            "width": null
          }
        },
        "45f09426dc2f448392b0ef950f090dde": {
          "model_module": "@jupyter-widgets/base",
          "model_name": "LayoutModel",
          "model_module_version": "1.2.0",
          "state": {
            "_model_module": "@jupyter-widgets/base",
            "_model_module_version": "1.2.0",
            "_model_name": "LayoutModel",
            "_view_count": null,
            "_view_module": "@jupyter-widgets/base",
            "_view_module_version": "1.2.0",
            "_view_name": "LayoutView",
            "align_content": null,
            "align_items": null,
            "align_self": null,
            "border": null,
            "bottom": null,
            "display": null,
            "flex": null,
            "flex_flow": null,
            "grid_area": null,
            "grid_auto_columns": null,
            "grid_auto_flow": null,
            "grid_auto_rows": null,
            "grid_column": null,
            "grid_gap": null,
            "grid_row": null,
            "grid_template_areas": null,
            "grid_template_columns": null,
            "grid_template_rows": null,
            "height": null,
            "justify_content": null,
            "justify_items": null,
            "left": null,
            "margin": null,
            "max_height": null,
            "max_width": null,
            "min_height": null,
            "min_width": null,
            "object_fit": null,
            "object_position": null,
            "order": null,
            "overflow": null,
            "overflow_x": null,
            "overflow_y": null,
            "padding": null,
            "right": null,
            "top": null,
            "visibility": null,
            "width": null
          }
        },
        "e706828d3e724ebea90f9bda5f27ea79": {
          "model_module": "@jupyter-widgets/controls",
          "model_name": "DescriptionStyleModel",
          "model_module_version": "1.5.0",
          "state": {
            "_model_module": "@jupyter-widgets/controls",
            "_model_module_version": "1.5.0",
            "_model_name": "DescriptionStyleModel",
            "_view_count": null,
            "_view_module": "@jupyter-widgets/base",
            "_view_module_version": "1.2.0",
            "_view_name": "StyleView",
            "description_width": ""
          }
        },
        "2f5753d0197d4176add6398a91d58bb7": {
          "model_module": "@jupyter-widgets/base",
          "model_name": "LayoutModel",
          "model_module_version": "1.2.0",
          "state": {
            "_model_module": "@jupyter-widgets/base",
            "_model_module_version": "1.2.0",
            "_model_name": "LayoutModel",
            "_view_count": null,
            "_view_module": "@jupyter-widgets/base",
            "_view_module_version": "1.2.0",
            "_view_name": "LayoutView",
            "align_content": null,
            "align_items": null,
            "align_self": null,
            "border": null,
            "bottom": null,
            "display": null,
            "flex": null,
            "flex_flow": null,
            "grid_area": null,
            "grid_auto_columns": null,
            "grid_auto_flow": null,
            "grid_auto_rows": null,
            "grid_column": null,
            "grid_gap": null,
            "grid_row": null,
            "grid_template_areas": null,
            "grid_template_columns": null,
            "grid_template_rows": null,
            "height": null,
            "justify_content": null,
            "justify_items": null,
            "left": null,
            "margin": null,
            "max_height": null,
            "max_width": null,
            "min_height": null,
            "min_width": null,
            "object_fit": null,
            "object_position": null,
            "order": null,
            "overflow": null,
            "overflow_x": null,
            "overflow_y": null,
            "padding": null,
            "right": null,
            "top": null,
            "visibility": null,
            "width": null
          }
        },
        "a595560639af4dd88921d4358b33711b": {
          "model_module": "@jupyter-widgets/controls",
          "model_name": "ProgressStyleModel",
          "model_module_version": "1.5.0",
          "state": {
            "_model_module": "@jupyter-widgets/controls",
            "_model_module_version": "1.5.0",
            "_model_name": "ProgressStyleModel",
            "_view_count": null,
            "_view_module": "@jupyter-widgets/base",
            "_view_module_version": "1.2.0",
            "_view_name": "StyleView",
            "bar_color": null,
            "description_width": ""
          }
        },
        "a286869a35b94262982abff555fcc4b0": {
          "model_module": "@jupyter-widgets/base",
          "model_name": "LayoutModel",
          "model_module_version": "1.2.0",
          "state": {
            "_model_module": "@jupyter-widgets/base",
            "_model_module_version": "1.2.0",
            "_model_name": "LayoutModel",
            "_view_count": null,
            "_view_module": "@jupyter-widgets/base",
            "_view_module_version": "1.2.0",
            "_view_name": "LayoutView",
            "align_content": null,
            "align_items": null,
            "align_self": null,
            "border": null,
            "bottom": null,
            "display": null,
            "flex": null,
            "flex_flow": null,
            "grid_area": null,
            "grid_auto_columns": null,
            "grid_auto_flow": null,
            "grid_auto_rows": null,
            "grid_column": null,
            "grid_gap": null,
            "grid_row": null,
            "grid_template_areas": null,
            "grid_template_columns": null,
            "grid_template_rows": null,
            "height": null,
            "justify_content": null,
            "justify_items": null,
            "left": null,
            "margin": null,
            "max_height": null,
            "max_width": null,
            "min_height": null,
            "min_width": null,
            "object_fit": null,
            "object_position": null,
            "order": null,
            "overflow": null,
            "overflow_x": null,
            "overflow_y": null,
            "padding": null,
            "right": null,
            "top": null,
            "visibility": null,
            "width": null
          }
        },
        "9bc0c2b5e6c14cff8aef6269f4516fda": {
          "model_module": "@jupyter-widgets/controls",
          "model_name": "DescriptionStyleModel",
          "model_module_version": "1.5.0",
          "state": {
            "_model_module": "@jupyter-widgets/controls",
            "_model_module_version": "1.5.0",
            "_model_name": "DescriptionStyleModel",
            "_view_count": null,
            "_view_module": "@jupyter-widgets/base",
            "_view_module_version": "1.2.0",
            "_view_name": "StyleView",
            "description_width": ""
          }
        },
        "6bc7eaef827a4f6ab3ef1a998743932f": {
          "model_module": "@jupyter-widgets/controls",
          "model_name": "HBoxModel",
          "model_module_version": "1.5.0",
          "state": {
            "_dom_classes": [],
            "_model_module": "@jupyter-widgets/controls",
            "_model_module_version": "1.5.0",
            "_model_name": "HBoxModel",
            "_view_count": null,
            "_view_module": "@jupyter-widgets/controls",
            "_view_module_version": "1.5.0",
            "_view_name": "HBoxView",
            "box_style": "",
            "children": [
              "IPY_MODEL_f58ff11b26dc4589aa529ac2500f8a4c",
              "IPY_MODEL_6f06b1ddab884790862349c7e88c27a0",
              "IPY_MODEL_e615052712564fa3acecefdcc0701c58"
            ],
            "layout": "IPY_MODEL_d0149e2101224cad90aabb17d3ddca9d"
          }
        },
        "f58ff11b26dc4589aa529ac2500f8a4c": {
          "model_module": "@jupyter-widgets/controls",
          "model_name": "HTMLModel",
          "model_module_version": "1.5.0",
          "state": {
            "_dom_classes": [],
            "_model_module": "@jupyter-widgets/controls",
            "_model_module_version": "1.5.0",
            "_model_name": "HTMLModel",
            "_view_count": null,
            "_view_module": "@jupyter-widgets/controls",
            "_view_module_version": "1.5.0",
            "_view_name": "HTMLView",
            "description": "",
            "description_tooltip": null,
            "layout": "IPY_MODEL_982bde4bc33f4cee8e41865dc05d81c1",
            "placeholder": "​",
            "style": "IPY_MODEL_98b0056dda934cfb87f90c3dc412f7ac",
            "value": "100%"
          }
        },
        "6f06b1ddab884790862349c7e88c27a0": {
          "model_module": "@jupyter-widgets/controls",
          "model_name": "FloatProgressModel",
          "model_module_version": "1.5.0",
          "state": {
            "_dom_classes": [],
            "_model_module": "@jupyter-widgets/controls",
            "_model_module_version": "1.5.0",
            "_model_name": "FloatProgressModel",
            "_view_count": null,
            "_view_module": "@jupyter-widgets/controls",
            "_view_module_version": "1.5.0",
            "_view_name": "ProgressView",
            "bar_style": "success",
            "description": "",
            "description_tooltip": null,
            "layout": "IPY_MODEL_93515e456dfd4f58997cb95461bc6f05",
            "max": 2,
            "min": 0,
            "orientation": "horizontal",
            "style": "IPY_MODEL_85256d0bcac44a6a8a14cb12b68c6f05",
            "value": 2
          }
        },
        "e615052712564fa3acecefdcc0701c58": {
          "model_module": "@jupyter-widgets/controls",
          "model_name": "HTMLModel",
          "model_module_version": "1.5.0",
          "state": {
            "_dom_classes": [],
            "_model_module": "@jupyter-widgets/controls",
            "_model_module_version": "1.5.0",
            "_model_name": "HTMLModel",
            "_view_count": null,
            "_view_module": "@jupyter-widgets/controls",
            "_view_module_version": "1.5.0",
            "_view_name": "HTMLView",
            "description": "",
            "description_tooltip": null,
            "layout": "IPY_MODEL_c1fd871acb4644ec9620c7be123e0e13",
            "placeholder": "​",
            "style": "IPY_MODEL_49ac28456ace4a38a37ed2ed2ecd1411",
            "value": " 2/2 [00:00&lt;00:00,  6.76it/s]"
          }
        },
        "d0149e2101224cad90aabb17d3ddca9d": {
          "model_module": "@jupyter-widgets/base",
          "model_name": "LayoutModel",
          "model_module_version": "1.2.0",
          "state": {
            "_model_module": "@jupyter-widgets/base",
            "_model_module_version": "1.2.0",
            "_model_name": "LayoutModel",
            "_view_count": null,
            "_view_module": "@jupyter-widgets/base",
            "_view_module_version": "1.2.0",
            "_view_name": "LayoutView",
            "align_content": null,
            "align_items": null,
            "align_self": null,
            "border": null,
            "bottom": null,
            "display": null,
            "flex": null,
            "flex_flow": null,
            "grid_area": null,
            "grid_auto_columns": null,
            "grid_auto_flow": null,
            "grid_auto_rows": null,
            "grid_column": null,
            "grid_gap": null,
            "grid_row": null,
            "grid_template_areas": null,
            "grid_template_columns": null,
            "grid_template_rows": null,
            "height": null,
            "justify_content": null,
            "justify_items": null,
            "left": null,
            "margin": null,
            "max_height": null,
            "max_width": null,
            "min_height": null,
            "min_width": null,
            "object_fit": null,
            "object_position": null,
            "order": null,
            "overflow": null,
            "overflow_x": null,
            "overflow_y": null,
            "padding": null,
            "right": null,
            "top": null,
            "visibility": null,
            "width": null
          }
        },
        "982bde4bc33f4cee8e41865dc05d81c1": {
          "model_module": "@jupyter-widgets/base",
          "model_name": "LayoutModel",
          "model_module_version": "1.2.0",
          "state": {
            "_model_module": "@jupyter-widgets/base",
            "_model_module_version": "1.2.0",
            "_model_name": "LayoutModel",
            "_view_count": null,
            "_view_module": "@jupyter-widgets/base",
            "_view_module_version": "1.2.0",
            "_view_name": "LayoutView",
            "align_content": null,
            "align_items": null,
            "align_self": null,
            "border": null,
            "bottom": null,
            "display": null,
            "flex": null,
            "flex_flow": null,
            "grid_area": null,
            "grid_auto_columns": null,
            "grid_auto_flow": null,
            "grid_auto_rows": null,
            "grid_column": null,
            "grid_gap": null,
            "grid_row": null,
            "grid_template_areas": null,
            "grid_template_columns": null,
            "grid_template_rows": null,
            "height": null,
            "justify_content": null,
            "justify_items": null,
            "left": null,
            "margin": null,
            "max_height": null,
            "max_width": null,
            "min_height": null,
            "min_width": null,
            "object_fit": null,
            "object_position": null,
            "order": null,
            "overflow": null,
            "overflow_x": null,
            "overflow_y": null,
            "padding": null,
            "right": null,
            "top": null,
            "visibility": null,
            "width": null
          }
        },
        "98b0056dda934cfb87f90c3dc412f7ac": {
          "model_module": "@jupyter-widgets/controls",
          "model_name": "DescriptionStyleModel",
          "model_module_version": "1.5.0",
          "state": {
            "_model_module": "@jupyter-widgets/controls",
            "_model_module_version": "1.5.0",
            "_model_name": "DescriptionStyleModel",
            "_view_count": null,
            "_view_module": "@jupyter-widgets/base",
            "_view_module_version": "1.2.0",
            "_view_name": "StyleView",
            "description_width": ""
          }
        },
        "93515e456dfd4f58997cb95461bc6f05": {
          "model_module": "@jupyter-widgets/base",
          "model_name": "LayoutModel",
          "model_module_version": "1.2.0",
          "state": {
            "_model_module": "@jupyter-widgets/base",
            "_model_module_version": "1.2.0",
            "_model_name": "LayoutModel",
            "_view_count": null,
            "_view_module": "@jupyter-widgets/base",
            "_view_module_version": "1.2.0",
            "_view_name": "LayoutView",
            "align_content": null,
            "align_items": null,
            "align_self": null,
            "border": null,
            "bottom": null,
            "display": null,
            "flex": null,
            "flex_flow": null,
            "grid_area": null,
            "grid_auto_columns": null,
            "grid_auto_flow": null,
            "grid_auto_rows": null,
            "grid_column": null,
            "grid_gap": null,
            "grid_row": null,
            "grid_template_areas": null,
            "grid_template_columns": null,
            "grid_template_rows": null,
            "height": null,
            "justify_content": null,
            "justify_items": null,
            "left": null,
            "margin": null,
            "max_height": null,
            "max_width": null,
            "min_height": null,
            "min_width": null,
            "object_fit": null,
            "object_position": null,
            "order": null,
            "overflow": null,
            "overflow_x": null,
            "overflow_y": null,
            "padding": null,
            "right": null,
            "top": null,
            "visibility": null,
            "width": null
          }
        },
        "85256d0bcac44a6a8a14cb12b68c6f05": {
          "model_module": "@jupyter-widgets/controls",
          "model_name": "ProgressStyleModel",
          "model_module_version": "1.5.0",
          "state": {
            "_model_module": "@jupyter-widgets/controls",
            "_model_module_version": "1.5.0",
            "_model_name": "ProgressStyleModel",
            "_view_count": null,
            "_view_module": "@jupyter-widgets/base",
            "_view_module_version": "1.2.0",
            "_view_name": "StyleView",
            "bar_color": null,
            "description_width": ""
          }
        },
        "c1fd871acb4644ec9620c7be123e0e13": {
          "model_module": "@jupyter-widgets/base",
          "model_name": "LayoutModel",
          "model_module_version": "1.2.0",
          "state": {
            "_model_module": "@jupyter-widgets/base",
            "_model_module_version": "1.2.0",
            "_model_name": "LayoutModel",
            "_view_count": null,
            "_view_module": "@jupyter-widgets/base",
            "_view_module_version": "1.2.0",
            "_view_name": "LayoutView",
            "align_content": null,
            "align_items": null,
            "align_self": null,
            "border": null,
            "bottom": null,
            "display": null,
            "flex": null,
            "flex_flow": null,
            "grid_area": null,
            "grid_auto_columns": null,
            "grid_auto_flow": null,
            "grid_auto_rows": null,
            "grid_column": null,
            "grid_gap": null,
            "grid_row": null,
            "grid_template_areas": null,
            "grid_template_columns": null,
            "grid_template_rows": null,
            "height": null,
            "justify_content": null,
            "justify_items": null,
            "left": null,
            "margin": null,
            "max_height": null,
            "max_width": null,
            "min_height": null,
            "min_width": null,
            "object_fit": null,
            "object_position": null,
            "order": null,
            "overflow": null,
            "overflow_x": null,
            "overflow_y": null,
            "padding": null,
            "right": null,
            "top": null,
            "visibility": null,
            "width": null
          }
        },
        "49ac28456ace4a38a37ed2ed2ecd1411": {
          "model_module": "@jupyter-widgets/controls",
          "model_name": "DescriptionStyleModel",
          "model_module_version": "1.5.0",
          "state": {
            "_model_module": "@jupyter-widgets/controls",
            "_model_module_version": "1.5.0",
            "_model_name": "DescriptionStyleModel",
            "_view_count": null,
            "_view_module": "@jupyter-widgets/base",
            "_view_module_version": "1.2.0",
            "_view_name": "StyleView",
            "description_width": ""
          }
        },
        "b85622a71e76453bb4d591bd7bc14772": {
          "model_module": "@jupyter-widgets/controls",
          "model_name": "HBoxModel",
          "model_module_version": "1.5.0",
          "state": {
            "_dom_classes": [],
            "_model_module": "@jupyter-widgets/controls",
            "_model_module_version": "1.5.0",
            "_model_name": "HBoxModel",
            "_view_count": null,
            "_view_module": "@jupyter-widgets/controls",
            "_view_module_version": "1.5.0",
            "_view_name": "HBoxView",
            "box_style": "",
            "children": [
              "IPY_MODEL_926f4e189c3e4d27bcbe3d835faffe36",
              "IPY_MODEL_c5ec6988eff7442eb4938e0f33a23caa",
              "IPY_MODEL_6422980e8d244b3d8658bfe1404344ea"
            ],
            "layout": "IPY_MODEL_000967f73d6d481e9206eccf619d127b"
          }
        },
        "926f4e189c3e4d27bcbe3d835faffe36": {
          "model_module": "@jupyter-widgets/controls",
          "model_name": "HTMLModel",
          "model_module_version": "1.5.0",
          "state": {
            "_dom_classes": [],
            "_model_module": "@jupyter-widgets/controls",
            "_model_module_version": "1.5.0",
            "_model_name": "HTMLModel",
            "_view_count": null,
            "_view_module": "@jupyter-widgets/controls",
            "_view_module_version": "1.5.0",
            "_view_name": "HTMLView",
            "description": "",
            "description_tooltip": null,
            "layout": "IPY_MODEL_7a952eba1a4c4a68aca57b4ebc35029e",
            "placeholder": "​",
            "style": "IPY_MODEL_021f9b88b7e5412095fcf3246dfd80cb",
            "value": "Downloading (…)olve/main/vocab.json: 100%"
          }
        },
        "c5ec6988eff7442eb4938e0f33a23caa": {
          "model_module": "@jupyter-widgets/controls",
          "model_name": "FloatProgressModel",
          "model_module_version": "1.5.0",
          "state": {
            "_dom_classes": [],
            "_model_module": "@jupyter-widgets/controls",
            "_model_module_version": "1.5.0",
            "_model_name": "FloatProgressModel",
            "_view_count": null,
            "_view_module": "@jupyter-widgets/controls",
            "_view_module_version": "1.5.0",
            "_view_name": "ProgressView",
            "bar_style": "success",
            "description": "",
            "description_tooltip": null,
            "layout": "IPY_MODEL_d4c1eb0aa00b46cc963d2e12375b268e",
            "max": 1042301,
            "min": 0,
            "orientation": "horizontal",
            "style": "IPY_MODEL_58721decb7614fd088ee5809457b50c6",
            "value": 1042301
          }
        },
        "6422980e8d244b3d8658bfe1404344ea": {
          "model_module": "@jupyter-widgets/controls",
          "model_name": "HTMLModel",
          "model_module_version": "1.5.0",
          "state": {
            "_dom_classes": [],
            "_model_module": "@jupyter-widgets/controls",
            "_model_module_version": "1.5.0",
            "_model_name": "HTMLModel",
            "_view_count": null,
            "_view_module": "@jupyter-widgets/controls",
            "_view_module_version": "1.5.0",
            "_view_name": "HTMLView",
            "description": "",
            "description_tooltip": null,
            "layout": "IPY_MODEL_1ebbf94355424319a62b33899869419c",
            "placeholder": "​",
            "style": "IPY_MODEL_54cac20d47a04657a9fd0dece11a0346",
            "value": " 1.04M/1.04M [00:00&lt;00:00, 2.96MB/s]"
          }
        },
        "000967f73d6d481e9206eccf619d127b": {
          "model_module": "@jupyter-widgets/base",
          "model_name": "LayoutModel",
          "model_module_version": "1.2.0",
          "state": {
            "_model_module": "@jupyter-widgets/base",
            "_model_module_version": "1.2.0",
            "_model_name": "LayoutModel",
            "_view_count": null,
            "_view_module": "@jupyter-widgets/base",
            "_view_module_version": "1.2.0",
            "_view_name": "LayoutView",
            "align_content": null,
            "align_items": null,
            "align_self": null,
            "border": null,
            "bottom": null,
            "display": null,
            "flex": null,
            "flex_flow": null,
            "grid_area": null,
            "grid_auto_columns": null,
            "grid_auto_flow": null,
            "grid_auto_rows": null,
            "grid_column": null,
            "grid_gap": null,
            "grid_row": null,
            "grid_template_areas": null,
            "grid_template_columns": null,
            "grid_template_rows": null,
            "height": null,
            "justify_content": null,
            "justify_items": null,
            "left": null,
            "margin": null,
            "max_height": null,
            "max_width": null,
            "min_height": null,
            "min_width": null,
            "object_fit": null,
            "object_position": null,
            "order": null,
            "overflow": null,
            "overflow_x": null,
            "overflow_y": null,
            "padding": null,
            "right": null,
            "top": null,
            "visibility": null,
            "width": null
          }
        },
        "7a952eba1a4c4a68aca57b4ebc35029e": {
          "model_module": "@jupyter-widgets/base",
          "model_name": "LayoutModel",
          "model_module_version": "1.2.0",
          "state": {
            "_model_module": "@jupyter-widgets/base",
            "_model_module_version": "1.2.0",
            "_model_name": "LayoutModel",
            "_view_count": null,
            "_view_module": "@jupyter-widgets/base",
            "_view_module_version": "1.2.0",
            "_view_name": "LayoutView",
            "align_content": null,
            "align_items": null,
            "align_self": null,
            "border": null,
            "bottom": null,
            "display": null,
            "flex": null,
            "flex_flow": null,
            "grid_area": null,
            "grid_auto_columns": null,
            "grid_auto_flow": null,
            "grid_auto_rows": null,
            "grid_column": null,
            "grid_gap": null,
            "grid_row": null,
            "grid_template_areas": null,
            "grid_template_columns": null,
            "grid_template_rows": null,
            "height": null,
            "justify_content": null,
            "justify_items": null,
            "left": null,
            "margin": null,
            "max_height": null,
            "max_width": null,
            "min_height": null,
            "min_width": null,
            "object_fit": null,
            "object_position": null,
            "order": null,
            "overflow": null,
            "overflow_x": null,
            "overflow_y": null,
            "padding": null,
            "right": null,
            "top": null,
            "visibility": null,
            "width": null
          }
        },
        "021f9b88b7e5412095fcf3246dfd80cb": {
          "model_module": "@jupyter-widgets/controls",
          "model_name": "DescriptionStyleModel",
          "model_module_version": "1.5.0",
          "state": {
            "_model_module": "@jupyter-widgets/controls",
            "_model_module_version": "1.5.0",
            "_model_name": "DescriptionStyleModel",
            "_view_count": null,
            "_view_module": "@jupyter-widgets/base",
            "_view_module_version": "1.2.0",
            "_view_name": "StyleView",
            "description_width": ""
          }
        },
        "d4c1eb0aa00b46cc963d2e12375b268e": {
          "model_module": "@jupyter-widgets/base",
          "model_name": "LayoutModel",
          "model_module_version": "1.2.0",
          "state": {
            "_model_module": "@jupyter-widgets/base",
            "_model_module_version": "1.2.0",
            "_model_name": "LayoutModel",
            "_view_count": null,
            "_view_module": "@jupyter-widgets/base",
            "_view_module_version": "1.2.0",
            "_view_name": "LayoutView",
            "align_content": null,
            "align_items": null,
            "align_self": null,
            "border": null,
            "bottom": null,
            "display": null,
            "flex": null,
            "flex_flow": null,
            "grid_area": null,
            "grid_auto_columns": null,
            "grid_auto_flow": null,
            "grid_auto_rows": null,
            "grid_column": null,
            "grid_gap": null,
            "grid_row": null,
            "grid_template_areas": null,
            "grid_template_columns": null,
            "grid_template_rows": null,
            "height": null,
            "justify_content": null,
            "justify_items": null,
            "left": null,
            "margin": null,
            "max_height": null,
            "max_width": null,
            "min_height": null,
            "min_width": null,
            "object_fit": null,
            "object_position": null,
            "order": null,
            "overflow": null,
            "overflow_x": null,
            "overflow_y": null,
            "padding": null,
            "right": null,
            "top": null,
            "visibility": null,
            "width": null
          }
        },
        "58721decb7614fd088ee5809457b50c6": {
          "model_module": "@jupyter-widgets/controls",
          "model_name": "ProgressStyleModel",
          "model_module_version": "1.5.0",
          "state": {
            "_model_module": "@jupyter-widgets/controls",
            "_model_module_version": "1.5.0",
            "_model_name": "ProgressStyleModel",
            "_view_count": null,
            "_view_module": "@jupyter-widgets/base",
            "_view_module_version": "1.2.0",
            "_view_name": "StyleView",
            "bar_color": null,
            "description_width": ""
          }
        },
        "1ebbf94355424319a62b33899869419c": {
          "model_module": "@jupyter-widgets/base",
          "model_name": "LayoutModel",
          "model_module_version": "1.2.0",
          "state": {
            "_model_module": "@jupyter-widgets/base",
            "_model_module_version": "1.2.0",
            "_model_name": "LayoutModel",
            "_view_count": null,
            "_view_module": "@jupyter-widgets/base",
            "_view_module_version": "1.2.0",
            "_view_name": "LayoutView",
            "align_content": null,
            "align_items": null,
            "align_self": null,
            "border": null,
            "bottom": null,
            "display": null,
            "flex": null,
            "flex_flow": null,
            "grid_area": null,
            "grid_auto_columns": null,
            "grid_auto_flow": null,
            "grid_auto_rows": null,
            "grid_column": null,
            "grid_gap": null,
            "grid_row": null,
            "grid_template_areas": null,
            "grid_template_columns": null,
            "grid_template_rows": null,
            "height": null,
            "justify_content": null,
            "justify_items": null,
            "left": null,
            "margin": null,
            "max_height": null,
            "max_width": null,
            "min_height": null,
            "min_width": null,
            "object_fit": null,
            "object_position": null,
            "order": null,
            "overflow": null,
            "overflow_x": null,
            "overflow_y": null,
            "padding": null,
            "right": null,
            "top": null,
            "visibility": null,
            "width": null
          }
        },
        "54cac20d47a04657a9fd0dece11a0346": {
          "model_module": "@jupyter-widgets/controls",
          "model_name": "DescriptionStyleModel",
          "model_module_version": "1.5.0",
          "state": {
            "_model_module": "@jupyter-widgets/controls",
            "_model_module_version": "1.5.0",
            "_model_name": "DescriptionStyleModel",
            "_view_count": null,
            "_view_module": "@jupyter-widgets/base",
            "_view_module_version": "1.2.0",
            "_view_name": "StyleView",
            "description_width": ""
          }
        },
        "a33bf5eb79cd44e4995f9f9c3724927f": {
          "model_module": "@jupyter-widgets/controls",
          "model_name": "HBoxModel",
          "model_module_version": "1.5.0",
          "state": {
            "_dom_classes": [],
            "_model_module": "@jupyter-widgets/controls",
            "_model_module_version": "1.5.0",
            "_model_name": "HBoxModel",
            "_view_count": null,
            "_view_module": "@jupyter-widgets/controls",
            "_view_module_version": "1.5.0",
            "_view_name": "HBoxView",
            "box_style": "",
            "children": [
              "IPY_MODEL_d91921f594ea45f79d4b6c4df86410a8",
              "IPY_MODEL_52b43956d7ae465fa9b36eba967f0ce8",
              "IPY_MODEL_b919c730497d405a95bab47d252bc5f5"
            ],
            "layout": "IPY_MODEL_f9307030884a422ead00e98bca78344c"
          }
        },
        "d91921f594ea45f79d4b6c4df86410a8": {
          "model_module": "@jupyter-widgets/controls",
          "model_name": "HTMLModel",
          "model_module_version": "1.5.0",
          "state": {
            "_dom_classes": [],
            "_model_module": "@jupyter-widgets/controls",
            "_model_module_version": "1.5.0",
            "_model_name": "HTMLModel",
            "_view_count": null,
            "_view_module": "@jupyter-widgets/controls",
            "_view_module_version": "1.5.0",
            "_view_name": "HTMLView",
            "description": "",
            "description_tooltip": null,
            "layout": "IPY_MODEL_7c6adc9ff251470eaa4402ebd38ec10f",
            "placeholder": "​",
            "style": "IPY_MODEL_9e011a9f05384d08a05ebb2ef2e73839",
            "value": "Downloading (…)olve/main/merges.txt: 100%"
          }
        },
        "52b43956d7ae465fa9b36eba967f0ce8": {
          "model_module": "@jupyter-widgets/controls",
          "model_name": "FloatProgressModel",
          "model_module_version": "1.5.0",
          "state": {
            "_dom_classes": [],
            "_model_module": "@jupyter-widgets/controls",
            "_model_module_version": "1.5.0",
            "_model_name": "FloatProgressModel",
            "_view_count": null,
            "_view_module": "@jupyter-widgets/controls",
            "_view_module_version": "1.5.0",
            "_view_name": "ProgressView",
            "bar_style": "success",
            "description": "",
            "description_tooltip": null,
            "layout": "IPY_MODEL_9225c9d16996407a80cd2c6da85342e2",
            "max": 456318,
            "min": 0,
            "orientation": "horizontal",
            "style": "IPY_MODEL_85a592127df842a69791ce252c78bb38",
            "value": 456318
          }
        },
        "b919c730497d405a95bab47d252bc5f5": {
          "model_module": "@jupyter-widgets/controls",
          "model_name": "HTMLModel",
          "model_module_version": "1.5.0",
          "state": {
            "_dom_classes": [],
            "_model_module": "@jupyter-widgets/controls",
            "_model_module_version": "1.5.0",
            "_model_name": "HTMLModel",
            "_view_count": null,
            "_view_module": "@jupyter-widgets/controls",
            "_view_module_version": "1.5.0",
            "_view_name": "HTMLView",
            "description": "",
            "description_tooltip": null,
            "layout": "IPY_MODEL_6bb1a2cd3df343f193de7b0382dcec80",
            "placeholder": "​",
            "style": "IPY_MODEL_4b8200c29e714f96b30922fdc326697f",
            "value": " 456k/456k [00:00&lt;00:00, 1.23MB/s]"
          }
        },
        "f9307030884a422ead00e98bca78344c": {
          "model_module": "@jupyter-widgets/base",
          "model_name": "LayoutModel",
          "model_module_version": "1.2.0",
          "state": {
            "_model_module": "@jupyter-widgets/base",
            "_model_module_version": "1.2.0",
            "_model_name": "LayoutModel",
            "_view_count": null,
            "_view_module": "@jupyter-widgets/base",
            "_view_module_version": "1.2.0",
            "_view_name": "LayoutView",
            "align_content": null,
            "align_items": null,
            "align_self": null,
            "border": null,
            "bottom": null,
            "display": null,
            "flex": null,
            "flex_flow": null,
            "grid_area": null,
            "grid_auto_columns": null,
            "grid_auto_flow": null,
            "grid_auto_rows": null,
            "grid_column": null,
            "grid_gap": null,
            "grid_row": null,
            "grid_template_areas": null,
            "grid_template_columns": null,
            "grid_template_rows": null,
            "height": null,
            "justify_content": null,
            "justify_items": null,
            "left": null,
            "margin": null,
            "max_height": null,
            "max_width": null,
            "min_height": null,
            "min_width": null,
            "object_fit": null,
            "object_position": null,
            "order": null,
            "overflow": null,
            "overflow_x": null,
            "overflow_y": null,
            "padding": null,
            "right": null,
            "top": null,
            "visibility": null,
            "width": null
          }
        },
        "7c6adc9ff251470eaa4402ebd38ec10f": {
          "model_module": "@jupyter-widgets/base",
          "model_name": "LayoutModel",
          "model_module_version": "1.2.0",
          "state": {
            "_model_module": "@jupyter-widgets/base",
            "_model_module_version": "1.2.0",
            "_model_name": "LayoutModel",
            "_view_count": null,
            "_view_module": "@jupyter-widgets/base",
            "_view_module_version": "1.2.0",
            "_view_name": "LayoutView",
            "align_content": null,
            "align_items": null,
            "align_self": null,
            "border": null,
            "bottom": null,
            "display": null,
            "flex": null,
            "flex_flow": null,
            "grid_area": null,
            "grid_auto_columns": null,
            "grid_auto_flow": null,
            "grid_auto_rows": null,
            "grid_column": null,
            "grid_gap": null,
            "grid_row": null,
            "grid_template_areas": null,
            "grid_template_columns": null,
            "grid_template_rows": null,
            "height": null,
            "justify_content": null,
            "justify_items": null,
            "left": null,
            "margin": null,
            "max_height": null,
            "max_width": null,
            "min_height": null,
            "min_width": null,
            "object_fit": null,
            "object_position": null,
            "order": null,
            "overflow": null,
            "overflow_x": null,
            "overflow_y": null,
            "padding": null,
            "right": null,
            "top": null,
            "visibility": null,
            "width": null
          }
        },
        "9e011a9f05384d08a05ebb2ef2e73839": {
          "model_module": "@jupyter-widgets/controls",
          "model_name": "DescriptionStyleModel",
          "model_module_version": "1.5.0",
          "state": {
            "_model_module": "@jupyter-widgets/controls",
            "_model_module_version": "1.5.0",
            "_model_name": "DescriptionStyleModel",
            "_view_count": null,
            "_view_module": "@jupyter-widgets/base",
            "_view_module_version": "1.2.0",
            "_view_name": "StyleView",
            "description_width": ""
          }
        },
        "9225c9d16996407a80cd2c6da85342e2": {
          "model_module": "@jupyter-widgets/base",
          "model_name": "LayoutModel",
          "model_module_version": "1.2.0",
          "state": {
            "_model_module": "@jupyter-widgets/base",
            "_model_module_version": "1.2.0",
            "_model_name": "LayoutModel",
            "_view_count": null,
            "_view_module": "@jupyter-widgets/base",
            "_view_module_version": "1.2.0",
            "_view_name": "LayoutView",
            "align_content": null,
            "align_items": null,
            "align_self": null,
            "border": null,
            "bottom": null,
            "display": null,
            "flex": null,
            "flex_flow": null,
            "grid_area": null,
            "grid_auto_columns": null,
            "grid_auto_flow": null,
            "grid_auto_rows": null,
            "grid_column": null,
            "grid_gap": null,
            "grid_row": null,
            "grid_template_areas": null,
            "grid_template_columns": null,
            "grid_template_rows": null,
            "height": null,
            "justify_content": null,
            "justify_items": null,
            "left": null,
            "margin": null,
            "max_height": null,
            "max_width": null,
            "min_height": null,
            "min_width": null,
            "object_fit": null,
            "object_position": null,
            "order": null,
            "overflow": null,
            "overflow_x": null,
            "overflow_y": null,
            "padding": null,
            "right": null,
            "top": null,
            "visibility": null,
            "width": null
          }
        },
        "85a592127df842a69791ce252c78bb38": {
          "model_module": "@jupyter-widgets/controls",
          "model_name": "ProgressStyleModel",
          "model_module_version": "1.5.0",
          "state": {
            "_model_module": "@jupyter-widgets/controls",
            "_model_module_version": "1.5.0",
            "_model_name": "ProgressStyleModel",
            "_view_count": null,
            "_view_module": "@jupyter-widgets/base",
            "_view_module_version": "1.2.0",
            "_view_name": "StyleView",
            "bar_color": null,
            "description_width": ""
          }
        },
        "6bb1a2cd3df343f193de7b0382dcec80": {
          "model_module": "@jupyter-widgets/base",
          "model_name": "LayoutModel",
          "model_module_version": "1.2.0",
          "state": {
            "_model_module": "@jupyter-widgets/base",
            "_model_module_version": "1.2.0",
            "_model_name": "LayoutModel",
            "_view_count": null,
            "_view_module": "@jupyter-widgets/base",
            "_view_module_version": "1.2.0",
            "_view_name": "LayoutView",
            "align_content": null,
            "align_items": null,
            "align_self": null,
            "border": null,
            "bottom": null,
            "display": null,
            "flex": null,
            "flex_flow": null,
            "grid_area": null,
            "grid_auto_columns": null,
            "grid_auto_flow": null,
            "grid_auto_rows": null,
            "grid_column": null,
            "grid_gap": null,
            "grid_row": null,
            "grid_template_areas": null,
            "grid_template_columns": null,
            "grid_template_rows": null,
            "height": null,
            "justify_content": null,
            "justify_items": null,
            "left": null,
            "margin": null,
            "max_height": null,
            "max_width": null,
            "min_height": null,
            "min_width": null,
            "object_fit": null,
            "object_position": null,
            "order": null,
            "overflow": null,
            "overflow_x": null,
            "overflow_y": null,
            "padding": null,
            "right": null,
            "top": null,
            "visibility": null,
            "width": null
          }
        },
        "4b8200c29e714f96b30922fdc326697f": {
          "model_module": "@jupyter-widgets/controls",
          "model_name": "DescriptionStyleModel",
          "model_module_version": "1.5.0",
          "state": {
            "_model_module": "@jupyter-widgets/controls",
            "_model_module_version": "1.5.0",
            "_model_name": "DescriptionStyleModel",
            "_view_count": null,
            "_view_module": "@jupyter-widgets/base",
            "_view_module_version": "1.2.0",
            "_view_name": "StyleView",
            "description_width": ""
          }
        },
        "34efe519d83640dbb713f1fad4455468": {
          "model_module": "@jupyter-widgets/controls",
          "model_name": "HBoxModel",
          "model_module_version": "1.5.0",
          "state": {
            "_dom_classes": [],
            "_model_module": "@jupyter-widgets/controls",
            "_model_module_version": "1.5.0",
            "_model_name": "HBoxModel",
            "_view_count": null,
            "_view_module": "@jupyter-widgets/controls",
            "_view_module_version": "1.5.0",
            "_view_name": "HBoxView",
            "box_style": "",
            "children": [
              "IPY_MODEL_f4a99765ea9d48999225717eca3f0536",
              "IPY_MODEL_2f3d53d534d8443d8b545adbe68cebda",
              "IPY_MODEL_7bfccf5200be416ea96c216884585551"
            ],
            "layout": "IPY_MODEL_db3898a5052f4f2ba2d99d2a43b412da"
          }
        },
        "f4a99765ea9d48999225717eca3f0536": {
          "model_module": "@jupyter-widgets/controls",
          "model_name": "HTMLModel",
          "model_module_version": "1.5.0",
          "state": {
            "_dom_classes": [],
            "_model_module": "@jupyter-widgets/controls",
            "_model_module_version": "1.5.0",
            "_model_name": "HTMLModel",
            "_view_count": null,
            "_view_module": "@jupyter-widgets/controls",
            "_view_module_version": "1.5.0",
            "_view_name": "HTMLView",
            "description": "",
            "description_tooltip": null,
            "layout": "IPY_MODEL_02be2d2600ac4500aa88006cff60836a",
            "placeholder": "​",
            "style": "IPY_MODEL_936cd473b2cc4a038abc1a22a5e7aee8",
            "value": "Downloading (…)lve/main/config.json: 100%"
          }
        },
        "2f3d53d534d8443d8b545adbe68cebda": {
          "model_module": "@jupyter-widgets/controls",
          "model_name": "FloatProgressModel",
          "model_module_version": "1.5.0",
          "state": {
            "_dom_classes": [],
            "_model_module": "@jupyter-widgets/controls",
            "_model_module_version": "1.5.0",
            "_model_name": "FloatProgressModel",
            "_view_count": null,
            "_view_module": "@jupyter-widgets/controls",
            "_view_module_version": "1.5.0",
            "_view_name": "ProgressView",
            "bar_style": "success",
            "description": "",
            "description_tooltip": null,
            "layout": "IPY_MODEL_fef540eeafca49aeace12cc74127e86e",
            "max": 665,
            "min": 0,
            "orientation": "horizontal",
            "style": "IPY_MODEL_50e079cfe7df419d873eaab425c3ed5c",
            "value": 665
          }
        },
        "7bfccf5200be416ea96c216884585551": {
          "model_module": "@jupyter-widgets/controls",
          "model_name": "HTMLModel",
          "model_module_version": "1.5.0",
          "state": {
            "_dom_classes": [],
            "_model_module": "@jupyter-widgets/controls",
            "_model_module_version": "1.5.0",
            "_model_name": "HTMLModel",
            "_view_count": null,
            "_view_module": "@jupyter-widgets/controls",
            "_view_module_version": "1.5.0",
            "_view_name": "HTMLView",
            "description": "",
            "description_tooltip": null,
            "layout": "IPY_MODEL_dfd92cb6100d47ad95bcf7ee33715e50",
            "placeholder": "​",
            "style": "IPY_MODEL_62c13ed49d5e4da08df5e06a81c631fe",
            "value": " 665/665 [00:00&lt;00:00, 10.9kB/s]"
          }
        },
        "db3898a5052f4f2ba2d99d2a43b412da": {
          "model_module": "@jupyter-widgets/base",
          "model_name": "LayoutModel",
          "model_module_version": "1.2.0",
          "state": {
            "_model_module": "@jupyter-widgets/base",
            "_model_module_version": "1.2.0",
            "_model_name": "LayoutModel",
            "_view_count": null,
            "_view_module": "@jupyter-widgets/base",
            "_view_module_version": "1.2.0",
            "_view_name": "LayoutView",
            "align_content": null,
            "align_items": null,
            "align_self": null,
            "border": null,
            "bottom": null,
            "display": null,
            "flex": null,
            "flex_flow": null,
            "grid_area": null,
            "grid_auto_columns": null,
            "grid_auto_flow": null,
            "grid_auto_rows": null,
            "grid_column": null,
            "grid_gap": null,
            "grid_row": null,
            "grid_template_areas": null,
            "grid_template_columns": null,
            "grid_template_rows": null,
            "height": null,
            "justify_content": null,
            "justify_items": null,
            "left": null,
            "margin": null,
            "max_height": null,
            "max_width": null,
            "min_height": null,
            "min_width": null,
            "object_fit": null,
            "object_position": null,
            "order": null,
            "overflow": null,
            "overflow_x": null,
            "overflow_y": null,
            "padding": null,
            "right": null,
            "top": null,
            "visibility": null,
            "width": null
          }
        },
        "02be2d2600ac4500aa88006cff60836a": {
          "model_module": "@jupyter-widgets/base",
          "model_name": "LayoutModel",
          "model_module_version": "1.2.0",
          "state": {
            "_model_module": "@jupyter-widgets/base",
            "_model_module_version": "1.2.0",
            "_model_name": "LayoutModel",
            "_view_count": null,
            "_view_module": "@jupyter-widgets/base",
            "_view_module_version": "1.2.0",
            "_view_name": "LayoutView",
            "align_content": null,
            "align_items": null,
            "align_self": null,
            "border": null,
            "bottom": null,
            "display": null,
            "flex": null,
            "flex_flow": null,
            "grid_area": null,
            "grid_auto_columns": null,
            "grid_auto_flow": null,
            "grid_auto_rows": null,
            "grid_column": null,
            "grid_gap": null,
            "grid_row": null,
            "grid_template_areas": null,
            "grid_template_columns": null,
            "grid_template_rows": null,
            "height": null,
            "justify_content": null,
            "justify_items": null,
            "left": null,
            "margin": null,
            "max_height": null,
            "max_width": null,
            "min_height": null,
            "min_width": null,
            "object_fit": null,
            "object_position": null,
            "order": null,
            "overflow": null,
            "overflow_x": null,
            "overflow_y": null,
            "padding": null,
            "right": null,
            "top": null,
            "visibility": null,
            "width": null
          }
        },
        "936cd473b2cc4a038abc1a22a5e7aee8": {
          "model_module": "@jupyter-widgets/controls",
          "model_name": "DescriptionStyleModel",
          "model_module_version": "1.5.0",
          "state": {
            "_model_module": "@jupyter-widgets/controls",
            "_model_module_version": "1.5.0",
            "_model_name": "DescriptionStyleModel",
            "_view_count": null,
            "_view_module": "@jupyter-widgets/base",
            "_view_module_version": "1.2.0",
            "_view_name": "StyleView",
            "description_width": ""
          }
        },
        "fef540eeafca49aeace12cc74127e86e": {
          "model_module": "@jupyter-widgets/base",
          "model_name": "LayoutModel",
          "model_module_version": "1.2.0",
          "state": {
            "_model_module": "@jupyter-widgets/base",
            "_model_module_version": "1.2.0",
            "_model_name": "LayoutModel",
            "_view_count": null,
            "_view_module": "@jupyter-widgets/base",
            "_view_module_version": "1.2.0",
            "_view_name": "LayoutView",
            "align_content": null,
            "align_items": null,
            "align_self": null,
            "border": null,
            "bottom": null,
            "display": null,
            "flex": null,
            "flex_flow": null,
            "grid_area": null,
            "grid_auto_columns": null,
            "grid_auto_flow": null,
            "grid_auto_rows": null,
            "grid_column": null,
            "grid_gap": null,
            "grid_row": null,
            "grid_template_areas": null,
            "grid_template_columns": null,
            "grid_template_rows": null,
            "height": null,
            "justify_content": null,
            "justify_items": null,
            "left": null,
            "margin": null,
            "max_height": null,
            "max_width": null,
            "min_height": null,
            "min_width": null,
            "object_fit": null,
            "object_position": null,
            "order": null,
            "overflow": null,
            "overflow_x": null,
            "overflow_y": null,
            "padding": null,
            "right": null,
            "top": null,
            "visibility": null,
            "width": null
          }
        },
        "50e079cfe7df419d873eaab425c3ed5c": {
          "model_module": "@jupyter-widgets/controls",
          "model_name": "ProgressStyleModel",
          "model_module_version": "1.5.0",
          "state": {
            "_model_module": "@jupyter-widgets/controls",
            "_model_module_version": "1.5.0",
            "_model_name": "ProgressStyleModel",
            "_view_count": null,
            "_view_module": "@jupyter-widgets/base",
            "_view_module_version": "1.2.0",
            "_view_name": "StyleView",
            "bar_color": null,
            "description_width": ""
          }
        },
        "dfd92cb6100d47ad95bcf7ee33715e50": {
          "model_module": "@jupyter-widgets/base",
          "model_name": "LayoutModel",
          "model_module_version": "1.2.0",
          "state": {
            "_model_module": "@jupyter-widgets/base",
            "_model_module_version": "1.2.0",
            "_model_name": "LayoutModel",
            "_view_count": null,
            "_view_module": "@jupyter-widgets/base",
            "_view_module_version": "1.2.0",
            "_view_name": "LayoutView",
            "align_content": null,
            "align_items": null,
            "align_self": null,
            "border": null,
            "bottom": null,
            "display": null,
            "flex": null,
            "flex_flow": null,
            "grid_area": null,
            "grid_auto_columns": null,
            "grid_auto_flow": null,
            "grid_auto_rows": null,
            "grid_column": null,
            "grid_gap": null,
            "grid_row": null,
            "grid_template_areas": null,
            "grid_template_columns": null,
            "grid_template_rows": null,
            "height": null,
            "justify_content": null,
            "justify_items": null,
            "left": null,
            "margin": null,
            "max_height": null,
            "max_width": null,
            "min_height": null,
            "min_width": null,
            "object_fit": null,
            "object_position": null,
            "order": null,
            "overflow": null,
            "overflow_x": null,
            "overflow_y": null,
            "padding": null,
            "right": null,
            "top": null,
            "visibility": null,
            "width": null
          }
        },
        "62c13ed49d5e4da08df5e06a81c631fe": {
          "model_module": "@jupyter-widgets/controls",
          "model_name": "DescriptionStyleModel",
          "model_module_version": "1.5.0",
          "state": {
            "_model_module": "@jupyter-widgets/controls",
            "_model_module_version": "1.5.0",
            "_model_name": "DescriptionStyleModel",
            "_view_count": null,
            "_view_module": "@jupyter-widgets/base",
            "_view_module_version": "1.2.0",
            "_view_name": "StyleView",
            "description_width": ""
          }
        },
        "48e042e2cffe46eab4ab8d5408fbab1d": {
          "model_module": "@jupyter-widgets/controls",
          "model_name": "HBoxModel",
          "model_module_version": "1.5.0",
          "state": {
            "_dom_classes": [],
            "_model_module": "@jupyter-widgets/controls",
            "_model_module_version": "1.5.0",
            "_model_name": "HBoxModel",
            "_view_count": null,
            "_view_module": "@jupyter-widgets/controls",
            "_view_module_version": "1.5.0",
            "_view_name": "HBoxView",
            "box_style": "",
            "children": [
              "IPY_MODEL_d73db875d7044ab4aa2f1bcc559900e3",
              "IPY_MODEL_15159141d5e046bd831048cd26af70a5",
              "IPY_MODEL_825e659e7a774832b08ac13508a155c8"
            ],
            "layout": "IPY_MODEL_d283eafe5b7244a2a65a8b2d06f30e12"
          }
        },
        "d73db875d7044ab4aa2f1bcc559900e3": {
          "model_module": "@jupyter-widgets/controls",
          "model_name": "HTMLModel",
          "model_module_version": "1.5.0",
          "state": {
            "_dom_classes": [],
            "_model_module": "@jupyter-widgets/controls",
            "_model_module_version": "1.5.0",
            "_model_name": "HTMLModel",
            "_view_count": null,
            "_view_module": "@jupyter-widgets/controls",
            "_view_module_version": "1.5.0",
            "_view_name": "HTMLView",
            "description": "",
            "description_tooltip": null,
            "layout": "IPY_MODEL_3057b40d1d6c409eb5689a5399b46461",
            "placeholder": "​",
            "style": "IPY_MODEL_c0a2197c38754d1598dcb55699ab856f",
            "value": "100%"
          }
        },
        "15159141d5e046bd831048cd26af70a5": {
          "model_module": "@jupyter-widgets/controls",
          "model_name": "FloatProgressModel",
          "model_module_version": "1.5.0",
          "state": {
            "_dom_classes": [],
            "_model_module": "@jupyter-widgets/controls",
            "_model_module_version": "1.5.0",
            "_model_name": "FloatProgressModel",
            "_view_count": null,
            "_view_module": "@jupyter-widgets/controls",
            "_view_module_version": "1.5.0",
            "_view_name": "ProgressView",
            "bar_style": "success",
            "description": "",
            "description_tooltip": null,
            "layout": "IPY_MODEL_9f41c4b4036240a2b1dd82bcde9438df",
            "max": 2,
            "min": 0,
            "orientation": "horizontal",
            "style": "IPY_MODEL_a8a714c484e84c7ab469a63b4ed4ec5d",
            "value": 2
          }
        },
        "825e659e7a774832b08ac13508a155c8": {
          "model_module": "@jupyter-widgets/controls",
          "model_name": "HTMLModel",
          "model_module_version": "1.5.0",
          "state": {
            "_dom_classes": [],
            "_model_module": "@jupyter-widgets/controls",
            "_model_module_version": "1.5.0",
            "_model_name": "HTMLModel",
            "_view_count": null,
            "_view_module": "@jupyter-widgets/controls",
            "_view_module_version": "1.5.0",
            "_view_name": "HTMLView",
            "description": "",
            "description_tooltip": null,
            "layout": "IPY_MODEL_654dbbb433274de0a04ea886bf1a243e",
            "placeholder": "​",
            "style": "IPY_MODEL_5f4b87175f1540988385470ba7bab0ff",
            "value": " 2/2 [00:00&lt;00:00, 26.33it/s]"
          }
        },
        "d283eafe5b7244a2a65a8b2d06f30e12": {
          "model_module": "@jupyter-widgets/base",
          "model_name": "LayoutModel",
          "model_module_version": "1.2.0",
          "state": {
            "_model_module": "@jupyter-widgets/base",
            "_model_module_version": "1.2.0",
            "_model_name": "LayoutModel",
            "_view_count": null,
            "_view_module": "@jupyter-widgets/base",
            "_view_module_version": "1.2.0",
            "_view_name": "LayoutView",
            "align_content": null,
            "align_items": null,
            "align_self": null,
            "border": null,
            "bottom": null,
            "display": null,
            "flex": null,
            "flex_flow": null,
            "grid_area": null,
            "grid_auto_columns": null,
            "grid_auto_flow": null,
            "grid_auto_rows": null,
            "grid_column": null,
            "grid_gap": null,
            "grid_row": null,
            "grid_template_areas": null,
            "grid_template_columns": null,
            "grid_template_rows": null,
            "height": null,
            "justify_content": null,
            "justify_items": null,
            "left": null,
            "margin": null,
            "max_height": null,
            "max_width": null,
            "min_height": null,
            "min_width": null,
            "object_fit": null,
            "object_position": null,
            "order": null,
            "overflow": null,
            "overflow_x": null,
            "overflow_y": null,
            "padding": null,
            "right": null,
            "top": null,
            "visibility": null,
            "width": null
          }
        },
        "3057b40d1d6c409eb5689a5399b46461": {
          "model_module": "@jupyter-widgets/base",
          "model_name": "LayoutModel",
          "model_module_version": "1.2.0",
          "state": {
            "_model_module": "@jupyter-widgets/base",
            "_model_module_version": "1.2.0",
            "_model_name": "LayoutModel",
            "_view_count": null,
            "_view_module": "@jupyter-widgets/base",
            "_view_module_version": "1.2.0",
            "_view_name": "LayoutView",
            "align_content": null,
            "align_items": null,
            "align_self": null,
            "border": null,
            "bottom": null,
            "display": null,
            "flex": null,
            "flex_flow": null,
            "grid_area": null,
            "grid_auto_columns": null,
            "grid_auto_flow": null,
            "grid_auto_rows": null,
            "grid_column": null,
            "grid_gap": null,
            "grid_row": null,
            "grid_template_areas": null,
            "grid_template_columns": null,
            "grid_template_rows": null,
            "height": null,
            "justify_content": null,
            "justify_items": null,
            "left": null,
            "margin": null,
            "max_height": null,
            "max_width": null,
            "min_height": null,
            "min_width": null,
            "object_fit": null,
            "object_position": null,
            "order": null,
            "overflow": null,
            "overflow_x": null,
            "overflow_y": null,
            "padding": null,
            "right": null,
            "top": null,
            "visibility": null,
            "width": null
          }
        },
        "c0a2197c38754d1598dcb55699ab856f": {
          "model_module": "@jupyter-widgets/controls",
          "model_name": "DescriptionStyleModel",
          "model_module_version": "1.5.0",
          "state": {
            "_model_module": "@jupyter-widgets/controls",
            "_model_module_version": "1.5.0",
            "_model_name": "DescriptionStyleModel",
            "_view_count": null,
            "_view_module": "@jupyter-widgets/base",
            "_view_module_version": "1.2.0",
            "_view_name": "StyleView",
            "description_width": ""
          }
        },
        "9f41c4b4036240a2b1dd82bcde9438df": {
          "model_module": "@jupyter-widgets/base",
          "model_name": "LayoutModel",
          "model_module_version": "1.2.0",
          "state": {
            "_model_module": "@jupyter-widgets/base",
            "_model_module_version": "1.2.0",
            "_model_name": "LayoutModel",
            "_view_count": null,
            "_view_module": "@jupyter-widgets/base",
            "_view_module_version": "1.2.0",
            "_view_name": "LayoutView",
            "align_content": null,
            "align_items": null,
            "align_self": null,
            "border": null,
            "bottom": null,
            "display": null,
            "flex": null,
            "flex_flow": null,
            "grid_area": null,
            "grid_auto_columns": null,
            "grid_auto_flow": null,
            "grid_auto_rows": null,
            "grid_column": null,
            "grid_gap": null,
            "grid_row": null,
            "grid_template_areas": null,
            "grid_template_columns": null,
            "grid_template_rows": null,
            "height": null,
            "justify_content": null,
            "justify_items": null,
            "left": null,
            "margin": null,
            "max_height": null,
            "max_width": null,
            "min_height": null,
            "min_width": null,
            "object_fit": null,
            "object_position": null,
            "order": null,
            "overflow": null,
            "overflow_x": null,
            "overflow_y": null,
            "padding": null,
            "right": null,
            "top": null,
            "visibility": null,
            "width": null
          }
        },
        "a8a714c484e84c7ab469a63b4ed4ec5d": {
          "model_module": "@jupyter-widgets/controls",
          "model_name": "ProgressStyleModel",
          "model_module_version": "1.5.0",
          "state": {
            "_model_module": "@jupyter-widgets/controls",
            "_model_module_version": "1.5.0",
            "_model_name": "ProgressStyleModel",
            "_view_count": null,
            "_view_module": "@jupyter-widgets/base",
            "_view_module_version": "1.2.0",
            "_view_name": "StyleView",
            "bar_color": null,
            "description_width": ""
          }
        },
        "654dbbb433274de0a04ea886bf1a243e": {
          "model_module": "@jupyter-widgets/base",
          "model_name": "LayoutModel",
          "model_module_version": "1.2.0",
          "state": {
            "_model_module": "@jupyter-widgets/base",
            "_model_module_version": "1.2.0",
            "_model_name": "LayoutModel",
            "_view_count": null,
            "_view_module": "@jupyter-widgets/base",
            "_view_module_version": "1.2.0",
            "_view_name": "LayoutView",
            "align_content": null,
            "align_items": null,
            "align_self": null,
            "border": null,
            "bottom": null,
            "display": null,
            "flex": null,
            "flex_flow": null,
            "grid_area": null,
            "grid_auto_columns": null,
            "grid_auto_flow": null,
            "grid_auto_rows": null,
            "grid_column": null,
            "grid_gap": null,
            "grid_row": null,
            "grid_template_areas": null,
            "grid_template_columns": null,
            "grid_template_rows": null,
            "height": null,
            "justify_content": null,
            "justify_items": null,
            "left": null,
            "margin": null,
            "max_height": null,
            "max_width": null,
            "min_height": null,
            "min_width": null,
            "object_fit": null,
            "object_position": null,
            "order": null,
            "overflow": null,
            "overflow_x": null,
            "overflow_y": null,
            "padding": null,
            "right": null,
            "top": null,
            "visibility": null,
            "width": null
          }
        },
        "5f4b87175f1540988385470ba7bab0ff": {
          "model_module": "@jupyter-widgets/controls",
          "model_name": "DescriptionStyleModel",
          "model_module_version": "1.5.0",
          "state": {
            "_model_module": "@jupyter-widgets/controls",
            "_model_module_version": "1.5.0",
            "_model_name": "DescriptionStyleModel",
            "_view_count": null,
            "_view_module": "@jupyter-widgets/base",
            "_view_module_version": "1.2.0",
            "_view_name": "StyleView",
            "description_width": ""
          }
        }
      }
    }
  },
  "nbformat": 4,
  "nbformat_minor": 0
}